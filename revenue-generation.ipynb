{
 "cells": [
  {
   "cell_type": "markdown",
   "id": "f7dc7cb0",
   "metadata": {
    "papermill": {
     "duration": 0.046465,
     "end_time": "2021-10-26T10:46:40.149137",
     "exception": false,
     "start_time": "2021-10-26T10:46:40.102672",
     "status": "completed"
    },
    "tags": []
   },
   "source": [
    "## Introduction\n",
    "**This challenge is the capstone project of the Summer Analytics, a primer course on Data Science, conducted by Consulting and Analytics Club of IIT Guwahati in the summers.**\n",
    "\n",
    "**The dataset is provided by DeltaX is the pioneering cross-channel digital advertising platform. The cloud-based platform leverages big data, user behavior, and machine learning algorithms to improve performance across the business funnel of advertisers.**"
   ]
  },
  {
   "cell_type": "markdown",
   "id": "c44f0b68",
   "metadata": {
    "papermill": {
     "duration": 0.045211,
     "end_time": "2021-10-26T10:46:40.241235",
     "exception": false,
     "start_time": "2021-10-26T10:46:40.196024",
     "status": "completed"
    },
    "tags": []
   },
   "source": [
    "## Importing modules"
   ]
  },
  {
   "cell_type": "code",
   "execution_count": 1,
   "id": "26fbd4e2",
   "metadata": {
    "execution": {
     "iopub.execute_input": "2021-10-26T10:46:40.381265Z",
     "iopub.status.busy": "2021-10-26T10:46:40.380501Z",
     "iopub.status.idle": "2021-10-26T10:46:41.610029Z",
     "shell.execute_reply": "2021-10-26T10:46:41.609411Z"
    },
    "papermill": {
     "duration": 1.287391,
     "end_time": "2021-10-26T10:46:41.610175",
     "exception": false,
     "start_time": "2021-10-26T10:46:40.322784",
     "status": "completed"
    },
    "tags": []
   },
   "outputs": [],
   "source": [
    "import numpy as np\n",
    "import matplotlib.pyplot as plt\n",
    "import pandas as pd\n",
    "import seaborn as sns\n",
    "from sklearn.preprocessing import StandardScaler,LabelEncoder,MinMaxScaler\n",
    "from sklearn.linear_model import LinearRegression\n",
    "from sklearn.metrics import r2_score,mean_absolute_error,mean_squared_error\n",
    "from sklearn.model_selection import GridSearchCV\n",
    "from xgboost import XGBRegressor\n",
    "from sklearn.ensemble import RandomForestRegressor\n",
    "from matplotlib.pylab import rcParams\n",
    "rcParams['figure.figsize'] = 12,10\n"
   ]
  },
  {
   "cell_type": "markdown",
   "id": "3f99199c",
   "metadata": {
    "papermill": {
     "duration": 0.04476,
     "end_time": "2021-10-26T10:46:41.700821",
     "exception": false,
     "start_time": "2021-10-26T10:46:41.656061",
     "status": "completed"
    },
    "tags": []
   },
   "source": [
    "## Reading and exploring dataset"
   ]
  },
  {
   "cell_type": "code",
   "execution_count": 2,
   "id": "8b2a217e",
   "metadata": {
    "execution": {
     "iopub.execute_input": "2021-10-26T10:46:41.840247Z",
     "iopub.status.busy": "2021-10-26T10:46:41.839694Z",
     "iopub.status.idle": "2021-10-26T10:46:41.876247Z",
     "shell.execute_reply": "2021-10-26T10:46:41.875804Z"
    },
    "papermill": {
     "duration": 0.129935,
     "end_time": "2021-10-26T10:46:41.876364",
     "exception": false,
     "start_time": "2021-10-26T10:46:41.746429",
     "status": "completed"
    },
    "tags": []
   },
   "outputs": [],
   "source": [
    "train_df=pd.read_csv('../input/revenue-generated-by-advertisements/Train_Data.csv')\n",
    "test_df=pd.read_csv('../input/revenue-generated-by-advertisements/Test_Data.csv')"
   ]
  },
  {
   "cell_type": "code",
   "execution_count": 3,
   "id": "df6bcb39",
   "metadata": {
    "execution": {
     "iopub.execute_input": "2021-10-26T10:46:41.977135Z",
     "iopub.status.busy": "2021-10-26T10:46:41.976397Z",
     "iopub.status.idle": "2021-10-26T10:46:41.990110Z",
     "shell.execute_reply": "2021-10-26T10:46:41.990683Z"
    },
    "papermill": {
     "duration": 0.067904,
     "end_time": "2021-10-26T10:46:41.990830",
     "exception": false,
     "start_time": "2021-10-26T10:46:41.922926",
     "status": "completed"
    },
    "tags": []
   },
   "outputs": [
    {
     "data": {
      "text/html": [
       "<div>\n",
       "<style scoped>\n",
       "    .dataframe tbody tr th:only-of-type {\n",
       "        vertical-align: middle;\n",
       "    }\n",
       "\n",
       "    .dataframe tbody tr th {\n",
       "        vertical-align: top;\n",
       "    }\n",
       "\n",
       "    .dataframe thead th {\n",
       "        text-align: right;\n",
       "    }\n",
       "</style>\n",
       "<table border=\"1\" class=\"dataframe\">\n",
       "  <thead>\n",
       "    <tr style=\"text-align: right;\">\n",
       "      <th></th>\n",
       "      <th>date</th>\n",
       "      <th>campaign</th>\n",
       "      <th>adgroup</th>\n",
       "      <th>ad</th>\n",
       "      <th>impressions</th>\n",
       "      <th>clicks</th>\n",
       "      <th>cost</th>\n",
       "      <th>conversions</th>\n",
       "      <th>revenue</th>\n",
       "    </tr>\n",
       "  </thead>\n",
       "  <tbody>\n",
       "    <tr>\n",
       "      <th>0</th>\n",
       "      <td>01-08-2020</td>\n",
       "      <td>campaign 1</td>\n",
       "      <td>adgroup 1</td>\n",
       "      <td>ad 1</td>\n",
       "      <td>24</td>\n",
       "      <td>6</td>\n",
       "      <td>0.08</td>\n",
       "      <td>0</td>\n",
       "      <td>0.00</td>\n",
       "    </tr>\n",
       "    <tr>\n",
       "      <th>1</th>\n",
       "      <td>01-08-2020</td>\n",
       "      <td>campaign 1</td>\n",
       "      <td>adgroup 2</td>\n",
       "      <td>ad 1</td>\n",
       "      <td>1</td>\n",
       "      <td>0</td>\n",
       "      <td>0.00</td>\n",
       "      <td>0</td>\n",
       "      <td>0.00</td>\n",
       "    </tr>\n",
       "    <tr>\n",
       "      <th>2</th>\n",
       "      <td>01-08-2020</td>\n",
       "      <td>campaign 1</td>\n",
       "      <td>adgroup 3</td>\n",
       "      <td>ad 1</td>\n",
       "      <td>13</td>\n",
       "      <td>4</td>\n",
       "      <td>0.04</td>\n",
       "      <td>0</td>\n",
       "      <td>0.00</td>\n",
       "    </tr>\n",
       "    <tr>\n",
       "      <th>3</th>\n",
       "      <td>01-08-2020</td>\n",
       "      <td>campaign 1</td>\n",
       "      <td>adgroup 4</td>\n",
       "      <td>ad 1</td>\n",
       "      <td>5</td>\n",
       "      <td>4</td>\n",
       "      <td>0.08</td>\n",
       "      <td>0</td>\n",
       "      <td>0.00</td>\n",
       "    </tr>\n",
       "    <tr>\n",
       "      <th>4</th>\n",
       "      <td>01-08-2020</td>\n",
       "      <td>campaign 1</td>\n",
       "      <td>adgroup 1</td>\n",
       "      <td>ad 2</td>\n",
       "      <td>247</td>\n",
       "      <td>126</td>\n",
       "      <td>1.29</td>\n",
       "      <td>4</td>\n",
       "      <td>925.71</td>\n",
       "    </tr>\n",
       "  </tbody>\n",
       "</table>\n",
       "</div>"
      ],
      "text/plain": [
       "         date    campaign    adgroup    ad  impressions  clicks  cost  \\\n",
       "0  01-08-2020  campaign 1  adgroup 1  ad 1           24       6  0.08   \n",
       "1  01-08-2020  campaign 1  adgroup 2  ad 1            1       0  0.00   \n",
       "2  01-08-2020  campaign 1  adgroup 3  ad 1           13       4  0.04   \n",
       "3  01-08-2020  campaign 1  adgroup 4  ad 1            5       4  0.08   \n",
       "4  01-08-2020  campaign 1  adgroup 1  ad 2          247     126  1.29   \n",
       "\n",
       "   conversions  revenue  \n",
       "0            0     0.00  \n",
       "1            0     0.00  \n",
       "2            0     0.00  \n",
       "3            0     0.00  \n",
       "4            4   925.71  "
      ]
     },
     "execution_count": 3,
     "metadata": {},
     "output_type": "execute_result"
    }
   ],
   "source": [
    "train_df.head()"
   ]
  },
  {
   "cell_type": "code",
   "execution_count": 4,
   "id": "6a87dfc3",
   "metadata": {
    "execution": {
     "iopub.execute_input": "2021-10-26T10:46:42.094529Z",
     "iopub.status.busy": "2021-10-26T10:46:42.093891Z",
     "iopub.status.idle": "2021-10-26T10:46:42.096656Z",
     "shell.execute_reply": "2021-10-26T10:46:42.097102Z"
    },
    "papermill": {
     "duration": 0.059128,
     "end_time": "2021-10-26T10:46:42.097219",
     "exception": false,
     "start_time": "2021-10-26T10:46:42.038091",
     "status": "completed"
    },
    "tags": []
   },
   "outputs": [
    {
     "data": {
      "text/html": [
       "<div>\n",
       "<style scoped>\n",
       "    .dataframe tbody tr th:only-of-type {\n",
       "        vertical-align: middle;\n",
       "    }\n",
       "\n",
       "    .dataframe tbody tr th {\n",
       "        vertical-align: top;\n",
       "    }\n",
       "\n",
       "    .dataframe thead th {\n",
       "        text-align: right;\n",
       "    }\n",
       "</style>\n",
       "<table border=\"1\" class=\"dataframe\">\n",
       "  <thead>\n",
       "    <tr style=\"text-align: right;\">\n",
       "      <th></th>\n",
       "      <th>date</th>\n",
       "      <th>campaign</th>\n",
       "      <th>adgroup</th>\n",
       "      <th>ad</th>\n",
       "      <th>cost</th>\n",
       "      <th>impressions</th>\n",
       "      <th>clicks</th>\n",
       "      <th>conversions</th>\n",
       "    </tr>\n",
       "  </thead>\n",
       "  <tbody>\n",
       "    <tr>\n",
       "      <th>0</th>\n",
       "      <td>01-03-2021</td>\n",
       "      <td>campaign 1</td>\n",
       "      <td>adgroup 1</td>\n",
       "      <td>ad 1</td>\n",
       "      <td>0.58</td>\n",
       "      <td>121</td>\n",
       "      <td>49</td>\n",
       "      <td>1</td>\n",
       "    </tr>\n",
       "    <tr>\n",
       "      <th>1</th>\n",
       "      <td>01-03-2021</td>\n",
       "      <td>campaign 1</td>\n",
       "      <td>adgroup 3</td>\n",
       "      <td>ad 1</td>\n",
       "      <td>0.17</td>\n",
       "      <td>22</td>\n",
       "      <td>12</td>\n",
       "      <td>0</td>\n",
       "    </tr>\n",
       "    <tr>\n",
       "      <th>2</th>\n",
       "      <td>01-03-2021</td>\n",
       "      <td>campaign 1</td>\n",
       "      <td>adgroup 4</td>\n",
       "      <td>ad 1</td>\n",
       "      <td>0.05</td>\n",
       "      <td>5</td>\n",
       "      <td>3</td>\n",
       "      <td>0</td>\n",
       "    </tr>\n",
       "    <tr>\n",
       "      <th>3</th>\n",
       "      <td>01-03-2021</td>\n",
       "      <td>campaign 1</td>\n",
       "      <td>adgroup 2</td>\n",
       "      <td>ad 1</td>\n",
       "      <td>0.01</td>\n",
       "      <td>2</td>\n",
       "      <td>1</td>\n",
       "      <td>0</td>\n",
       "    </tr>\n",
       "    <tr>\n",
       "      <th>4</th>\n",
       "      <td>01-03-2021</td>\n",
       "      <td>campaign 1</td>\n",
       "      <td>adgroup 2</td>\n",
       "      <td>ad 2</td>\n",
       "      <td>0.01</td>\n",
       "      <td>3</td>\n",
       "      <td>1</td>\n",
       "      <td>0</td>\n",
       "    </tr>\n",
       "  </tbody>\n",
       "</table>\n",
       "</div>"
      ],
      "text/plain": [
       "         date    campaign    adgroup    ad  cost  impressions  clicks  \\\n",
       "0  01-03-2021  campaign 1  adgroup 1  ad 1  0.58          121      49   \n",
       "1  01-03-2021  campaign 1  adgroup 3  ad 1  0.17           22      12   \n",
       "2  01-03-2021  campaign 1  adgroup 4  ad 1  0.05            5       3   \n",
       "3  01-03-2021  campaign 1  adgroup 2  ad 1  0.01            2       1   \n",
       "4  01-03-2021  campaign 1  adgroup 2  ad 2  0.01            3       1   \n",
       "\n",
       "   conversions  \n",
       "0            1  \n",
       "1            0  \n",
       "2            0  \n",
       "3            0  \n",
       "4            0  "
      ]
     },
     "execution_count": 4,
     "metadata": {},
     "output_type": "execute_result"
    }
   ],
   "source": [
    "test_df.head()"
   ]
  },
  {
   "cell_type": "code",
   "execution_count": 5,
   "id": "13245d54",
   "metadata": {
    "execution": {
     "iopub.execute_input": "2021-10-26T10:46:42.193181Z",
     "iopub.status.busy": "2021-10-26T10:46:42.192388Z",
     "iopub.status.idle": "2021-10-26T10:46:42.197522Z",
     "shell.execute_reply": "2021-10-26T10:46:42.197090Z"
    },
    "papermill": {
     "duration": 0.053719,
     "end_time": "2021-10-26T10:46:42.197633",
     "exception": false,
     "start_time": "2021-10-26T10:46:42.143914",
     "status": "completed"
    },
    "tags": []
   },
   "outputs": [
    {
     "data": {
      "text/plain": [
       "((4571, 9), (318, 8))"
      ]
     },
     "execution_count": 5,
     "metadata": {},
     "output_type": "execute_result"
    }
   ],
   "source": [
    "train_df.shape,test_df.shape"
   ]
  },
  {
   "cell_type": "code",
   "execution_count": 6,
   "id": "a4b81bfe",
   "metadata": {
    "execution": {
     "iopub.execute_input": "2021-10-26T10:46:42.337717Z",
     "iopub.status.busy": "2021-10-26T10:46:42.336961Z",
     "iopub.status.idle": "2021-10-26T10:46:42.348666Z",
     "shell.execute_reply": "2021-10-26T10:46:42.349351Z"
    },
    "papermill": {
     "duration": 0.105741,
     "end_time": "2021-10-26T10:46:42.350289",
     "exception": false,
     "start_time": "2021-10-26T10:46:42.244548",
     "status": "completed"
    },
    "tags": []
   },
   "outputs": [],
   "source": [
    "# Adding test and traing flag so that we can split train/test data\n",
    "train_df['tst']=0\n",
    "test_df['tst']=1"
   ]
  },
  {
   "cell_type": "code",
   "execution_count": 7,
   "id": "d73c1a0b",
   "metadata": {
    "execution": {
     "iopub.execute_input": "2021-10-26T10:46:42.516474Z",
     "iopub.status.busy": "2021-10-26T10:46:42.514549Z",
     "iopub.status.idle": "2021-10-26T10:46:42.521903Z",
     "shell.execute_reply": "2021-10-26T10:46:42.522881Z"
    },
    "papermill": {
     "duration": 0.090665,
     "end_time": "2021-10-26T10:46:42.523057",
     "exception": false,
     "start_time": "2021-10-26T10:46:42.432392",
     "status": "completed"
    },
    "tags": []
   },
   "outputs": [],
   "source": [
    "# concatenating train and test data for data preprocessing\n",
    "data=pd.concat([train_df,test_df],axis=0,copy=True)\n",
    "data.head()\n",
    "df = data.copy()"
   ]
  },
  {
   "cell_type": "code",
   "execution_count": 8,
   "id": "0532b755",
   "metadata": {
    "execution": {
     "iopub.execute_input": "2021-10-26T10:46:42.685970Z",
     "iopub.status.busy": "2021-10-26T10:46:42.685180Z",
     "iopub.status.idle": "2021-10-26T10:46:42.720268Z",
     "shell.execute_reply": "2021-10-26T10:46:42.721334Z"
    },
    "papermill": {
     "duration": 0.122379,
     "end_time": "2021-10-26T10:46:42.721520",
     "exception": false,
     "start_time": "2021-10-26T10:46:42.599141",
     "status": "completed"
    },
    "tags": []
   },
   "outputs": [
    {
     "data": {
      "text/html": [
       "<div>\n",
       "<style scoped>\n",
       "    .dataframe tbody tr th:only-of-type {\n",
       "        vertical-align: middle;\n",
       "    }\n",
       "\n",
       "    .dataframe tbody tr th {\n",
       "        vertical-align: top;\n",
       "    }\n",
       "\n",
       "    .dataframe thead th {\n",
       "        text-align: right;\n",
       "    }\n",
       "</style>\n",
       "<table border=\"1\" class=\"dataframe\">\n",
       "  <thead>\n",
       "    <tr style=\"text-align: right;\">\n",
       "      <th></th>\n",
       "      <th>count</th>\n",
       "      <th>mean</th>\n",
       "      <th>std</th>\n",
       "      <th>min</th>\n",
       "      <th>25%</th>\n",
       "      <th>50%</th>\n",
       "      <th>75%</th>\n",
       "      <th>max</th>\n",
       "    </tr>\n",
       "  </thead>\n",
       "  <tbody>\n",
       "    <tr>\n",
       "      <th>impressions</th>\n",
       "      <td>4889.0</td>\n",
       "      <td>90.977705</td>\n",
       "      <td>193.610988</td>\n",
       "      <td>1.0</td>\n",
       "      <td>5.00</td>\n",
       "      <td>16.00</td>\n",
       "      <td>85.00</td>\n",
       "      <td>3239.00</td>\n",
       "    </tr>\n",
       "    <tr>\n",
       "      <th>clicks</th>\n",
       "      <td>4889.0</td>\n",
       "      <td>42.454899</td>\n",
       "      <td>97.591346</td>\n",
       "      <td>0.0</td>\n",
       "      <td>2.00</td>\n",
       "      <td>7.00</td>\n",
       "      <td>38.00</td>\n",
       "      <td>1771.00</td>\n",
       "    </tr>\n",
       "    <tr>\n",
       "      <th>cost</th>\n",
       "      <td>4889.0</td>\n",
       "      <td>2.643461</td>\n",
       "      <td>13.900229</td>\n",
       "      <td>0.0</td>\n",
       "      <td>0.04</td>\n",
       "      <td>0.19</td>\n",
       "      <td>1.26</td>\n",
       "      <td>531.25</td>\n",
       "    </tr>\n",
       "    <tr>\n",
       "      <th>conversions</th>\n",
       "      <td>4889.0</td>\n",
       "      <td>1.304357</td>\n",
       "      <td>5.073662</td>\n",
       "      <td>0.0</td>\n",
       "      <td>0.00</td>\n",
       "      <td>0.00</td>\n",
       "      <td>1.00</td>\n",
       "      <td>94.00</td>\n",
       "    </tr>\n",
       "    <tr>\n",
       "      <th>revenue</th>\n",
       "      <td>4571.0</td>\n",
       "      <td>231.865340</td>\n",
       "      <td>1091.742763</td>\n",
       "      <td>0.0</td>\n",
       "      <td>0.00</td>\n",
       "      <td>0.00</td>\n",
       "      <td>92.60</td>\n",
       "      <td>20515.41</td>\n",
       "    </tr>\n",
       "    <tr>\n",
       "      <th>tst</th>\n",
       "      <td>4889.0</td>\n",
       "      <td>0.065044</td>\n",
       "      <td>0.246629</td>\n",
       "      <td>0.0</td>\n",
       "      <td>0.00</td>\n",
       "      <td>0.00</td>\n",
       "      <td>0.00</td>\n",
       "      <td>1.00</td>\n",
       "    </tr>\n",
       "  </tbody>\n",
       "</table>\n",
       "</div>"
      ],
      "text/plain": [
       "              count        mean          std  min   25%    50%    75%  \\\n",
       "impressions  4889.0   90.977705   193.610988  1.0  5.00  16.00  85.00   \n",
       "clicks       4889.0   42.454899    97.591346  0.0  2.00   7.00  38.00   \n",
       "cost         4889.0    2.643461    13.900229  0.0  0.04   0.19   1.26   \n",
       "conversions  4889.0    1.304357     5.073662  0.0  0.00   0.00   1.00   \n",
       "revenue      4571.0  231.865340  1091.742763  0.0  0.00   0.00  92.60   \n",
       "tst          4889.0    0.065044     0.246629  0.0  0.00   0.00   0.00   \n",
       "\n",
       "                  max  \n",
       "impressions   3239.00  \n",
       "clicks        1771.00  \n",
       "cost           531.25  \n",
       "conversions     94.00  \n",
       "revenue      20515.41  \n",
       "tst              1.00  "
      ]
     },
     "execution_count": 8,
     "metadata": {},
     "output_type": "execute_result"
    }
   ],
   "source": [
    "df.describe().T"
   ]
  },
  {
   "cell_type": "code",
   "execution_count": 9,
   "id": "be52a699",
   "metadata": {
    "execution": {
     "iopub.execute_input": "2021-10-26T10:46:42.872706Z",
     "iopub.status.busy": "2021-10-26T10:46:42.872169Z",
     "iopub.status.idle": "2021-10-26T10:46:42.877001Z",
     "shell.execute_reply": "2021-10-26T10:46:42.877399Z"
    },
    "papermill": {
     "duration": 0.071282,
     "end_time": "2021-10-26T10:46:42.877542",
     "exception": false,
     "start_time": "2021-10-26T10:46:42.806260",
     "status": "completed"
    },
    "tags": []
   },
   "outputs": [
    {
     "data": {
      "text/plain": [
       "date             0\n",
       "campaign         0\n",
       "adgroup          0\n",
       "ad               0\n",
       "impressions      0\n",
       "clicks           0\n",
       "cost             0\n",
       "conversions      0\n",
       "revenue        318\n",
       "tst              0\n",
       "dtype: int64"
      ]
     },
     "execution_count": 9,
     "metadata": {},
     "output_type": "execute_result"
    }
   ],
   "source": [
    "df.isna().sum()"
   ]
  },
  {
   "cell_type": "code",
   "execution_count": 10,
   "id": "c9f609cf",
   "metadata": {
    "execution": {
     "iopub.execute_input": "2021-10-26T10:46:42.979957Z",
     "iopub.status.busy": "2021-10-26T10:46:42.979179Z",
     "iopub.status.idle": "2021-10-26T10:46:42.994604Z",
     "shell.execute_reply": "2021-10-26T10:46:42.994990Z"
    },
    "papermill": {
     "duration": 0.069166,
     "end_time": "2021-10-26T10:46:42.995112",
     "exception": false,
     "start_time": "2021-10-26T10:46:42.925946",
     "status": "completed"
    },
    "tags": []
   },
   "outputs": [
    {
     "data": {
      "text/html": [
       "<div>\n",
       "<style scoped>\n",
       "    .dataframe tbody tr th:only-of-type {\n",
       "        vertical-align: middle;\n",
       "    }\n",
       "\n",
       "    .dataframe tbody tr th {\n",
       "        vertical-align: top;\n",
       "    }\n",
       "\n",
       "    .dataframe thead th {\n",
       "        text-align: right;\n",
       "    }\n",
       "</style>\n",
       "<table border=\"1\" class=\"dataframe\">\n",
       "  <thead>\n",
       "    <tr style=\"text-align: right;\">\n",
       "      <th></th>\n",
       "      <th>date</th>\n",
       "      <th>campaign</th>\n",
       "      <th>adgroup</th>\n",
       "      <th>ad</th>\n",
       "      <th>impressions</th>\n",
       "      <th>clicks</th>\n",
       "      <th>cost</th>\n",
       "      <th>conversions</th>\n",
       "      <th>revenue</th>\n",
       "      <th>tst</th>\n",
       "    </tr>\n",
       "  </thead>\n",
       "  <tbody>\n",
       "    <tr>\n",
       "      <th>0</th>\n",
       "      <td>01-08-2020</td>\n",
       "      <td>campaign 1</td>\n",
       "      <td>adgroup 1</td>\n",
       "      <td>ad 1</td>\n",
       "      <td>24</td>\n",
       "      <td>6</td>\n",
       "      <td>0.08</td>\n",
       "      <td>0</td>\n",
       "      <td>0.00</td>\n",
       "      <td>0</td>\n",
       "    </tr>\n",
       "    <tr>\n",
       "      <th>1</th>\n",
       "      <td>01-08-2020</td>\n",
       "      <td>campaign 1</td>\n",
       "      <td>adgroup 2</td>\n",
       "      <td>ad 1</td>\n",
       "      <td>1</td>\n",
       "      <td>0</td>\n",
       "      <td>0.00</td>\n",
       "      <td>0</td>\n",
       "      <td>0.00</td>\n",
       "      <td>0</td>\n",
       "    </tr>\n",
       "    <tr>\n",
       "      <th>2</th>\n",
       "      <td>01-08-2020</td>\n",
       "      <td>campaign 1</td>\n",
       "      <td>adgroup 3</td>\n",
       "      <td>ad 1</td>\n",
       "      <td>13</td>\n",
       "      <td>4</td>\n",
       "      <td>0.04</td>\n",
       "      <td>0</td>\n",
       "      <td>0.00</td>\n",
       "      <td>0</td>\n",
       "    </tr>\n",
       "    <tr>\n",
       "      <th>3</th>\n",
       "      <td>01-08-2020</td>\n",
       "      <td>campaign 1</td>\n",
       "      <td>adgroup 4</td>\n",
       "      <td>ad 1</td>\n",
       "      <td>5</td>\n",
       "      <td>4</td>\n",
       "      <td>0.08</td>\n",
       "      <td>0</td>\n",
       "      <td>0.00</td>\n",
       "      <td>0</td>\n",
       "    </tr>\n",
       "    <tr>\n",
       "      <th>4</th>\n",
       "      <td>01-08-2020</td>\n",
       "      <td>campaign 1</td>\n",
       "      <td>adgroup 1</td>\n",
       "      <td>ad 2</td>\n",
       "      <td>247</td>\n",
       "      <td>126</td>\n",
       "      <td>1.29</td>\n",
       "      <td>4</td>\n",
       "      <td>925.71</td>\n",
       "      <td>0</td>\n",
       "    </tr>\n",
       "    <tr>\n",
       "      <th>...</th>\n",
       "      <td>...</td>\n",
       "      <td>...</td>\n",
       "      <td>...</td>\n",
       "      <td>...</td>\n",
       "      <td>...</td>\n",
       "      <td>...</td>\n",
       "      <td>...</td>\n",
       "      <td>...</td>\n",
       "      <td>...</td>\n",
       "      <td>...</td>\n",
       "    </tr>\n",
       "    <tr>\n",
       "      <th>313</th>\n",
       "      <td>15-03-2021</td>\n",
       "      <td>campaign 1</td>\n",
       "      <td>adgroup 4</td>\n",
       "      <td>ad 55</td>\n",
       "      <td>1</td>\n",
       "      <td>1</td>\n",
       "      <td>0.01</td>\n",
       "      <td>0</td>\n",
       "      <td>NaN</td>\n",
       "      <td>1</td>\n",
       "    </tr>\n",
       "    <tr>\n",
       "      <th>314</th>\n",
       "      <td>15-03-2021</td>\n",
       "      <td>campaign 1</td>\n",
       "      <td>adgroup 3</td>\n",
       "      <td>ad 55</td>\n",
       "      <td>5</td>\n",
       "      <td>1</td>\n",
       "      <td>0.01</td>\n",
       "      <td>0</td>\n",
       "      <td>NaN</td>\n",
       "      <td>1</td>\n",
       "    </tr>\n",
       "    <tr>\n",
       "      <th>315</th>\n",
       "      <td>15-03-2021</td>\n",
       "      <td>campaign 1</td>\n",
       "      <td>adgroup 1</td>\n",
       "      <td>ad 55</td>\n",
       "      <td>25</td>\n",
       "      <td>11</td>\n",
       "      <td>0.14</td>\n",
       "      <td>0</td>\n",
       "      <td>NaN</td>\n",
       "      <td>1</td>\n",
       "    </tr>\n",
       "    <tr>\n",
       "      <th>316</th>\n",
       "      <td>15-03-2021</td>\n",
       "      <td>campaign 1</td>\n",
       "      <td>adgroup 3</td>\n",
       "      <td>ad 56</td>\n",
       "      <td>9</td>\n",
       "      <td>4</td>\n",
       "      <td>0.06</td>\n",
       "      <td>0</td>\n",
       "      <td>NaN</td>\n",
       "      <td>1</td>\n",
       "    </tr>\n",
       "    <tr>\n",
       "      <th>317</th>\n",
       "      <td>15-03-2021</td>\n",
       "      <td>campaign 1</td>\n",
       "      <td>adgroup 1</td>\n",
       "      <td>ad 56</td>\n",
       "      <td>67</td>\n",
       "      <td>27</td>\n",
       "      <td>0.33</td>\n",
       "      <td>1</td>\n",
       "      <td>NaN</td>\n",
       "      <td>1</td>\n",
       "    </tr>\n",
       "  </tbody>\n",
       "</table>\n",
       "<p>4889 rows × 10 columns</p>\n",
       "</div>"
      ],
      "text/plain": [
       "           date    campaign    adgroup     ad  impressions  clicks  cost  \\\n",
       "0    01-08-2020  campaign 1  adgroup 1   ad 1           24       6  0.08   \n",
       "1    01-08-2020  campaign 1  adgroup 2   ad 1            1       0  0.00   \n",
       "2    01-08-2020  campaign 1  adgroup 3   ad 1           13       4  0.04   \n",
       "3    01-08-2020  campaign 1  adgroup 4   ad 1            5       4  0.08   \n",
       "4    01-08-2020  campaign 1  adgroup 1   ad 2          247     126  1.29   \n",
       "..          ...         ...        ...    ...          ...     ...   ...   \n",
       "313  15-03-2021  campaign 1  adgroup 4  ad 55            1       1  0.01   \n",
       "314  15-03-2021  campaign 1  adgroup 3  ad 55            5       1  0.01   \n",
       "315  15-03-2021  campaign 1  adgroup 1  ad 55           25      11  0.14   \n",
       "316  15-03-2021  campaign 1  adgroup 3  ad 56            9       4  0.06   \n",
       "317  15-03-2021  campaign 1  adgroup 1  ad 56           67      27  0.33   \n",
       "\n",
       "     conversions  revenue  tst  \n",
       "0              0     0.00    0  \n",
       "1              0     0.00    0  \n",
       "2              0     0.00    0  \n",
       "3              0     0.00    0  \n",
       "4              4   925.71    0  \n",
       "..           ...      ...  ...  \n",
       "313            0      NaN    1  \n",
       "314            0      NaN    1  \n",
       "315            0      NaN    1  \n",
       "316            0      NaN    1  \n",
       "317            1      NaN    1  \n",
       "\n",
       "[4889 rows x 10 columns]"
      ]
     },
     "execution_count": 10,
     "metadata": {},
     "output_type": "execute_result"
    }
   ],
   "source": [
    "df[(df.conversions==0) & (df.tst==0)].shape\n",
    "df"
   ]
  },
  {
   "cell_type": "markdown",
   "id": "44365b3a",
   "metadata": {
    "papermill": {
     "duration": 0.04817,
     "end_time": "2021-10-26T10:46:43.092777",
     "exception": false,
     "start_time": "2021-10-26T10:46:43.044607",
     "status": "completed"
    },
    "tags": []
   },
   "source": [
    "## Feature Engineering"
   ]
  },
  {
   "cell_type": "code",
   "execution_count": 11,
   "id": "afbcfc65",
   "metadata": {
    "execution": {
     "iopub.execute_input": "2021-10-26T10:46:43.208129Z",
     "iopub.status.busy": "2021-10-26T10:46:43.207340Z",
     "iopub.status.idle": "2021-10-26T10:46:43.225587Z",
     "shell.execute_reply": "2021-10-26T10:46:43.225131Z"
    },
    "papermill": {
     "duration": 0.084662,
     "end_time": "2021-10-26T10:46:43.225694",
     "exception": false,
     "start_time": "2021-10-26T10:46:43.141032",
     "status": "completed"
    },
    "tags": []
   },
   "outputs": [
    {
     "data": {
      "text/html": [
       "<div>\n",
       "<style scoped>\n",
       "    .dataframe tbody tr th:only-of-type {\n",
       "        vertical-align: middle;\n",
       "    }\n",
       "\n",
       "    .dataframe tbody tr th {\n",
       "        vertical-align: top;\n",
       "    }\n",
       "\n",
       "    .dataframe thead th {\n",
       "        text-align: right;\n",
       "    }\n",
       "</style>\n",
       "<table border=\"1\" class=\"dataframe\">\n",
       "  <thead>\n",
       "    <tr style=\"text-align: right;\">\n",
       "      <th></th>\n",
       "      <th>date</th>\n",
       "      <th>campaign</th>\n",
       "      <th>adgroup</th>\n",
       "      <th>ad</th>\n",
       "      <th>impressions</th>\n",
       "      <th>clicks</th>\n",
       "      <th>cost</th>\n",
       "      <th>conversions</th>\n",
       "      <th>revenue</th>\n",
       "      <th>tst</th>\n",
       "      <th>day</th>\n",
       "      <th>month</th>\n",
       "      <th>year</th>\n",
       "    </tr>\n",
       "  </thead>\n",
       "  <tbody>\n",
       "    <tr>\n",
       "      <th>0</th>\n",
       "      <td>01-08-2020</td>\n",
       "      <td>campaign 1</td>\n",
       "      <td>adgroup 1</td>\n",
       "      <td>ad 1</td>\n",
       "      <td>24</td>\n",
       "      <td>6</td>\n",
       "      <td>0.08</td>\n",
       "      <td>0</td>\n",
       "      <td>0.00</td>\n",
       "      <td>0</td>\n",
       "      <td>1</td>\n",
       "      <td>8</td>\n",
       "      <td>2020</td>\n",
       "    </tr>\n",
       "    <tr>\n",
       "      <th>1</th>\n",
       "      <td>01-08-2020</td>\n",
       "      <td>campaign 1</td>\n",
       "      <td>adgroup 2</td>\n",
       "      <td>ad 1</td>\n",
       "      <td>1</td>\n",
       "      <td>0</td>\n",
       "      <td>0.00</td>\n",
       "      <td>0</td>\n",
       "      <td>0.00</td>\n",
       "      <td>0</td>\n",
       "      <td>1</td>\n",
       "      <td>8</td>\n",
       "      <td>2020</td>\n",
       "    </tr>\n",
       "    <tr>\n",
       "      <th>2</th>\n",
       "      <td>01-08-2020</td>\n",
       "      <td>campaign 1</td>\n",
       "      <td>adgroup 3</td>\n",
       "      <td>ad 1</td>\n",
       "      <td>13</td>\n",
       "      <td>4</td>\n",
       "      <td>0.04</td>\n",
       "      <td>0</td>\n",
       "      <td>0.00</td>\n",
       "      <td>0</td>\n",
       "      <td>1</td>\n",
       "      <td>8</td>\n",
       "      <td>2020</td>\n",
       "    </tr>\n",
       "    <tr>\n",
       "      <th>3</th>\n",
       "      <td>01-08-2020</td>\n",
       "      <td>campaign 1</td>\n",
       "      <td>adgroup 4</td>\n",
       "      <td>ad 1</td>\n",
       "      <td>5</td>\n",
       "      <td>4</td>\n",
       "      <td>0.08</td>\n",
       "      <td>0</td>\n",
       "      <td>0.00</td>\n",
       "      <td>0</td>\n",
       "      <td>1</td>\n",
       "      <td>8</td>\n",
       "      <td>2020</td>\n",
       "    </tr>\n",
       "    <tr>\n",
       "      <th>4</th>\n",
       "      <td>01-08-2020</td>\n",
       "      <td>campaign 1</td>\n",
       "      <td>adgroup 1</td>\n",
       "      <td>ad 2</td>\n",
       "      <td>247</td>\n",
       "      <td>126</td>\n",
       "      <td>1.29</td>\n",
       "      <td>4</td>\n",
       "      <td>925.71</td>\n",
       "      <td>0</td>\n",
       "      <td>1</td>\n",
       "      <td>8</td>\n",
       "      <td>2020</td>\n",
       "    </tr>\n",
       "    <tr>\n",
       "      <th>...</th>\n",
       "      <td>...</td>\n",
       "      <td>...</td>\n",
       "      <td>...</td>\n",
       "      <td>...</td>\n",
       "      <td>...</td>\n",
       "      <td>...</td>\n",
       "      <td>...</td>\n",
       "      <td>...</td>\n",
       "      <td>...</td>\n",
       "      <td>...</td>\n",
       "      <td>...</td>\n",
       "      <td>...</td>\n",
       "      <td>...</td>\n",
       "    </tr>\n",
       "    <tr>\n",
       "      <th>313</th>\n",
       "      <td>15-03-2021</td>\n",
       "      <td>campaign 1</td>\n",
       "      <td>adgroup 4</td>\n",
       "      <td>ad 55</td>\n",
       "      <td>1</td>\n",
       "      <td>1</td>\n",
       "      <td>0.01</td>\n",
       "      <td>0</td>\n",
       "      <td>NaN</td>\n",
       "      <td>1</td>\n",
       "      <td>15</td>\n",
       "      <td>3</td>\n",
       "      <td>2021</td>\n",
       "    </tr>\n",
       "    <tr>\n",
       "      <th>314</th>\n",
       "      <td>15-03-2021</td>\n",
       "      <td>campaign 1</td>\n",
       "      <td>adgroup 3</td>\n",
       "      <td>ad 55</td>\n",
       "      <td>5</td>\n",
       "      <td>1</td>\n",
       "      <td>0.01</td>\n",
       "      <td>0</td>\n",
       "      <td>NaN</td>\n",
       "      <td>1</td>\n",
       "      <td>15</td>\n",
       "      <td>3</td>\n",
       "      <td>2021</td>\n",
       "    </tr>\n",
       "    <tr>\n",
       "      <th>315</th>\n",
       "      <td>15-03-2021</td>\n",
       "      <td>campaign 1</td>\n",
       "      <td>adgroup 1</td>\n",
       "      <td>ad 55</td>\n",
       "      <td>25</td>\n",
       "      <td>11</td>\n",
       "      <td>0.14</td>\n",
       "      <td>0</td>\n",
       "      <td>NaN</td>\n",
       "      <td>1</td>\n",
       "      <td>15</td>\n",
       "      <td>3</td>\n",
       "      <td>2021</td>\n",
       "    </tr>\n",
       "    <tr>\n",
       "      <th>316</th>\n",
       "      <td>15-03-2021</td>\n",
       "      <td>campaign 1</td>\n",
       "      <td>adgroup 3</td>\n",
       "      <td>ad 56</td>\n",
       "      <td>9</td>\n",
       "      <td>4</td>\n",
       "      <td>0.06</td>\n",
       "      <td>0</td>\n",
       "      <td>NaN</td>\n",
       "      <td>1</td>\n",
       "      <td>15</td>\n",
       "      <td>3</td>\n",
       "      <td>2021</td>\n",
       "    </tr>\n",
       "    <tr>\n",
       "      <th>317</th>\n",
       "      <td>15-03-2021</td>\n",
       "      <td>campaign 1</td>\n",
       "      <td>adgroup 1</td>\n",
       "      <td>ad 56</td>\n",
       "      <td>67</td>\n",
       "      <td>27</td>\n",
       "      <td>0.33</td>\n",
       "      <td>1</td>\n",
       "      <td>NaN</td>\n",
       "      <td>1</td>\n",
       "      <td>15</td>\n",
       "      <td>3</td>\n",
       "      <td>2021</td>\n",
       "    </tr>\n",
       "  </tbody>\n",
       "</table>\n",
       "<p>4889 rows × 13 columns</p>\n",
       "</div>"
      ],
      "text/plain": [
       "           date    campaign    adgroup     ad  impressions  clicks  cost  \\\n",
       "0    01-08-2020  campaign 1  adgroup 1   ad 1           24       6  0.08   \n",
       "1    01-08-2020  campaign 1  adgroup 2   ad 1            1       0  0.00   \n",
       "2    01-08-2020  campaign 1  adgroup 3   ad 1           13       4  0.04   \n",
       "3    01-08-2020  campaign 1  adgroup 4   ad 1            5       4  0.08   \n",
       "4    01-08-2020  campaign 1  adgroup 1   ad 2          247     126  1.29   \n",
       "..          ...         ...        ...    ...          ...     ...   ...   \n",
       "313  15-03-2021  campaign 1  adgroup 4  ad 55            1       1  0.01   \n",
       "314  15-03-2021  campaign 1  adgroup 3  ad 55            5       1  0.01   \n",
       "315  15-03-2021  campaign 1  adgroup 1  ad 55           25      11  0.14   \n",
       "316  15-03-2021  campaign 1  adgroup 3  ad 56            9       4  0.06   \n",
       "317  15-03-2021  campaign 1  adgroup 1  ad 56           67      27  0.33   \n",
       "\n",
       "     conversions  revenue  tst  day  month  year  \n",
       "0              0     0.00    0    1      8  2020  \n",
       "1              0     0.00    0    1      8  2020  \n",
       "2              0     0.00    0    1      8  2020  \n",
       "3              0     0.00    0    1      8  2020  \n",
       "4              4   925.71    0    1      8  2020  \n",
       "..           ...      ...  ...  ...    ...   ...  \n",
       "313            0      NaN    1   15      3  2021  \n",
       "314            0      NaN    1   15      3  2021  \n",
       "315            0      NaN    1   15      3  2021  \n",
       "316            0      NaN    1   15      3  2021  \n",
       "317            1      NaN    1   15      3  2021  \n",
       "\n",
       "[4889 rows x 13 columns]"
      ]
     },
     "execution_count": 11,
     "metadata": {},
     "output_type": "execute_result"
    }
   ],
   "source": [
    "data['day']=data['date'].apply(lambda x:x[0:2]).astype(int)\n",
    "\n",
    "data['month']=data['date'].apply(lambda x:x[3:5]).astype(int)\n",
    "\n",
    "data['year']=pd.DatetimeIndex(data['date']).year\n",
    "data"
   ]
  },
  {
   "cell_type": "code",
   "execution_count": 12,
   "id": "84272ca1",
   "metadata": {
    "execution": {
     "iopub.execute_input": "2021-10-26T10:46:43.334039Z",
     "iopub.status.busy": "2021-10-26T10:46:43.333227Z",
     "iopub.status.idle": "2021-10-26T10:46:43.351016Z",
     "shell.execute_reply": "2021-10-26T10:46:43.351528Z"
    },
    "papermill": {
     "duration": 0.073165,
     "end_time": "2021-10-26T10:46:43.351695",
     "exception": false,
     "start_time": "2021-10-26T10:46:43.278530",
     "status": "completed"
    },
    "tags": []
   },
   "outputs": [
    {
     "data": {
      "text/html": [
       "<div>\n",
       "<style scoped>\n",
       "    .dataframe tbody tr th:only-of-type {\n",
       "        vertical-align: middle;\n",
       "    }\n",
       "\n",
       "    .dataframe tbody tr th {\n",
       "        vertical-align: top;\n",
       "    }\n",
       "\n",
       "    .dataframe thead th {\n",
       "        text-align: right;\n",
       "    }\n",
       "</style>\n",
       "<table border=\"1\" class=\"dataframe\">\n",
       "  <thead>\n",
       "    <tr style=\"text-align: right;\">\n",
       "      <th></th>\n",
       "      <th>date</th>\n",
       "      <th>campaign</th>\n",
       "      <th>adgroup</th>\n",
       "      <th>ad</th>\n",
       "      <th>impressions</th>\n",
       "      <th>clicks</th>\n",
       "      <th>cost</th>\n",
       "      <th>conversions</th>\n",
       "      <th>revenue</th>\n",
       "      <th>tst</th>\n",
       "      <th>day</th>\n",
       "      <th>month</th>\n",
       "      <th>year</th>\n",
       "    </tr>\n",
       "  </thead>\n",
       "  <tbody>\n",
       "    <tr>\n",
       "      <th>0</th>\n",
       "      <td>01-08-2020</td>\n",
       "      <td>campaign 1</td>\n",
       "      <td>adgroup 1</td>\n",
       "      <td>ad 1</td>\n",
       "      <td>24</td>\n",
       "      <td>6</td>\n",
       "      <td>0.08</td>\n",
       "      <td>0</td>\n",
       "      <td>0.00</td>\n",
       "      <td>0</td>\n",
       "      <td>1</td>\n",
       "      <td>8</td>\n",
       "      <td>2020</td>\n",
       "    </tr>\n",
       "    <tr>\n",
       "      <th>1</th>\n",
       "      <td>01-08-2020</td>\n",
       "      <td>campaign 1</td>\n",
       "      <td>adgroup 2</td>\n",
       "      <td>ad 1</td>\n",
       "      <td>1</td>\n",
       "      <td>0</td>\n",
       "      <td>0.00</td>\n",
       "      <td>0</td>\n",
       "      <td>0.00</td>\n",
       "      <td>0</td>\n",
       "      <td>1</td>\n",
       "      <td>8</td>\n",
       "      <td>2020</td>\n",
       "    </tr>\n",
       "    <tr>\n",
       "      <th>2</th>\n",
       "      <td>01-08-2020</td>\n",
       "      <td>campaign 1</td>\n",
       "      <td>adgroup 3</td>\n",
       "      <td>ad 1</td>\n",
       "      <td>13</td>\n",
       "      <td>4</td>\n",
       "      <td>0.04</td>\n",
       "      <td>0</td>\n",
       "      <td>0.00</td>\n",
       "      <td>0</td>\n",
       "      <td>1</td>\n",
       "      <td>8</td>\n",
       "      <td>2020</td>\n",
       "    </tr>\n",
       "    <tr>\n",
       "      <th>3</th>\n",
       "      <td>01-08-2020</td>\n",
       "      <td>campaign 1</td>\n",
       "      <td>adgroup 4</td>\n",
       "      <td>ad 1</td>\n",
       "      <td>5</td>\n",
       "      <td>4</td>\n",
       "      <td>0.08</td>\n",
       "      <td>0</td>\n",
       "      <td>0.00</td>\n",
       "      <td>0</td>\n",
       "      <td>1</td>\n",
       "      <td>8</td>\n",
       "      <td>2020</td>\n",
       "    </tr>\n",
       "    <tr>\n",
       "      <th>4</th>\n",
       "      <td>01-08-2020</td>\n",
       "      <td>campaign 1</td>\n",
       "      <td>adgroup 1</td>\n",
       "      <td>ad 2</td>\n",
       "      <td>247</td>\n",
       "      <td>126</td>\n",
       "      <td>1.29</td>\n",
       "      <td>4</td>\n",
       "      <td>925.71</td>\n",
       "      <td>0</td>\n",
       "      <td>1</td>\n",
       "      <td>8</td>\n",
       "      <td>2020</td>\n",
       "    </tr>\n",
       "    <tr>\n",
       "      <th>...</th>\n",
       "      <td>...</td>\n",
       "      <td>...</td>\n",
       "      <td>...</td>\n",
       "      <td>...</td>\n",
       "      <td>...</td>\n",
       "      <td>...</td>\n",
       "      <td>...</td>\n",
       "      <td>...</td>\n",
       "      <td>...</td>\n",
       "      <td>...</td>\n",
       "      <td>...</td>\n",
       "      <td>...</td>\n",
       "      <td>...</td>\n",
       "    </tr>\n",
       "    <tr>\n",
       "      <th>313</th>\n",
       "      <td>15-03-2021</td>\n",
       "      <td>campaign 1</td>\n",
       "      <td>adgroup 4</td>\n",
       "      <td>ad 55</td>\n",
       "      <td>1</td>\n",
       "      <td>1</td>\n",
       "      <td>0.01</td>\n",
       "      <td>0</td>\n",
       "      <td>NaN</td>\n",
       "      <td>1</td>\n",
       "      <td>15</td>\n",
       "      <td>3</td>\n",
       "      <td>2021</td>\n",
       "    </tr>\n",
       "    <tr>\n",
       "      <th>314</th>\n",
       "      <td>15-03-2021</td>\n",
       "      <td>campaign 1</td>\n",
       "      <td>adgroup 3</td>\n",
       "      <td>ad 55</td>\n",
       "      <td>5</td>\n",
       "      <td>1</td>\n",
       "      <td>0.01</td>\n",
       "      <td>0</td>\n",
       "      <td>NaN</td>\n",
       "      <td>1</td>\n",
       "      <td>15</td>\n",
       "      <td>3</td>\n",
       "      <td>2021</td>\n",
       "    </tr>\n",
       "    <tr>\n",
       "      <th>315</th>\n",
       "      <td>15-03-2021</td>\n",
       "      <td>campaign 1</td>\n",
       "      <td>adgroup 1</td>\n",
       "      <td>ad 55</td>\n",
       "      <td>25</td>\n",
       "      <td>11</td>\n",
       "      <td>0.14</td>\n",
       "      <td>0</td>\n",
       "      <td>NaN</td>\n",
       "      <td>1</td>\n",
       "      <td>15</td>\n",
       "      <td>3</td>\n",
       "      <td>2021</td>\n",
       "    </tr>\n",
       "    <tr>\n",
       "      <th>316</th>\n",
       "      <td>15-03-2021</td>\n",
       "      <td>campaign 1</td>\n",
       "      <td>adgroup 3</td>\n",
       "      <td>ad 56</td>\n",
       "      <td>9</td>\n",
       "      <td>4</td>\n",
       "      <td>0.06</td>\n",
       "      <td>0</td>\n",
       "      <td>NaN</td>\n",
       "      <td>1</td>\n",
       "      <td>15</td>\n",
       "      <td>3</td>\n",
       "      <td>2021</td>\n",
       "    </tr>\n",
       "    <tr>\n",
       "      <th>317</th>\n",
       "      <td>15-03-2021</td>\n",
       "      <td>campaign 1</td>\n",
       "      <td>adgroup 1</td>\n",
       "      <td>ad 56</td>\n",
       "      <td>67</td>\n",
       "      <td>27</td>\n",
       "      <td>0.33</td>\n",
       "      <td>1</td>\n",
       "      <td>NaN</td>\n",
       "      <td>1</td>\n",
       "      <td>15</td>\n",
       "      <td>3</td>\n",
       "      <td>2021</td>\n",
       "    </tr>\n",
       "  </tbody>\n",
       "</table>\n",
       "<p>4889 rows × 13 columns</p>\n",
       "</div>"
      ],
      "text/plain": [
       "           date    campaign    adgroup     ad  impressions  clicks  cost  \\\n",
       "0    01-08-2020  campaign 1  adgroup 1   ad 1           24       6  0.08   \n",
       "1    01-08-2020  campaign 1  adgroup 2   ad 1            1       0  0.00   \n",
       "2    01-08-2020  campaign 1  adgroup 3   ad 1           13       4  0.04   \n",
       "3    01-08-2020  campaign 1  adgroup 4   ad 1            5       4  0.08   \n",
       "4    01-08-2020  campaign 1  adgroup 1   ad 2          247     126  1.29   \n",
       "..          ...         ...        ...    ...          ...     ...   ...   \n",
       "313  15-03-2021  campaign 1  adgroup 4  ad 55            1       1  0.01   \n",
       "314  15-03-2021  campaign 1  adgroup 3  ad 55            5       1  0.01   \n",
       "315  15-03-2021  campaign 1  adgroup 1  ad 55           25      11  0.14   \n",
       "316  15-03-2021  campaign 1  adgroup 3  ad 56            9       4  0.06   \n",
       "317  15-03-2021  campaign 1  adgroup 1  ad 56           67      27  0.33   \n",
       "\n",
       "     conversions  revenue  tst  day  month  year  \n",
       "0              0     0.00    0    1      8  2020  \n",
       "1              0     0.00    0    1      8  2020  \n",
       "2              0     0.00    0    1      8  2020  \n",
       "3              0     0.00    0    1      8  2020  \n",
       "4              4   925.71    0    1      8  2020  \n",
       "..           ...      ...  ...  ...    ...   ...  \n",
       "313            0      NaN    1   15      3  2021  \n",
       "314            0      NaN    1   15      3  2021  \n",
       "315            0      NaN    1   15      3  2021  \n",
       "316            0      NaN    1   15      3  2021  \n",
       "317            1      NaN    1   15      3  2021  \n",
       "\n",
       "[4889 rows x 13 columns]"
      ]
     },
     "execution_count": 12,
     "metadata": {},
     "output_type": "execute_result"
    }
   ],
   "source": [
    "data.shape\n",
    "df=data.copy()\n",
    "df"
   ]
  },
  {
   "cell_type": "code",
   "execution_count": 13,
   "id": "1784324b",
   "metadata": {
    "execution": {
     "iopub.execute_input": "2021-10-26T10:46:43.467695Z",
     "iopub.status.busy": "2021-10-26T10:46:43.467148Z",
     "iopub.status.idle": "2021-10-26T10:46:43.470474Z",
     "shell.execute_reply": "2021-10-26T10:46:43.470941Z"
    },
    "papermill": {
     "duration": 0.059241,
     "end_time": "2021-10-26T10:46:43.471069",
     "exception": false,
     "start_time": "2021-10-26T10:46:43.411828",
     "status": "completed"
    },
    "tags": []
   },
   "outputs": [],
   "source": [
    "#df['date'] = pd.to_datetime(df.date,format='%d-%m-%Y')\n",
    "#df.index = df['date']"
   ]
  },
  {
   "cell_type": "code",
   "execution_count": 14,
   "id": "c9c85c35",
   "metadata": {
    "execution": {
     "iopub.execute_input": "2021-10-26T10:46:43.578463Z",
     "iopub.status.busy": "2021-10-26T10:46:43.577699Z",
     "iopub.status.idle": "2021-10-26T10:46:43.583367Z",
     "shell.execute_reply": "2021-10-26T10:46:43.582905Z"
    },
    "papermill": {
     "duration": 0.061105,
     "end_time": "2021-10-26T10:46:43.583469",
     "exception": false,
     "start_time": "2021-10-26T10:46:43.522364",
     "status": "completed"
    },
    "tags": []
   },
   "outputs": [],
   "source": [
    "df['CPC']=df.cost.divide(df.clicks).replace(np.inf,0).replace(np.nan,0)\n",
    "df['CTR']=df.clicks.divide(df.impressions).replace(np.inf,0).replace(np.nan,0)\n",
    "df['COA']=df.cost.divide(df.conversions).replace(np.inf,0).replace(np.nan,0)\n"
   ]
  },
  {
   "cell_type": "code",
   "execution_count": 15,
   "id": "92a7a2ff",
   "metadata": {
    "execution": {
     "iopub.execute_input": "2021-10-26T10:46:43.687220Z",
     "iopub.status.busy": "2021-10-26T10:46:43.686524Z",
     "iopub.status.idle": "2021-10-26T10:46:43.689043Z",
     "shell.execute_reply": "2021-10-26T10:46:43.688595Z"
    },
    "papermill": {
     "duration": 0.055274,
     "end_time": "2021-10-26T10:46:43.689145",
     "exception": false,
     "start_time": "2021-10-26T10:46:43.633871",
     "status": "completed"
    },
    "tags": []
   },
   "outputs": [],
   "source": [
    "# don't run this\n",
    "# df.drop(columns=['date'],axis=1,inplace=True)\n",
    "# df['ROI']=df[df.tst==0].revenue.divide(df[df.tst==0].cost).replace(np.inf,0).replace(np.nan,0)"
   ]
  },
  {
   "cell_type": "code",
   "execution_count": 16,
   "id": "b5cce923",
   "metadata": {
    "execution": {
     "iopub.execute_input": "2021-10-26T10:46:43.796167Z",
     "iopub.status.busy": "2021-10-26T10:46:43.795395Z",
     "iopub.status.idle": "2021-10-26T10:46:43.825112Z",
     "shell.execute_reply": "2021-10-26T10:46:43.824599Z"
    },
    "papermill": {
     "duration": 0.085358,
     "end_time": "2021-10-26T10:46:43.825225",
     "exception": false,
     "start_time": "2021-10-26T10:46:43.739867",
     "status": "completed"
    },
    "tags": []
   },
   "outputs": [
    {
     "data": {
      "text/html": [
       "<div>\n",
       "<style scoped>\n",
       "    .dataframe tbody tr th:only-of-type {\n",
       "        vertical-align: middle;\n",
       "    }\n",
       "\n",
       "    .dataframe tbody tr th {\n",
       "        vertical-align: top;\n",
       "    }\n",
       "\n",
       "    .dataframe thead th {\n",
       "        text-align: right;\n",
       "    }\n",
       "</style>\n",
       "<table border=\"1\" class=\"dataframe\">\n",
       "  <thead>\n",
       "    <tr style=\"text-align: right;\">\n",
       "      <th></th>\n",
       "      <th>index</th>\n",
       "      <th>date</th>\n",
       "      <th>campaign</th>\n",
       "      <th>adgroup</th>\n",
       "      <th>ad</th>\n",
       "      <th>impressions</th>\n",
       "      <th>clicks</th>\n",
       "      <th>cost</th>\n",
       "      <th>conversions</th>\n",
       "      <th>revenue</th>\n",
       "      <th>tst</th>\n",
       "      <th>day</th>\n",
       "      <th>month</th>\n",
       "      <th>year</th>\n",
       "      <th>CPC</th>\n",
       "      <th>CTR</th>\n",
       "      <th>COA</th>\n",
       "    </tr>\n",
       "  </thead>\n",
       "  <tbody>\n",
       "    <tr>\n",
       "      <th>0</th>\n",
       "      <td>0</td>\n",
       "      <td>01-08-2020</td>\n",
       "      <td>1</td>\n",
       "      <td>1</td>\n",
       "      <td>1</td>\n",
       "      <td>24</td>\n",
       "      <td>6</td>\n",
       "      <td>0.08</td>\n",
       "      <td>0</td>\n",
       "      <td>0.00</td>\n",
       "      <td>0</td>\n",
       "      <td>1</td>\n",
       "      <td>8</td>\n",
       "      <td>2020</td>\n",
       "      <td>0.013333</td>\n",
       "      <td>0.250000</td>\n",
       "      <td>0.0000</td>\n",
       "    </tr>\n",
       "    <tr>\n",
       "      <th>1</th>\n",
       "      <td>1</td>\n",
       "      <td>01-08-2020</td>\n",
       "      <td>1</td>\n",
       "      <td>2</td>\n",
       "      <td>1</td>\n",
       "      <td>1</td>\n",
       "      <td>0</td>\n",
       "      <td>0.00</td>\n",
       "      <td>0</td>\n",
       "      <td>0.00</td>\n",
       "      <td>0</td>\n",
       "      <td>1</td>\n",
       "      <td>8</td>\n",
       "      <td>2020</td>\n",
       "      <td>0.000000</td>\n",
       "      <td>0.000000</td>\n",
       "      <td>0.0000</td>\n",
       "    </tr>\n",
       "    <tr>\n",
       "      <th>2</th>\n",
       "      <td>2</td>\n",
       "      <td>01-08-2020</td>\n",
       "      <td>1</td>\n",
       "      <td>3</td>\n",
       "      <td>1</td>\n",
       "      <td>13</td>\n",
       "      <td>4</td>\n",
       "      <td>0.04</td>\n",
       "      <td>0</td>\n",
       "      <td>0.00</td>\n",
       "      <td>0</td>\n",
       "      <td>1</td>\n",
       "      <td>8</td>\n",
       "      <td>2020</td>\n",
       "      <td>0.010000</td>\n",
       "      <td>0.307692</td>\n",
       "      <td>0.0000</td>\n",
       "    </tr>\n",
       "    <tr>\n",
       "      <th>3</th>\n",
       "      <td>3</td>\n",
       "      <td>01-08-2020</td>\n",
       "      <td>1</td>\n",
       "      <td>4</td>\n",
       "      <td>1</td>\n",
       "      <td>5</td>\n",
       "      <td>4</td>\n",
       "      <td>0.08</td>\n",
       "      <td>0</td>\n",
       "      <td>0.00</td>\n",
       "      <td>0</td>\n",
       "      <td>1</td>\n",
       "      <td>8</td>\n",
       "      <td>2020</td>\n",
       "      <td>0.020000</td>\n",
       "      <td>0.800000</td>\n",
       "      <td>0.0000</td>\n",
       "    </tr>\n",
       "    <tr>\n",
       "      <th>4</th>\n",
       "      <td>4</td>\n",
       "      <td>01-08-2020</td>\n",
       "      <td>1</td>\n",
       "      <td>1</td>\n",
       "      <td>2</td>\n",
       "      <td>247</td>\n",
       "      <td>126</td>\n",
       "      <td>1.29</td>\n",
       "      <td>4</td>\n",
       "      <td>925.71</td>\n",
       "      <td>0</td>\n",
       "      <td>1</td>\n",
       "      <td>8</td>\n",
       "      <td>2020</td>\n",
       "      <td>0.010238</td>\n",
       "      <td>0.510121</td>\n",
       "      <td>0.3225</td>\n",
       "    </tr>\n",
       "    <tr>\n",
       "      <th>...</th>\n",
       "      <td>...</td>\n",
       "      <td>...</td>\n",
       "      <td>...</td>\n",
       "      <td>...</td>\n",
       "      <td>...</td>\n",
       "      <td>...</td>\n",
       "      <td>...</td>\n",
       "      <td>...</td>\n",
       "      <td>...</td>\n",
       "      <td>...</td>\n",
       "      <td>...</td>\n",
       "      <td>...</td>\n",
       "      <td>...</td>\n",
       "      <td>...</td>\n",
       "      <td>...</td>\n",
       "      <td>...</td>\n",
       "      <td>...</td>\n",
       "    </tr>\n",
       "    <tr>\n",
       "      <th>4884</th>\n",
       "      <td>313</td>\n",
       "      <td>15-03-2021</td>\n",
       "      <td>1</td>\n",
       "      <td>4</td>\n",
       "      <td>55</td>\n",
       "      <td>1</td>\n",
       "      <td>1</td>\n",
       "      <td>0.01</td>\n",
       "      <td>0</td>\n",
       "      <td>NaN</td>\n",
       "      <td>1</td>\n",
       "      <td>15</td>\n",
       "      <td>3</td>\n",
       "      <td>2021</td>\n",
       "      <td>0.010000</td>\n",
       "      <td>1.000000</td>\n",
       "      <td>0.0000</td>\n",
       "    </tr>\n",
       "    <tr>\n",
       "      <th>4885</th>\n",
       "      <td>314</td>\n",
       "      <td>15-03-2021</td>\n",
       "      <td>1</td>\n",
       "      <td>3</td>\n",
       "      <td>55</td>\n",
       "      <td>5</td>\n",
       "      <td>1</td>\n",
       "      <td>0.01</td>\n",
       "      <td>0</td>\n",
       "      <td>NaN</td>\n",
       "      <td>1</td>\n",
       "      <td>15</td>\n",
       "      <td>3</td>\n",
       "      <td>2021</td>\n",
       "      <td>0.010000</td>\n",
       "      <td>0.200000</td>\n",
       "      <td>0.0000</td>\n",
       "    </tr>\n",
       "    <tr>\n",
       "      <th>4886</th>\n",
       "      <td>315</td>\n",
       "      <td>15-03-2021</td>\n",
       "      <td>1</td>\n",
       "      <td>1</td>\n",
       "      <td>55</td>\n",
       "      <td>25</td>\n",
       "      <td>11</td>\n",
       "      <td>0.14</td>\n",
       "      <td>0</td>\n",
       "      <td>NaN</td>\n",
       "      <td>1</td>\n",
       "      <td>15</td>\n",
       "      <td>3</td>\n",
       "      <td>2021</td>\n",
       "      <td>0.012727</td>\n",
       "      <td>0.440000</td>\n",
       "      <td>0.0000</td>\n",
       "    </tr>\n",
       "    <tr>\n",
       "      <th>4887</th>\n",
       "      <td>316</td>\n",
       "      <td>15-03-2021</td>\n",
       "      <td>1</td>\n",
       "      <td>3</td>\n",
       "      <td>56</td>\n",
       "      <td>9</td>\n",
       "      <td>4</td>\n",
       "      <td>0.06</td>\n",
       "      <td>0</td>\n",
       "      <td>NaN</td>\n",
       "      <td>1</td>\n",
       "      <td>15</td>\n",
       "      <td>3</td>\n",
       "      <td>2021</td>\n",
       "      <td>0.015000</td>\n",
       "      <td>0.444444</td>\n",
       "      <td>0.0000</td>\n",
       "    </tr>\n",
       "    <tr>\n",
       "      <th>4888</th>\n",
       "      <td>317</td>\n",
       "      <td>15-03-2021</td>\n",
       "      <td>1</td>\n",
       "      <td>1</td>\n",
       "      <td>56</td>\n",
       "      <td>67</td>\n",
       "      <td>27</td>\n",
       "      <td>0.33</td>\n",
       "      <td>1</td>\n",
       "      <td>NaN</td>\n",
       "      <td>1</td>\n",
       "      <td>15</td>\n",
       "      <td>3</td>\n",
       "      <td>2021</td>\n",
       "      <td>0.012222</td>\n",
       "      <td>0.402985</td>\n",
       "      <td>0.3300</td>\n",
       "    </tr>\n",
       "  </tbody>\n",
       "</table>\n",
       "<p>4889 rows × 17 columns</p>\n",
       "</div>"
      ],
      "text/plain": [
       "      index        date  campaign  adgroup  ad  impressions  clicks  cost  \\\n",
       "0         0  01-08-2020         1        1   1           24       6  0.08   \n",
       "1         1  01-08-2020         1        2   1            1       0  0.00   \n",
       "2         2  01-08-2020         1        3   1           13       4  0.04   \n",
       "3         3  01-08-2020         1        4   1            5       4  0.08   \n",
       "4         4  01-08-2020         1        1   2          247     126  1.29   \n",
       "...     ...         ...       ...      ...  ..          ...     ...   ...   \n",
       "4884    313  15-03-2021         1        4  55            1       1  0.01   \n",
       "4885    314  15-03-2021         1        3  55            5       1  0.01   \n",
       "4886    315  15-03-2021         1        1  55           25      11  0.14   \n",
       "4887    316  15-03-2021         1        3  56            9       4  0.06   \n",
       "4888    317  15-03-2021         1        1  56           67      27  0.33   \n",
       "\n",
       "      conversions  revenue  tst  day  month  year       CPC       CTR     COA  \n",
       "0               0     0.00    0    1      8  2020  0.013333  0.250000  0.0000  \n",
       "1               0     0.00    0    1      8  2020  0.000000  0.000000  0.0000  \n",
       "2               0     0.00    0    1      8  2020  0.010000  0.307692  0.0000  \n",
       "3               0     0.00    0    1      8  2020  0.020000  0.800000  0.0000  \n",
       "4               4   925.71    0    1      8  2020  0.010238  0.510121  0.3225  \n",
       "...           ...      ...  ...  ...    ...   ...       ...       ...     ...  \n",
       "4884            0      NaN    1   15      3  2021  0.010000  1.000000  0.0000  \n",
       "4885            0      NaN    1   15      3  2021  0.010000  0.200000  0.0000  \n",
       "4886            0      NaN    1   15      3  2021  0.012727  0.440000  0.0000  \n",
       "4887            0      NaN    1   15      3  2021  0.015000  0.444444  0.0000  \n",
       "4888            1      NaN    1   15      3  2021  0.012222  0.402985  0.3300  \n",
       "\n",
       "[4889 rows x 17 columns]"
      ]
     },
     "execution_count": 16,
     "metadata": {},
     "output_type": "execute_result"
    }
   ],
   "source": [
    "df['ad']=df['ad'].str.slice(3).astype(int)\n",
    "\n",
    "df['adgroup']=df['adgroup'].str.slice(8).astype(int)\n",
    "\n",
    "df['campaign']=df['campaign'].str.slice(-1).astype(int)\n",
    "\n",
    "df.reset_index()"
   ]
  },
  {
   "cell_type": "code",
   "execution_count": 17,
   "id": "c93b529a",
   "metadata": {
    "execution": {
     "iopub.execute_input": "2021-10-26T10:46:43.946552Z",
     "iopub.status.busy": "2021-10-26T10:46:43.938628Z",
     "iopub.status.idle": "2021-10-26T10:46:43.951421Z",
     "shell.execute_reply": "2021-10-26T10:46:43.950937Z"
    },
    "papermill": {
     "duration": 0.070956,
     "end_time": "2021-10-26T10:46:43.951551",
     "exception": false,
     "start_time": "2021-10-26T10:46:43.880595",
     "status": "completed"
    },
    "tags": []
   },
   "outputs": [
    {
     "name": "stdout",
     "output_type": "stream",
     "text": [
      "<class 'pandas.core.frame.DataFrame'>\n",
      "Int64Index: 4889 entries, 0 to 317\n",
      "Data columns (total 16 columns):\n",
      " #   Column       Non-Null Count  Dtype  \n",
      "---  ------       --------------  -----  \n",
      " 0   date         4889 non-null   object \n",
      " 1   campaign     4889 non-null   int64  \n",
      " 2   adgroup      4889 non-null   int64  \n",
      " 3   ad           4889 non-null   int64  \n",
      " 4   impressions  4889 non-null   int64  \n",
      " 5   clicks       4889 non-null   int64  \n",
      " 6   cost         4889 non-null   float64\n",
      " 7   conversions  4889 non-null   int64  \n",
      " 8   revenue      4571 non-null   float64\n",
      " 9   tst          4889 non-null   int64  \n",
      " 10  day          4889 non-null   int64  \n",
      " 11  month        4889 non-null   int64  \n",
      " 12  year         4889 non-null   int64  \n",
      " 13  CPC          4889 non-null   float64\n",
      " 14  CTR          4889 non-null   float64\n",
      " 15  COA          4889 non-null   float64\n",
      "dtypes: float64(5), int64(10), object(1)\n",
      "memory usage: 649.3+ KB\n"
     ]
    }
   ],
   "source": [
    "df.info()"
   ]
  },
  {
   "cell_type": "code",
   "execution_count": 18,
   "id": "32b5927c",
   "metadata": {
    "execution": {
     "iopub.execute_input": "2021-10-26T10:46:44.061318Z",
     "iopub.status.busy": "2021-10-26T10:46:44.060700Z",
     "iopub.status.idle": "2021-10-26T10:46:44.063195Z",
     "shell.execute_reply": "2021-10-26T10:46:44.063636Z"
    },
    "papermill": {
     "duration": 0.059828,
     "end_time": "2021-10-26T10:46:44.063755",
     "exception": false,
     "start_time": "2021-10-26T10:46:44.003927",
     "status": "completed"
    },
    "tags": []
   },
   "outputs": [
    {
     "data": {
      "text/plain": [
       "array([ 8,  9, 10, 11, 12,  1,  2,  3])"
      ]
     },
     "execution_count": 18,
     "metadata": {},
     "output_type": "execute_result"
    }
   ],
   "source": [
    "df.month.unique()"
   ]
  },
  {
   "cell_type": "markdown",
   "id": "bff1856d",
   "metadata": {
    "papermill": {
     "duration": 0.051477,
     "end_time": "2021-10-26T10:46:44.166822",
     "exception": false,
     "start_time": "2021-10-26T10:46:44.115345",
     "status": "completed"
    },
    "tags": []
   },
   "source": [
    "## Exploratory Data Analysis"
   ]
  },
  {
   "cell_type": "code",
   "execution_count": 19,
   "id": "b88ad9e9",
   "metadata": {
    "execution": {
     "iopub.execute_input": "2021-10-26T10:46:44.276941Z",
     "iopub.status.busy": "2021-10-26T10:46:44.276228Z",
     "iopub.status.idle": "2021-10-26T10:46:44.526197Z",
     "shell.execute_reply": "2021-10-26T10:46:44.526657Z"
    },
    "papermill": {
     "duration": 0.307773,
     "end_time": "2021-10-26T10:46:44.526806",
     "exception": false,
     "start_time": "2021-10-26T10:46:44.219033",
     "status": "completed"
    },
    "tags": []
   },
   "outputs": [
    {
     "data": {
      "image/png": "[encoded data removed]",
      "text/plain": [
       "<Figure size 1440x576 with 1 Axes>"
      ]
     },
     "metadata": {
      "needs_background": "light"
     },
     "output_type": "display_data"
    }
   ],
   "source": [
    "#Time series view\n",
    "plt.figure(figsize=(20,8))\n",
    "df.groupby(['date'])['revenue'].sum().plot(kind='line')\n",
    "plt.show()"
   ]
  },
  {
   "cell_type": "code",
   "execution_count": 20,
   "id": "b2d4be50",
   "metadata": {
    "execution": {
     "iopub.execute_input": "2021-10-26T10:46:44.642538Z",
     "iopub.status.busy": "2021-10-26T10:46:44.641903Z",
     "iopub.status.idle": "2021-10-26T10:46:44.903801Z",
     "shell.execute_reply": "2021-10-26T10:46:44.903116Z"
    },
    "papermill": {
     "duration": 0.32184,
     "end_time": "2021-10-26T10:46:44.903918",
     "exception": false,
     "start_time": "2021-10-26T10:46:44.582078",
     "status": "completed"
    },
    "tags": []
   },
   "outputs": [
    {
     "name": "stderr",
     "output_type": "stream",
     "text": [
      "/opt/conda/lib/python3.7/site-packages/seaborn/distributions.py:2619: FutureWarning: `distplot` is a deprecated function and will be removed in a future version. Please adapt your code to use either `displot` (a figure-level function with similar flexibility) or `histplot` (an axes-level function for histograms).\n",
      "  warnings.warn(msg, FutureWarning)\n"
     ]
    },
    {
     "data": {
      "text/plain": [
       "<matplotlib.lines.Line2D at 0x7f4036639dd0>"
      ]
     },
     "execution_count": 20,
     "metadata": {},
     "output_type": "execute_result"
    },
    {
     "data": {
      "image/png": "[encoded data removed]",
      "text/plain": [
       "<Figure size 576x432 with 1 Axes>"
      ]
     },
     "metadata": {
      "needs_background": "light"
     },
     "output_type": "display_data"
    }
   ],
   "source": [
    "plt.figure(figsize=(8,6))\n",
    "#plt.hist(df.cost,bins=7,density=True)\n",
    "sns.distplot(df.cost,bins=7)\n",
    "plt.axvline(df.cost.mean(), color='r', linestyle='dashed', linewidth=1)"
   ]
  },
  {
   "cell_type": "code",
   "execution_count": 21,
   "id": "23cf4f14",
   "metadata": {
    "execution": {
     "iopub.execute_input": "2021-10-26T10:46:45.041517Z",
     "iopub.status.busy": "2021-10-26T10:46:45.040687Z",
     "iopub.status.idle": "2021-10-26T10:46:45.290535Z",
     "shell.execute_reply": "2021-10-26T10:46:45.290094Z"
    },
    "papermill": {
     "duration": 0.330796,
     "end_time": "2021-10-26T10:46:45.290657",
     "exception": false,
     "start_time": "2021-10-26T10:46:44.959861",
     "status": "completed"
    },
    "tags": []
   },
   "outputs": [
    {
     "name": "stderr",
     "output_type": "stream",
     "text": [
      "/opt/conda/lib/python3.7/site-packages/seaborn/distributions.py:2619: FutureWarning: `distplot` is a deprecated function and will be removed in a future version. Please adapt your code to use either `displot` (a figure-level function with similar flexibility) or `histplot` (an axes-level function for histograms).\n",
      "  warnings.warn(msg, FutureWarning)\n"
     ]
    },
    {
     "data": {
      "text/plain": [
       "<matplotlib.lines.Line2D at 0x7f40368e7450>"
      ]
     },
     "execution_count": 21,
     "metadata": {},
     "output_type": "execute_result"
    },
    {
     "data": {
      "image/png": "[encoded data removed]",
      "text/plain": [
       "<Figure size 576x432 with 1 Axes>"
      ]
     },
     "metadata": {
      "needs_background": "light"
     },
     "output_type": "display_data"
    }
   ],
   "source": [
    "plt.figure(figsize=(8,6))\n",
    "sns.distplot(df.clicks,bins=5)\n",
    "plt.axvline(df.clicks.mean(), color='r', linestyle='dashed', linewidth=1)"
   ]
  },
  {
   "cell_type": "code",
   "execution_count": 22,
   "id": "2fab80c1",
   "metadata": {
    "execution": {
     "iopub.execute_input": "2021-10-26T10:46:45.431717Z",
     "iopub.status.busy": "2021-10-26T10:46:45.416676Z",
     "iopub.status.idle": "2021-10-26T10:46:45.682099Z",
     "shell.execute_reply": "2021-10-26T10:46:45.682541Z"
    },
    "papermill": {
     "duration": 0.333786,
     "end_time": "2021-10-26T10:46:45.682736",
     "exception": false,
     "start_time": "2021-10-26T10:46:45.348950",
     "status": "completed"
    },
    "tags": []
   },
   "outputs": [
    {
     "name": "stderr",
     "output_type": "stream",
     "text": [
      "/opt/conda/lib/python3.7/site-packages/seaborn/distributions.py:2619: FutureWarning: `distplot` is a deprecated function and will be removed in a future version. Please adapt your code to use either `displot` (a figure-level function with similar flexibility) or `histplot` (an axes-level function for histograms).\n",
      "  warnings.warn(msg, FutureWarning)\n"
     ]
    },
    {
     "data": {
      "text/plain": [
       "<matplotlib.lines.Line2D at 0x7f40367fcf90>"
      ]
     },
     "execution_count": 22,
     "metadata": {},
     "output_type": "execute_result"
    },
    {
     "data": {
      "image/png": "[encoded data removed]",
      "text/plain": [
       "<Figure size 576x432 with 1 Axes>"
      ]
     },
     "metadata": {
      "needs_background": "light"
     },
     "output_type": "display_data"
    }
   ],
   "source": [
    "plt.figure(figsize=(8,6))\n",
    "sns.distplot(df.impressions,bins=5)\n",
    "plt.axvline(df.impressions.mean(), color='r', linestyle='dashed', linewidth=1)"
   ]
  },
  {
   "cell_type": "code",
   "execution_count": 23,
   "id": "26c91e89",
   "metadata": {
    "execution": {
     "iopub.execute_input": "2021-10-26T10:46:45.804947Z",
     "iopub.status.busy": "2021-10-26T10:46:45.803875Z",
     "iopub.status.idle": "2021-10-26T10:46:46.037600Z",
     "shell.execute_reply": "2021-10-26T10:46:46.037141Z"
    },
    "papermill": {
     "duration": 0.296765,
     "end_time": "2021-10-26T10:46:46.037729",
     "exception": false,
     "start_time": "2021-10-26T10:46:45.740964",
     "status": "completed"
    },
    "tags": []
   },
   "outputs": [
    {
     "name": "stderr",
     "output_type": "stream",
     "text": [
      "/opt/conda/lib/python3.7/site-packages/seaborn/distributions.py:2619: FutureWarning: `distplot` is a deprecated function and will be removed in a future version. Please adapt your code to use either `displot` (a figure-level function with similar flexibility) or `histplot` (an axes-level function for histograms).\n",
      "  warnings.warn(msg, FutureWarning)\n"
     ]
    },
    {
     "data": {
      "text/plain": [
       "<matplotlib.lines.Line2D at 0x7f4036869f50>"
      ]
     },
     "execution_count": 23,
     "metadata": {},
     "output_type": "execute_result"
    },
    {
     "data": {
      "image/png": "[encoded data removed]",
      "text/plain": [
       "<Figure size 576x432 with 1 Axes>"
      ]
     },
     "metadata": {
      "needs_background": "light"
     },
     "output_type": "display_data"
    }
   ],
   "source": [
    "plt.figure(figsize=(8,6))\n",
    "sns.distplot(df.CTR,bins=5)\n",
    "plt.axvline(df.CTR.mean(), color='r', linestyle='dashed', linewidth=1)"
   ]
  },
  {
   "cell_type": "code",
   "execution_count": 24,
   "id": "d4c2be1a",
   "metadata": {
    "execution": {
     "iopub.execute_input": "2021-10-26T10:46:46.180732Z",
     "iopub.status.busy": "2021-10-26T10:46:46.179871Z",
     "iopub.status.idle": "2021-10-26T10:46:46.602789Z",
     "shell.execute_reply": "2021-10-26T10:46:46.602209Z"
    },
    "papermill": {
     "duration": 0.503967,
     "end_time": "2021-10-26T10:46:46.602913",
     "exception": false,
     "start_time": "2021-10-26T10:46:46.098946",
     "status": "completed"
    },
    "tags": []
   },
   "outputs": [
    {
     "name": "stderr",
     "output_type": "stream",
     "text": [
      "/opt/conda/lib/python3.7/site-packages/seaborn/_decorators.py:43: FutureWarning: Pass the following variables as keyword args: x, y. From version 0.12, the only valid positional argument will be `data`, and passing other arguments without an explicit keyword will result in an error or misinterpretation.\n",
      "  FutureWarning\n"
     ]
    },
    {
     "data": {
      "text/plain": [
       "<AxesSubplot:xlabel='month', ylabel='revenue'>"
      ]
     },
     "execution_count": 24,
     "metadata": {},
     "output_type": "execute_result"
    },
    {
     "data": {
      "image/png": "[encoded data removed]",
      "text/plain": [
       "<Figure size 864x648 with 1 Axes>"
      ]
     },
     "metadata": {
      "needs_background": "light"
     },
     "output_type": "display_data"
    }
   ],
   "source": [
    "\n",
    "f, ax = plt.subplots(figsize=(12, 9));\n",
    "sns.barplot('month','revenue',data=df)"
   ]
  },
  {
   "cell_type": "code",
   "execution_count": 25,
   "id": "cdba822f",
   "metadata": {
    "execution": {
     "iopub.execute_input": "2021-10-26T10:46:46.750483Z",
     "iopub.status.busy": "2021-10-26T10:46:46.748719Z",
     "iopub.status.idle": "2021-10-26T10:46:46.921115Z",
     "shell.execute_reply": "2021-10-26T10:46:46.921743Z"
    },
    "papermill": {
     "duration": 0.257953,
     "end_time": "2021-10-26T10:46:46.921894",
     "exception": false,
     "start_time": "2021-10-26T10:46:46.663941",
     "status": "completed"
    },
    "tags": []
   },
   "outputs": [
    {
     "data": {
      "image/png": "[encoded data removed]",
      "text/plain": [
       "<Figure size 864x720 with 1 Axes>"
      ]
     },
     "metadata": {
      "needs_background": "light"
     },
     "output_type": "display_data"
    }
   ],
   "source": [
    "plt.scatter(df.conversions,df.revenue)\n",
    "plt.show()"
   ]
  },
  {
   "cell_type": "code",
   "execution_count": 26,
   "id": "716f78bb",
   "metadata": {
    "execution": {
     "iopub.execute_input": "2021-10-26T10:46:47.067048Z",
     "iopub.status.busy": "2021-10-26T10:46:47.065496Z",
     "iopub.status.idle": "2021-10-26T10:46:47.246454Z",
     "shell.execute_reply": "2021-10-26T10:46:47.246034Z"
    },
    "papermill": {
     "duration": 0.261792,
     "end_time": "2021-10-26T10:46:47.246600",
     "exception": false,
     "start_time": "2021-10-26T10:46:46.984808",
     "status": "completed"
    },
    "tags": []
   },
   "outputs": [
    {
     "data": {
      "image/png": "[encoded data removed]",
      "text/plain": [
       "<Figure size 864x720 with 1 Axes>"
      ]
     },
     "metadata": {
      "needs_background": "light"
     },
     "output_type": "display_data"
    }
   ],
   "source": [
    "plt.scatter(df.impressions,df.revenue)\n",
    "plt.show()"
   ]
  },
  {
   "cell_type": "code",
   "execution_count": 27,
   "id": "e0d05ed8",
   "metadata": {
    "execution": {
     "iopub.execute_input": "2021-10-26T10:46:47.377845Z",
     "iopub.status.busy": "2021-10-26T10:46:47.377059Z",
     "iopub.status.idle": "2021-10-26T10:46:47.855551Z",
     "shell.execute_reply": "2021-10-26T10:46:47.855065Z"
    },
    "papermill": {
     "duration": 0.54634,
     "end_time": "2021-10-26T10:46:47.855721",
     "exception": false,
     "start_time": "2021-10-26T10:46:47.309381",
     "status": "completed"
    },
    "tags": []
   },
   "outputs": [
    {
     "name": "stderr",
     "output_type": "stream",
     "text": [
      "/opt/conda/lib/python3.7/site-packages/seaborn/_decorators.py:43: FutureWarning: Pass the following variables as keyword args: x, y. From version 0.12, the only valid positional argument will be `data`, and passing other arguments without an explicit keyword will result in an error or misinterpretation.\n",
      "  FutureWarning\n"
     ]
    },
    {
     "data": {
      "text/plain": [
       "<AxesSubplot:xlabel='adgroup', ylabel='revenue'>"
      ]
     },
     "execution_count": 27,
     "metadata": {},
     "output_type": "execute_result"
    },
    {
     "data": {
      "image/png": "[encoded data removed]",
      "text/plain": [
       "<Figure size 864x720 with 1 Axes>"
      ]
     },
     "metadata": {
      "needs_background": "light"
     },
     "output_type": "display_data"
    }
   ],
   "source": [
    "sns.barplot('adgroup','revenue',data=df,hue='year')"
   ]
  },
  {
   "cell_type": "code",
   "execution_count": 28,
   "id": "c91257b9",
   "metadata": {
    "execution": {
     "iopub.execute_input": "2021-10-26T10:46:47.991470Z",
     "iopub.status.busy": "2021-10-26T10:46:47.990684Z",
     "iopub.status.idle": "2021-10-26T10:46:48.000959Z",
     "shell.execute_reply": "2021-10-26T10:46:48.001375Z"
    },
    "papermill": {
     "duration": 0.079961,
     "end_time": "2021-10-26T10:46:48.001553",
     "exception": false,
     "start_time": "2021-10-26T10:46:47.921592",
     "status": "completed"
    },
    "tags": []
   },
   "outputs": [
    {
     "data": {
      "text/plain": [
       "date        adgroup\n",
       "10-10-2020  3          31765.46\n",
       "26-11-2020  1          29398.31\n",
       "09-09-2020  3          26956.77\n",
       "27-11-2020  1          25685.71\n",
       "09-09-2020  1          24911.10\n",
       "                         ...   \n",
       "15-08-2020  2              0.00\n",
       "15-03-2021  4              0.00\n",
       "            3              0.00\n",
       "            2              0.00\n",
       "31-12-2020  4              0.00\n",
       "Name: revenue, Length: 908, dtype: float64"
      ]
     },
     "execution_count": 28,
     "metadata": {},
     "output_type": "execute_result"
    }
   ],
   "source": [
    "df.groupby(['date','adgroup'])['revenue'].sum().sort_values(ascending=False)"
   ]
  },
  {
   "cell_type": "code",
   "execution_count": 29,
   "id": "d6b6247f",
   "metadata": {
    "execution": {
     "iopub.execute_input": "2021-10-26T10:46:48.136871Z",
     "iopub.status.busy": "2021-10-26T10:46:48.136334Z",
     "iopub.status.idle": "2021-10-26T10:46:48.142969Z",
     "shell.execute_reply": "2021-10-26T10:46:48.143350Z"
    },
    "papermill": {
     "duration": 0.075928,
     "end_time": "2021-10-26T10:46:48.143530",
     "exception": false,
     "start_time": "2021-10-26T10:46:48.067602",
     "status": "completed"
    },
    "tags": []
   },
   "outputs": [
    {
     "data": {
      "text/plain": [
       "['campaign',\n",
       " 'adgroup',\n",
       " 'ad',\n",
       " 'impressions',\n",
       " 'clicks',\n",
       " 'cost',\n",
       " 'conversions',\n",
       " 'day',\n",
       " 'month',\n",
       " 'year',\n",
       " 'CPC',\n",
       " 'CTR',\n",
       " 'COA']"
      ]
     },
     "execution_count": 29,
     "metadata": {},
     "output_type": "execute_result"
    }
   ],
   "source": [
    "list(df.select_dtypes(exclude = ['object','datetime']).drop(columns=['revenue','tst']).columns)"
   ]
  },
  {
   "cell_type": "code",
   "execution_count": 30,
   "id": "f4f38b00",
   "metadata": {
    "execution": {
     "iopub.execute_input": "2021-10-26T10:46:48.277721Z",
     "iopub.status.busy": "2021-10-26T10:46:48.276612Z",
     "iopub.status.idle": "2021-10-26T10:46:48.279253Z",
     "shell.execute_reply": "2021-10-26T10:46:48.278854Z"
    },
    "papermill": {
     "duration": 0.071118,
     "end_time": "2021-10-26T10:46:48.279367",
     "exception": false,
     "start_time": "2021-10-26T10:46:48.208249",
     "status": "completed"
    },
    "tags": []
   },
   "outputs": [],
   "source": [
    "df_copy=df.copy()\n"
   ]
  },
  {
   "cell_type": "markdown",
   "id": "fc6106ee",
   "metadata": {
    "papermill": {
     "duration": 0.06536,
     "end_time": "2021-10-26T10:46:48.409313",
     "exception": false,
     "start_time": "2021-10-26T10:46:48.343953",
     "status": "completed"
    },
    "tags": []
   },
   "source": [
    "## Feature Trnsformation and Scaling"
   ]
  },
  {
   "cell_type": "code",
   "execution_count": 31,
   "id": "bcd47f9d",
   "metadata": {
    "execution": {
     "iopub.execute_input": "2021-10-26T10:46:48.542811Z",
     "iopub.status.busy": "2021-10-26T10:46:48.542253Z",
     "iopub.status.idle": "2021-10-26T10:46:48.549651Z",
     "shell.execute_reply": "2021-10-26T10:46:48.549169Z"
    },
    "papermill": {
     "duration": 0.075959,
     "end_time": "2021-10-26T10:46:48.549808",
     "exception": false,
     "start_time": "2021-10-26T10:46:48.473849",
     "status": "completed"
    },
    "tags": []
   },
   "outputs": [],
   "source": [
    "str_col=['ad','adgroup','campaign','year','month','day','date']\n",
    "le=LabelEncoder()\n",
    "for col in str_col:\n",
    "    df[col]=le.fit_transform(df[col].values)"
   ]
  },
  {
   "cell_type": "code",
   "execution_count": 32,
   "id": "4ff3316d",
   "metadata": {
    "execution": {
     "iopub.execute_input": "2021-10-26T10:46:48.692761Z",
     "iopub.status.busy": "2021-10-26T10:46:48.692060Z",
     "iopub.status.idle": "2021-10-26T10:46:48.694917Z",
     "shell.execute_reply": "2021-10-26T10:46:48.695319Z"
    },
    "papermill": {
     "duration": 0.081261,
     "end_time": "2021-10-26T10:46:48.695434",
     "exception": false,
     "start_time": "2021-10-26T10:46:48.614173",
     "status": "completed"
    },
    "tags": []
   },
   "outputs": [
    {
     "data": {
      "text/html": [
       "<div>\n",
       "<style scoped>\n",
       "    .dataframe tbody tr th:only-of-type {\n",
       "        vertical-align: middle;\n",
       "    }\n",
       "\n",
       "    .dataframe tbody tr th {\n",
       "        vertical-align: top;\n",
       "    }\n",
       "\n",
       "    .dataframe thead th {\n",
       "        text-align: right;\n",
       "    }\n",
       "</style>\n",
       "<table border=\"1\" class=\"dataframe\">\n",
       "  <thead>\n",
       "    <tr style=\"text-align: right;\">\n",
       "      <th></th>\n",
       "      <th>date</th>\n",
       "      <th>campaign</th>\n",
       "      <th>adgroup</th>\n",
       "      <th>ad</th>\n",
       "      <th>impressions</th>\n",
       "      <th>clicks</th>\n",
       "      <th>cost</th>\n",
       "      <th>conversions</th>\n",
       "      <th>revenue</th>\n",
       "      <th>tst</th>\n",
       "      <th>day</th>\n",
       "      <th>month</th>\n",
       "      <th>year</th>\n",
       "      <th>CPC</th>\n",
       "      <th>CTR</th>\n",
       "      <th>COA</th>\n",
       "    </tr>\n",
       "  </thead>\n",
       "  <tbody>\n",
       "    <tr>\n",
       "      <th>0</th>\n",
       "      <td>3</td>\n",
       "      <td>0</td>\n",
       "      <td>0</td>\n",
       "      <td>0</td>\n",
       "      <td>24</td>\n",
       "      <td>6</td>\n",
       "      <td>0.08</td>\n",
       "      <td>0</td>\n",
       "      <td>0.00</td>\n",
       "      <td>0</td>\n",
       "      <td>0</td>\n",
       "      <td>3</td>\n",
       "      <td>0</td>\n",
       "      <td>0.013333</td>\n",
       "      <td>0.250000</td>\n",
       "      <td>0.0000</td>\n",
       "    </tr>\n",
       "    <tr>\n",
       "      <th>1</th>\n",
       "      <td>3</td>\n",
       "      <td>0</td>\n",
       "      <td>1</td>\n",
       "      <td>0</td>\n",
       "      <td>1</td>\n",
       "      <td>0</td>\n",
       "      <td>0.00</td>\n",
       "      <td>0</td>\n",
       "      <td>0.00</td>\n",
       "      <td>0</td>\n",
       "      <td>0</td>\n",
       "      <td>3</td>\n",
       "      <td>0</td>\n",
       "      <td>0.000000</td>\n",
       "      <td>0.000000</td>\n",
       "      <td>0.0000</td>\n",
       "    </tr>\n",
       "    <tr>\n",
       "      <th>2</th>\n",
       "      <td>3</td>\n",
       "      <td>0</td>\n",
       "      <td>2</td>\n",
       "      <td>0</td>\n",
       "      <td>13</td>\n",
       "      <td>4</td>\n",
       "      <td>0.04</td>\n",
       "      <td>0</td>\n",
       "      <td>0.00</td>\n",
       "      <td>0</td>\n",
       "      <td>0</td>\n",
       "      <td>3</td>\n",
       "      <td>0</td>\n",
       "      <td>0.010000</td>\n",
       "      <td>0.307692</td>\n",
       "      <td>0.0000</td>\n",
       "    </tr>\n",
       "    <tr>\n",
       "      <th>3</th>\n",
       "      <td>3</td>\n",
       "      <td>0</td>\n",
       "      <td>3</td>\n",
       "      <td>0</td>\n",
       "      <td>5</td>\n",
       "      <td>4</td>\n",
       "      <td>0.08</td>\n",
       "      <td>0</td>\n",
       "      <td>0.00</td>\n",
       "      <td>0</td>\n",
       "      <td>0</td>\n",
       "      <td>3</td>\n",
       "      <td>0</td>\n",
       "      <td>0.020000</td>\n",
       "      <td>0.800000</td>\n",
       "      <td>0.0000</td>\n",
       "    </tr>\n",
       "    <tr>\n",
       "      <th>4</th>\n",
       "      <td>3</td>\n",
       "      <td>0</td>\n",
       "      <td>0</td>\n",
       "      <td>1</td>\n",
       "      <td>247</td>\n",
       "      <td>126</td>\n",
       "      <td>1.29</td>\n",
       "      <td>4</td>\n",
       "      <td>925.71</td>\n",
       "      <td>0</td>\n",
       "      <td>0</td>\n",
       "      <td>3</td>\n",
       "      <td>0</td>\n",
       "      <td>0.010238</td>\n",
       "      <td>0.510121</td>\n",
       "      <td>0.3225</td>\n",
       "    </tr>\n",
       "  </tbody>\n",
       "</table>\n",
       "</div>"
      ],
      "text/plain": [
       "   date  campaign  adgroup  ad  impressions  clicks  cost  conversions  \\\n",
       "0     3         0        0   0           24       6  0.08            0   \n",
       "1     3         0        1   0            1       0  0.00            0   \n",
       "2     3         0        2   0           13       4  0.04            0   \n",
       "3     3         0        3   0            5       4  0.08            0   \n",
       "4     3         0        0   1          247     126  1.29            4   \n",
       "\n",
       "   revenue  tst  day  month  year       CPC       CTR     COA  \n",
       "0     0.00    0    0      3     0  0.013333  0.250000  0.0000  \n",
       "1     0.00    0    0      3     0  0.000000  0.000000  0.0000  \n",
       "2     0.00    0    0      3     0  0.010000  0.307692  0.0000  \n",
       "3     0.00    0    0      3     0  0.020000  0.800000  0.0000  \n",
       "4   925.71    0    0      3     0  0.010238  0.510121  0.3225  "
      ]
     },
     "execution_count": 32,
     "metadata": {},
     "output_type": "execute_result"
    }
   ],
   "source": [
    "df.head()"
   ]
  },
  {
   "cell_type": "code",
   "execution_count": 33,
   "id": "6d3a4866",
   "metadata": {
    "execution": {
     "iopub.execute_input": "2021-10-26T10:46:48.832607Z",
     "iopub.status.busy": "2021-10-26T10:46:48.831795Z",
     "iopub.status.idle": "2021-10-26T10:46:48.837879Z",
     "shell.execute_reply": "2021-10-26T10:46:48.837437Z"
    },
    "papermill": {
     "duration": 0.076322,
     "end_time": "2021-10-26T10:46:48.837985",
     "exception": false,
     "start_time": "2021-10-26T10:46:48.761663",
     "status": "completed"
    },
    "tags": []
   },
   "outputs": [],
   "source": [
    "sc=MinMaxScaler()\n",
    "num_col=list(df.select_dtypes(exclude = ['object']).drop(columns=['revenue','tst']).columns)\n",
    "df_scaled=sc.fit_transform(df[num_col].values)"
   ]
  },
  {
   "cell_type": "code",
   "execution_count": 34,
   "id": "5ce428e1",
   "metadata": {
    "execution": {
     "iopub.execute_input": "2021-10-26T10:46:48.979400Z",
     "iopub.status.busy": "2021-10-26T10:46:48.978472Z",
     "iopub.status.idle": "2021-10-26T10:46:48.995700Z",
     "shell.execute_reply": "2021-10-26T10:46:48.996195Z"
    },
    "papermill": {
     "duration": 0.092309,
     "end_time": "2021-10-26T10:46:48.996345",
     "exception": false,
     "start_time": "2021-10-26T10:46:48.904036",
     "status": "completed"
    },
    "tags": []
   },
   "outputs": [
    {
     "data": {
      "text/html": [
       "<div>\n",
       "<style scoped>\n",
       "    .dataframe tbody tr th:only-of-type {\n",
       "        vertical-align: middle;\n",
       "    }\n",
       "\n",
       "    .dataframe tbody tr th {\n",
       "        vertical-align: top;\n",
       "    }\n",
       "\n",
       "    .dataframe thead th {\n",
       "        text-align: right;\n",
       "    }\n",
       "</style>\n",
       "<table border=\"1\" class=\"dataframe\">\n",
       "  <thead>\n",
       "    <tr style=\"text-align: right;\">\n",
       "      <th></th>\n",
       "      <th>date</th>\n",
       "      <th>campaign</th>\n",
       "      <th>adgroup</th>\n",
       "      <th>ad</th>\n",
       "      <th>impressions</th>\n",
       "      <th>clicks</th>\n",
       "      <th>cost</th>\n",
       "      <th>conversions</th>\n",
       "      <th>day</th>\n",
       "      <th>month</th>\n",
       "      <th>year</th>\n",
       "      <th>CPC</th>\n",
       "      <th>CTR</th>\n",
       "      <th>COA</th>\n",
       "    </tr>\n",
       "  </thead>\n",
       "  <tbody>\n",
       "    <tr>\n",
       "      <th>0</th>\n",
       "      <td>0.013274</td>\n",
       "      <td>0.0</td>\n",
       "      <td>0.000000</td>\n",
       "      <td>0.000000</td>\n",
       "      <td>0.007103</td>\n",
       "      <td>0.003388</td>\n",
       "      <td>0.000151</td>\n",
       "      <td>0.000000</td>\n",
       "      <td>0.0</td>\n",
       "      <td>0.428571</td>\n",
       "      <td>0.0</td>\n",
       "      <td>0.003500</td>\n",
       "      <td>0.125000</td>\n",
       "      <td>0.000000</td>\n",
       "    </tr>\n",
       "    <tr>\n",
       "      <th>1</th>\n",
       "      <td>0.013274</td>\n",
       "      <td>0.0</td>\n",
       "      <td>0.333333</td>\n",
       "      <td>0.000000</td>\n",
       "      <td>0.000000</td>\n",
       "      <td>0.000000</td>\n",
       "      <td>0.000000</td>\n",
       "      <td>0.000000</td>\n",
       "      <td>0.0</td>\n",
       "      <td>0.428571</td>\n",
       "      <td>0.0</td>\n",
       "      <td>0.000000</td>\n",
       "      <td>0.000000</td>\n",
       "      <td>0.000000</td>\n",
       "    </tr>\n",
       "    <tr>\n",
       "      <th>2</th>\n",
       "      <td>0.013274</td>\n",
       "      <td>0.0</td>\n",
       "      <td>0.666667</td>\n",
       "      <td>0.000000</td>\n",
       "      <td>0.003706</td>\n",
       "      <td>0.002259</td>\n",
       "      <td>0.000075</td>\n",
       "      <td>0.000000</td>\n",
       "      <td>0.0</td>\n",
       "      <td>0.428571</td>\n",
       "      <td>0.0</td>\n",
       "      <td>0.002625</td>\n",
       "      <td>0.153846</td>\n",
       "      <td>0.000000</td>\n",
       "    </tr>\n",
       "    <tr>\n",
       "      <th>3</th>\n",
       "      <td>0.013274</td>\n",
       "      <td>0.0</td>\n",
       "      <td>1.000000</td>\n",
       "      <td>0.000000</td>\n",
       "      <td>0.001235</td>\n",
       "      <td>0.002259</td>\n",
       "      <td>0.000151</td>\n",
       "      <td>0.000000</td>\n",
       "      <td>0.0</td>\n",
       "      <td>0.428571</td>\n",
       "      <td>0.0</td>\n",
       "      <td>0.005249</td>\n",
       "      <td>0.400000</td>\n",
       "      <td>0.000000</td>\n",
       "    </tr>\n",
       "    <tr>\n",
       "      <th>4</th>\n",
       "      <td>0.013274</td>\n",
       "      <td>0.0</td>\n",
       "      <td>0.000000</td>\n",
       "      <td>0.013514</td>\n",
       "      <td>0.075973</td>\n",
       "      <td>0.071146</td>\n",
       "      <td>0.002428</td>\n",
       "      <td>0.042553</td>\n",
       "      <td>0.0</td>\n",
       "      <td>0.428571</td>\n",
       "      <td>0.0</td>\n",
       "      <td>0.002687</td>\n",
       "      <td>0.255061</td>\n",
       "      <td>0.005614</td>\n",
       "    </tr>\n",
       "  </tbody>\n",
       "</table>\n",
       "</div>"
      ],
      "text/plain": [
       "       date  campaign   adgroup        ad  impressions    clicks      cost  \\\n",
       "0  0.013274       0.0  0.000000  0.000000     0.007103  0.003388  0.000151   \n",
       "1  0.013274       0.0  0.333333  0.000000     0.000000  0.000000  0.000000   \n",
       "2  0.013274       0.0  0.666667  0.000000     0.003706  0.002259  0.000075   \n",
       "3  0.013274       0.0  1.000000  0.000000     0.001235  0.002259  0.000151   \n",
       "4  0.013274       0.0  0.000000  0.013514     0.075973  0.071146  0.002428   \n",
       "\n",
       "   conversions  day     month  year       CPC       CTR       COA  \n",
       "0     0.000000  0.0  0.428571   0.0  0.003500  0.125000  0.000000  \n",
       "1     0.000000  0.0  0.428571   0.0  0.000000  0.000000  0.000000  \n",
       "2     0.000000  0.0  0.428571   0.0  0.002625  0.153846  0.000000  \n",
       "3     0.000000  0.0  0.428571   0.0  0.005249  0.400000  0.000000  \n",
       "4     0.042553  0.0  0.428571   0.0  0.002687  0.255061  0.005614  "
      ]
     },
     "execution_count": 34,
     "metadata": {},
     "output_type": "execute_result"
    }
   ],
   "source": [
    "df_scaled=pd.DataFrame(df_scaled,columns=num_col)\n",
    "df_scaled.head()"
   ]
  },
  {
   "cell_type": "code",
   "execution_count": 35,
   "id": "346f8943",
   "metadata": {
    "execution": {
     "iopub.execute_input": "2021-10-26T10:46:49.147586Z",
     "iopub.status.busy": "2021-10-26T10:46:49.146929Z",
     "iopub.status.idle": "2021-10-26T10:46:49.158909Z",
     "shell.execute_reply": "2021-10-26T10:46:49.158100Z"
    },
    "papermill": {
     "duration": 0.090035,
     "end_time": "2021-10-26T10:46:49.159015",
     "exception": false,
     "start_time": "2021-10-26T10:46:49.068980",
     "status": "completed"
    },
    "tags": []
   },
   "outputs": [
    {
     "data": {
      "text/html": [
       "<div>\n",
       "<style scoped>\n",
       "    .dataframe tbody tr th:only-of-type {\n",
       "        vertical-align: middle;\n",
       "    }\n",
       "\n",
       "    .dataframe tbody tr th {\n",
       "        vertical-align: top;\n",
       "    }\n",
       "\n",
       "    .dataframe thead th {\n",
       "        text-align: right;\n",
       "    }\n",
       "</style>\n",
       "<table border=\"1\" class=\"dataframe\">\n",
       "  <thead>\n",
       "    <tr style=\"text-align: right;\">\n",
       "      <th></th>\n",
       "      <th>date</th>\n",
       "      <th>campaign</th>\n",
       "      <th>adgroup</th>\n",
       "      <th>ad</th>\n",
       "      <th>impressions</th>\n",
       "      <th>clicks</th>\n",
       "      <th>cost</th>\n",
       "      <th>conversions</th>\n",
       "      <th>day</th>\n",
       "      <th>month</th>\n",
       "      <th>year</th>\n",
       "      <th>CPC</th>\n",
       "      <th>CTR</th>\n",
       "      <th>COA</th>\n",
       "    </tr>\n",
       "  </thead>\n",
       "  <tbody>\n",
       "    <tr>\n",
       "      <th>0</th>\n",
       "      <td>3</td>\n",
       "      <td>0</td>\n",
       "      <td>0</td>\n",
       "      <td>0</td>\n",
       "      <td>24</td>\n",
       "      <td>6</td>\n",
       "      <td>0.08</td>\n",
       "      <td>0</td>\n",
       "      <td>0</td>\n",
       "      <td>3</td>\n",
       "      <td>0</td>\n",
       "      <td>0.013333</td>\n",
       "      <td>0.250000</td>\n",
       "      <td>0.0000</td>\n",
       "    </tr>\n",
       "    <tr>\n",
       "      <th>1</th>\n",
       "      <td>3</td>\n",
       "      <td>0</td>\n",
       "      <td>1</td>\n",
       "      <td>0</td>\n",
       "      <td>1</td>\n",
       "      <td>0</td>\n",
       "      <td>0.00</td>\n",
       "      <td>0</td>\n",
       "      <td>0</td>\n",
       "      <td>3</td>\n",
       "      <td>0</td>\n",
       "      <td>0.000000</td>\n",
       "      <td>0.000000</td>\n",
       "      <td>0.0000</td>\n",
       "    </tr>\n",
       "    <tr>\n",
       "      <th>2</th>\n",
       "      <td>3</td>\n",
       "      <td>0</td>\n",
       "      <td>2</td>\n",
       "      <td>0</td>\n",
       "      <td>13</td>\n",
       "      <td>4</td>\n",
       "      <td>0.04</td>\n",
       "      <td>0</td>\n",
       "      <td>0</td>\n",
       "      <td>3</td>\n",
       "      <td>0</td>\n",
       "      <td>0.010000</td>\n",
       "      <td>0.307692</td>\n",
       "      <td>0.0000</td>\n",
       "    </tr>\n",
       "    <tr>\n",
       "      <th>3</th>\n",
       "      <td>3</td>\n",
       "      <td>0</td>\n",
       "      <td>3</td>\n",
       "      <td>0</td>\n",
       "      <td>5</td>\n",
       "      <td>4</td>\n",
       "      <td>0.08</td>\n",
       "      <td>0</td>\n",
       "      <td>0</td>\n",
       "      <td>3</td>\n",
       "      <td>0</td>\n",
       "      <td>0.020000</td>\n",
       "      <td>0.800000</td>\n",
       "      <td>0.0000</td>\n",
       "    </tr>\n",
       "    <tr>\n",
       "      <th>4</th>\n",
       "      <td>3</td>\n",
       "      <td>0</td>\n",
       "      <td>0</td>\n",
       "      <td>1</td>\n",
       "      <td>247</td>\n",
       "      <td>126</td>\n",
       "      <td>1.29</td>\n",
       "      <td>4</td>\n",
       "      <td>0</td>\n",
       "      <td>3</td>\n",
       "      <td>0</td>\n",
       "      <td>0.010238</td>\n",
       "      <td>0.510121</td>\n",
       "      <td>0.3225</td>\n",
       "    </tr>\n",
       "    <tr>\n",
       "      <th>...</th>\n",
       "      <td>...</td>\n",
       "      <td>...</td>\n",
       "      <td>...</td>\n",
       "      <td>...</td>\n",
       "      <td>...</td>\n",
       "      <td>...</td>\n",
       "      <td>...</td>\n",
       "      <td>...</td>\n",
       "      <td>...</td>\n",
       "      <td>...</td>\n",
       "      <td>...</td>\n",
       "      <td>...</td>\n",
       "      <td>...</td>\n",
       "      <td>...</td>\n",
       "    </tr>\n",
       "    <tr>\n",
       "      <th>313</th>\n",
       "      <td>114</td>\n",
       "      <td>0</td>\n",
       "      <td>3</td>\n",
       "      <td>54</td>\n",
       "      <td>1</td>\n",
       "      <td>1</td>\n",
       "      <td>0.01</td>\n",
       "      <td>0</td>\n",
       "      <td>14</td>\n",
       "      <td>2</td>\n",
       "      <td>1</td>\n",
       "      <td>0.010000</td>\n",
       "      <td>1.000000</td>\n",
       "      <td>0.0000</td>\n",
       "    </tr>\n",
       "    <tr>\n",
       "      <th>314</th>\n",
       "      <td>114</td>\n",
       "      <td>0</td>\n",
       "      <td>2</td>\n",
       "      <td>54</td>\n",
       "      <td>5</td>\n",
       "      <td>1</td>\n",
       "      <td>0.01</td>\n",
       "      <td>0</td>\n",
       "      <td>14</td>\n",
       "      <td>2</td>\n",
       "      <td>1</td>\n",
       "      <td>0.010000</td>\n",
       "      <td>0.200000</td>\n",
       "      <td>0.0000</td>\n",
       "    </tr>\n",
       "    <tr>\n",
       "      <th>315</th>\n",
       "      <td>114</td>\n",
       "      <td>0</td>\n",
       "      <td>0</td>\n",
       "      <td>54</td>\n",
       "      <td>25</td>\n",
       "      <td>11</td>\n",
       "      <td>0.14</td>\n",
       "      <td>0</td>\n",
       "      <td>14</td>\n",
       "      <td>2</td>\n",
       "      <td>1</td>\n",
       "      <td>0.012727</td>\n",
       "      <td>0.440000</td>\n",
       "      <td>0.0000</td>\n",
       "    </tr>\n",
       "    <tr>\n",
       "      <th>316</th>\n",
       "      <td>114</td>\n",
       "      <td>0</td>\n",
       "      <td>2</td>\n",
       "      <td>55</td>\n",
       "      <td>9</td>\n",
       "      <td>4</td>\n",
       "      <td>0.06</td>\n",
       "      <td>0</td>\n",
       "      <td>14</td>\n",
       "      <td>2</td>\n",
       "      <td>1</td>\n",
       "      <td>0.015000</td>\n",
       "      <td>0.444444</td>\n",
       "      <td>0.0000</td>\n",
       "    </tr>\n",
       "    <tr>\n",
       "      <th>317</th>\n",
       "      <td>114</td>\n",
       "      <td>0</td>\n",
       "      <td>0</td>\n",
       "      <td>55</td>\n",
       "      <td>67</td>\n",
       "      <td>27</td>\n",
       "      <td>0.33</td>\n",
       "      <td>1</td>\n",
       "      <td>14</td>\n",
       "      <td>2</td>\n",
       "      <td>1</td>\n",
       "      <td>0.012222</td>\n",
       "      <td>0.402985</td>\n",
       "      <td>0.3300</td>\n",
       "    </tr>\n",
       "  </tbody>\n",
       "</table>\n",
       "<p>4889 rows × 14 columns</p>\n",
       "</div>"
      ],
      "text/plain": [
       "     date  campaign  adgroup  ad  impressions  clicks  cost  conversions  day  \\\n",
       "0       3         0        0   0           24       6  0.08            0    0   \n",
       "1       3         0        1   0            1       0  0.00            0    0   \n",
       "2       3         0        2   0           13       4  0.04            0    0   \n",
       "3       3         0        3   0            5       4  0.08            0    0   \n",
       "4       3         0        0   1          247     126  1.29            4    0   \n",
       "..    ...       ...      ...  ..          ...     ...   ...          ...  ...   \n",
       "313   114         0        3  54            1       1  0.01            0   14   \n",
       "314   114         0        2  54            5       1  0.01            0   14   \n",
       "315   114         0        0  54           25      11  0.14            0   14   \n",
       "316   114         0        2  55            9       4  0.06            0   14   \n",
       "317   114         0        0  55           67      27  0.33            1   14   \n",
       "\n",
       "     month  year       CPC       CTR     COA  \n",
       "0        3     0  0.013333  0.250000  0.0000  \n",
       "1        3     0  0.000000  0.000000  0.0000  \n",
       "2        3     0  0.010000  0.307692  0.0000  \n",
       "3        3     0  0.020000  0.800000  0.0000  \n",
       "4        3     0  0.010238  0.510121  0.3225  \n",
       "..     ...   ...       ...       ...     ...  \n",
       "313      2     1  0.010000  1.000000  0.0000  \n",
       "314      2     1  0.010000  0.200000  0.0000  \n",
       "315      2     1  0.012727  0.440000  0.0000  \n",
       "316      2     1  0.015000  0.444444  0.0000  \n",
       "317      2     1  0.012222  0.402985  0.3300  \n",
       "\n",
       "[4889 rows x 14 columns]"
      ]
     },
     "execution_count": 35,
     "metadata": {},
     "output_type": "execute_result"
    }
   ],
   "source": [
    "df[num_col]"
   ]
  },
  {
   "cell_type": "code",
   "execution_count": 36,
   "id": "9a212648",
   "metadata": {
    "execution": {
     "iopub.execute_input": "2021-10-26T10:46:49.305294Z",
     "iopub.status.busy": "2021-10-26T10:46:49.304005Z",
     "iopub.status.idle": "2021-10-26T10:46:49.307874Z",
     "shell.execute_reply": "2021-10-26T10:46:49.307411Z"
    },
    "papermill": {
     "duration": 0.075307,
     "end_time": "2021-10-26T10:46:49.307977",
     "exception": false,
     "start_time": "2021-10-26T10:46:49.232670",
     "status": "completed"
    },
    "tags": []
   },
   "outputs": [],
   "source": [
    "train=df[df.tst==0]\n",
    "test=df[df.tst==1]"
   ]
  },
  {
   "cell_type": "code",
   "execution_count": 37,
   "id": "00e2041e",
   "metadata": {
    "execution": {
     "iopub.execute_input": "2021-10-26T10:46:49.448373Z",
     "iopub.status.busy": "2021-10-26T10:46:49.447838Z",
     "iopub.status.idle": "2021-10-26T10:46:49.451283Z",
     "shell.execute_reply": "2021-10-26T10:46:49.450828Z"
    },
    "papermill": {
     "duration": 0.076096,
     "end_time": "2021-10-26T10:46:49.451386",
     "exception": false,
     "start_time": "2021-10-26T10:46:49.375290",
     "status": "completed"
    },
    "tags": []
   },
   "outputs": [],
   "source": [
    "train=train.drop(columns=['tst','campaign'],axis=1)"
   ]
  },
  {
   "cell_type": "code",
   "execution_count": 38,
   "id": "3a1ea3b1",
   "metadata": {
    "execution": {
     "iopub.execute_input": "2021-10-26T10:46:49.592264Z",
     "iopub.status.busy": "2021-10-26T10:46:49.591456Z",
     "iopub.status.idle": "2021-10-26T10:46:49.607120Z",
     "shell.execute_reply": "2021-10-26T10:46:49.606663Z"
    },
    "papermill": {
     "duration": 0.089049,
     "end_time": "2021-10-26T10:46:49.607228",
     "exception": false,
     "start_time": "2021-10-26T10:46:49.518179",
     "status": "completed"
    },
    "tags": []
   },
   "outputs": [
    {
     "data": {
      "text/html": [
       "<div>\n",
       "<style scoped>\n",
       "    .dataframe tbody tr th:only-of-type {\n",
       "        vertical-align: middle;\n",
       "    }\n",
       "\n",
       "    .dataframe tbody tr th {\n",
       "        vertical-align: top;\n",
       "    }\n",
       "\n",
       "    .dataframe thead th {\n",
       "        text-align: right;\n",
       "    }\n",
       "</style>\n",
       "<table border=\"1\" class=\"dataframe\">\n",
       "  <thead>\n",
       "    <tr style=\"text-align: right;\">\n",
       "      <th></th>\n",
       "      <th>date</th>\n",
       "      <th>adgroup</th>\n",
       "      <th>ad</th>\n",
       "      <th>impressions</th>\n",
       "      <th>clicks</th>\n",
       "      <th>cost</th>\n",
       "      <th>conversions</th>\n",
       "      <th>day</th>\n",
       "      <th>month</th>\n",
       "      <th>year</th>\n",
       "      <th>CPC</th>\n",
       "      <th>CTR</th>\n",
       "      <th>COA</th>\n",
       "    </tr>\n",
       "  </thead>\n",
       "  <tbody>\n",
       "    <tr>\n",
       "      <th>0</th>\n",
       "      <td>2</td>\n",
       "      <td>0</td>\n",
       "      <td>0</td>\n",
       "      <td>121</td>\n",
       "      <td>49</td>\n",
       "      <td>0.58</td>\n",
       "      <td>1</td>\n",
       "      <td>0</td>\n",
       "      <td>2</td>\n",
       "      <td>1</td>\n",
       "      <td>0.011837</td>\n",
       "      <td>0.404959</td>\n",
       "      <td>0.58</td>\n",
       "    </tr>\n",
       "    <tr>\n",
       "      <th>1</th>\n",
       "      <td>2</td>\n",
       "      <td>2</td>\n",
       "      <td>0</td>\n",
       "      <td>22</td>\n",
       "      <td>12</td>\n",
       "      <td>0.17</td>\n",
       "      <td>0</td>\n",
       "      <td>0</td>\n",
       "      <td>2</td>\n",
       "      <td>1</td>\n",
       "      <td>0.014167</td>\n",
       "      <td>0.545455</td>\n",
       "      <td>0.00</td>\n",
       "    </tr>\n",
       "    <tr>\n",
       "      <th>2</th>\n",
       "      <td>2</td>\n",
       "      <td>3</td>\n",
       "      <td>0</td>\n",
       "      <td>5</td>\n",
       "      <td>3</td>\n",
       "      <td>0.05</td>\n",
       "      <td>0</td>\n",
       "      <td>0</td>\n",
       "      <td>2</td>\n",
       "      <td>1</td>\n",
       "      <td>0.016667</td>\n",
       "      <td>0.600000</td>\n",
       "      <td>0.00</td>\n",
       "    </tr>\n",
       "    <tr>\n",
       "      <th>3</th>\n",
       "      <td>2</td>\n",
       "      <td>1</td>\n",
       "      <td>0</td>\n",
       "      <td>2</td>\n",
       "      <td>1</td>\n",
       "      <td>0.01</td>\n",
       "      <td>0</td>\n",
       "      <td>0</td>\n",
       "      <td>2</td>\n",
       "      <td>1</td>\n",
       "      <td>0.010000</td>\n",
       "      <td>0.500000</td>\n",
       "      <td>0.00</td>\n",
       "    </tr>\n",
       "    <tr>\n",
       "      <th>4</th>\n",
       "      <td>2</td>\n",
       "      <td>1</td>\n",
       "      <td>1</td>\n",
       "      <td>3</td>\n",
       "      <td>1</td>\n",
       "      <td>0.01</td>\n",
       "      <td>0</td>\n",
       "      <td>0</td>\n",
       "      <td>2</td>\n",
       "      <td>1</td>\n",
       "      <td>0.010000</td>\n",
       "      <td>0.333333</td>\n",
       "      <td>0.00</td>\n",
       "    </tr>\n",
       "    <tr>\n",
       "      <th>...</th>\n",
       "      <td>...</td>\n",
       "      <td>...</td>\n",
       "      <td>...</td>\n",
       "      <td>...</td>\n",
       "      <td>...</td>\n",
       "      <td>...</td>\n",
       "      <td>...</td>\n",
       "      <td>...</td>\n",
       "      <td>...</td>\n",
       "      <td>...</td>\n",
       "      <td>...</td>\n",
       "      <td>...</td>\n",
       "      <td>...</td>\n",
       "    </tr>\n",
       "    <tr>\n",
       "      <th>313</th>\n",
       "      <td>114</td>\n",
       "      <td>3</td>\n",
       "      <td>54</td>\n",
       "      <td>1</td>\n",
       "      <td>1</td>\n",
       "      <td>0.01</td>\n",
       "      <td>0</td>\n",
       "      <td>14</td>\n",
       "      <td>2</td>\n",
       "      <td>1</td>\n",
       "      <td>0.010000</td>\n",
       "      <td>1.000000</td>\n",
       "      <td>0.00</td>\n",
       "    </tr>\n",
       "    <tr>\n",
       "      <th>314</th>\n",
       "      <td>114</td>\n",
       "      <td>2</td>\n",
       "      <td>54</td>\n",
       "      <td>5</td>\n",
       "      <td>1</td>\n",
       "      <td>0.01</td>\n",
       "      <td>0</td>\n",
       "      <td>14</td>\n",
       "      <td>2</td>\n",
       "      <td>1</td>\n",
       "      <td>0.010000</td>\n",
       "      <td>0.200000</td>\n",
       "      <td>0.00</td>\n",
       "    </tr>\n",
       "    <tr>\n",
       "      <th>315</th>\n",
       "      <td>114</td>\n",
       "      <td>0</td>\n",
       "      <td>54</td>\n",
       "      <td>25</td>\n",
       "      <td>11</td>\n",
       "      <td>0.14</td>\n",
       "      <td>0</td>\n",
       "      <td>14</td>\n",
       "      <td>2</td>\n",
       "      <td>1</td>\n",
       "      <td>0.012727</td>\n",
       "      <td>0.440000</td>\n",
       "      <td>0.00</td>\n",
       "    </tr>\n",
       "    <tr>\n",
       "      <th>316</th>\n",
       "      <td>114</td>\n",
       "      <td>2</td>\n",
       "      <td>55</td>\n",
       "      <td>9</td>\n",
       "      <td>4</td>\n",
       "      <td>0.06</td>\n",
       "      <td>0</td>\n",
       "      <td>14</td>\n",
       "      <td>2</td>\n",
       "      <td>1</td>\n",
       "      <td>0.015000</td>\n",
       "      <td>0.444444</td>\n",
       "      <td>0.00</td>\n",
       "    </tr>\n",
       "    <tr>\n",
       "      <th>317</th>\n",
       "      <td>114</td>\n",
       "      <td>0</td>\n",
       "      <td>55</td>\n",
       "      <td>67</td>\n",
       "      <td>27</td>\n",
       "      <td>0.33</td>\n",
       "      <td>1</td>\n",
       "      <td>14</td>\n",
       "      <td>2</td>\n",
       "      <td>1</td>\n",
       "      <td>0.012222</td>\n",
       "      <td>0.402985</td>\n",
       "      <td>0.33</td>\n",
       "    </tr>\n",
       "  </tbody>\n",
       "</table>\n",
       "<p>318 rows × 13 columns</p>\n",
       "</div>"
      ],
      "text/plain": [
       "     date  adgroup  ad  impressions  clicks  cost  conversions  day  month  \\\n",
       "0       2        0   0          121      49  0.58            1    0      2   \n",
       "1       2        2   0           22      12  0.17            0    0      2   \n",
       "2       2        3   0            5       3  0.05            0    0      2   \n",
       "3       2        1   0            2       1  0.01            0    0      2   \n",
       "4       2        1   1            3       1  0.01            0    0      2   \n",
       "..    ...      ...  ..          ...     ...   ...          ...  ...    ...   \n",
       "313   114        3  54            1       1  0.01            0   14      2   \n",
       "314   114        2  54            5       1  0.01            0   14      2   \n",
       "315   114        0  54           25      11  0.14            0   14      2   \n",
       "316   114        2  55            9       4  0.06            0   14      2   \n",
       "317   114        0  55           67      27  0.33            1   14      2   \n",
       "\n",
       "     year       CPC       CTR   COA  \n",
       "0       1  0.011837  0.404959  0.58  \n",
       "1       1  0.014167  0.545455  0.00  \n",
       "2       1  0.016667  0.600000  0.00  \n",
       "3       1  0.010000  0.500000  0.00  \n",
       "4       1  0.010000  0.333333  0.00  \n",
       "..    ...       ...       ...   ...  \n",
       "313     1  0.010000  1.000000  0.00  \n",
       "314     1  0.010000  0.200000  0.00  \n",
       "315     1  0.012727  0.440000  0.00  \n",
       "316     1  0.015000  0.444444  0.00  \n",
       "317     1  0.012222  0.402985  0.33  \n",
       "\n",
       "[318 rows x 13 columns]"
      ]
     },
     "execution_count": 38,
     "metadata": {},
     "output_type": "execute_result"
    }
   ],
   "source": [
    "test=test.drop(columns=['tst','revenue','campaign'],axis=1)\n",
    "test"
   ]
  },
  {
   "cell_type": "code",
   "execution_count": 39,
   "id": "236c2740",
   "metadata": {
    "execution": {
     "iopub.execute_input": "2021-10-26T10:46:49.748469Z",
     "iopub.status.busy": "2021-10-26T10:46:49.747753Z",
     "iopub.status.idle": "2021-10-26T10:46:49.750643Z",
     "shell.execute_reply": "2021-10-26T10:46:49.751048Z"
    },
    "papermill": {
     "duration": 0.075779,
     "end_time": "2021-10-26T10:46:49.751161",
     "exception": false,
     "start_time": "2021-10-26T10:46:49.675382",
     "status": "completed"
    },
    "tags": []
   },
   "outputs": [
    {
     "data": {
      "text/plain": [
       "Index(['date', 'adgroup', 'ad', 'impressions', 'clicks', 'cost', 'conversions',\n",
       "       'day', 'month', 'year', 'CPC', 'CTR', 'COA'],\n",
       "      dtype='object')"
      ]
     },
     "execution_count": 39,
     "metadata": {},
     "output_type": "execute_result"
    }
   ],
   "source": [
    "X=train.columns.drop('revenue')\n",
    "y=train.revenue\n",
    "X"
   ]
  },
  {
   "cell_type": "markdown",
   "id": "67c00e3c",
   "metadata": {
    "papermill": {
     "duration": 0.067772,
     "end_time": "2021-10-26T10:46:49.886970",
     "exception": false,
     "start_time": "2021-10-26T10:46:49.819198",
     "status": "completed"
    },
    "tags": []
   },
   "source": [
    "## Feature Selection"
   ]
  },
  {
   "cell_type": "code",
   "execution_count": 40,
   "id": "69659806",
   "metadata": {
    "execution": {
     "iopub.execute_input": "2021-10-26T10:46:50.033646Z",
     "iopub.status.busy": "2021-10-26T10:46:50.032943Z",
     "iopub.status.idle": "2021-10-26T10:46:51.064719Z",
     "shell.execute_reply": "2021-10-26T10:46:51.065144Z"
    },
    "papermill": {
     "duration": 1.108192,
     "end_time": "2021-10-26T10:46:51.065285",
     "exception": false,
     "start_time": "2021-10-26T10:46:49.957093",
     "status": "completed"
    },
    "tags": []
   },
   "outputs": [
    {
     "data": {
      "image/png": "[encoded data removed]",
      "text/plain": [
       "<Figure size 1080x1080 with 2 Axes>"
      ]
     },
     "metadata": {
      "needs_background": "light"
     },
     "output_type": "display_data"
    }
   ],
   "source": [
    "plt.figure(figsize=(15,15))\n",
    "corrmat =train.corr()\n",
    "top_corr_features = corrmat.index\n",
    "\n",
    "#plot heat map\n",
    "g=sns.heatmap(train[top_corr_features].corr(),annot=True,cmap=\"RdYlGn\")\n",
    "#sns.heatmap(train.corr(),annot=True)\n",
    "plt.show()\n"
   ]
  },
  {
   "cell_type": "code",
   "execution_count": 41,
   "id": "b30b8295",
   "metadata": {
    "execution": {
     "iopub.execute_input": "2021-10-26T10:46:51.218001Z",
     "iopub.status.busy": "2021-10-26T10:46:51.217201Z",
     "iopub.status.idle": "2021-10-26T10:46:51.223377Z",
     "shell.execute_reply": "2021-10-26T10:46:51.223804Z"
    },
    "papermill": {
     "duration": 0.08637,
     "end_time": "2021-10-26T10:46:51.223939",
     "exception": false,
     "start_time": "2021-10-26T10:46:51.137569",
     "status": "completed"
    },
    "tags": []
   },
   "outputs": [
    {
     "data": {
      "text/plain": [
       "impressions    39342.618057\n",
       "clicks         10033.009839\n",
       "date            4311.428828\n",
       "ad               373.424930\n",
       "cost             206.256076\n",
       "day               77.234203\n",
       "conversions       27.289366\n",
       "month              6.358523\n",
       "COA                4.044536\n",
       "adgroup            1.198460\n",
       "year               0.212179\n",
       "CTR                0.053852\n",
       "CPC                0.018230\n",
       "dtype: float64"
      ]
     },
     "execution_count": 41,
     "metadata": {},
     "output_type": "execute_result"
    }
   ],
   "source": [
    "train[X].var().sort_values(ascending=False)"
   ]
  },
  {
   "cell_type": "code",
   "execution_count": 42,
   "id": "1a1df83c",
   "metadata": {
    "execution": {
     "iopub.execute_input": "2021-10-26T10:46:51.374161Z",
     "iopub.status.busy": "2021-10-26T10:46:51.373296Z",
     "iopub.status.idle": "2021-10-26T10:46:51.375424Z",
     "shell.execute_reply": "2021-10-26T10:46:51.375842Z"
    },
    "papermill": {
     "duration": 0.079362,
     "end_time": "2021-10-26T10:46:51.375971",
     "exception": false,
     "start_time": "2021-10-26T10:46:51.296609",
     "status": "completed"
    },
    "tags": []
   },
   "outputs": [],
   "source": [
    "#features=['COA','cost','conversions','adgroup','clicks','CPC']---v5.0\n",
    "#features=['conversions','adgroup','date','clicks','year']---v11.0\n",
    "features=['date', 'adgroup', 'ad', 'impressions', 'clicks', 'cost', 'conversions',\n",
    "       'day', 'month', 'year', 'CPC', 'CTR', 'COA']  # replaced impression->cost\n",
    "X=train[features]\n",
    "y=train.revenue"
   ]
  },
  {
   "cell_type": "markdown",
   "id": "78ee69f2",
   "metadata": {
    "papermill": {
     "duration": 0.07119,
     "end_time": "2021-10-26T10:46:51.519383",
     "exception": false,
     "start_time": "2021-10-26T10:46:51.448193",
     "status": "completed"
    },
    "tags": []
   },
   "source": [
    "## Train Test Split"
   ]
  },
  {
   "cell_type": "code",
   "execution_count": 43,
   "id": "1d197492",
   "metadata": {
    "execution": {
     "iopub.execute_input": "2021-10-26T10:46:51.669297Z",
     "iopub.status.busy": "2021-10-26T10:46:51.667762Z",
     "iopub.status.idle": "2021-10-26T10:46:51.669927Z",
     "shell.execute_reply": "2021-10-26T10:46:51.670335Z"
    },
    "papermill": {
     "duration": 0.078808,
     "end_time": "2021-10-26T10:46:51.670456",
     "exception": false,
     "start_time": "2021-10-26T10:46:51.591648",
     "status": "completed"
    },
    "tags": []
   },
   "outputs": [],
   "source": [
    "# Since the given data is time series,we will not split on random basis...splitting data contigously\n",
    "row=3320\n",
    "X_train=X[:row]\n",
    "X_val=X[row:]\n",
    "y_train=y[:row]\n",
    "y_val=y[row:]"
   ]
  },
  {
   "cell_type": "code",
   "execution_count": 44,
   "id": "566e2ef1",
   "metadata": {
    "execution": {
     "iopub.execute_input": "2021-10-26T10:46:51.821160Z",
     "iopub.status.busy": "2021-10-26T10:46:51.820346Z",
     "iopub.status.idle": "2021-10-26T10:46:51.822836Z",
     "shell.execute_reply": "2021-10-26T10:46:51.822383Z"
    },
    "papermill": {
     "duration": 0.080643,
     "end_time": "2021-10-26T10:46:51.822947",
     "exception": false,
     "start_time": "2021-10-26T10:46:51.742304",
     "status": "completed"
    },
    "tags": []
   },
   "outputs": [],
   "source": [
    "X_test=test[features]"
   ]
  },
  {
   "cell_type": "code",
   "execution_count": 45,
   "id": "d317185e",
   "metadata": {
    "execution": {
     "iopub.execute_input": "2021-10-26T10:46:51.972749Z",
     "iopub.status.busy": "2021-10-26T10:46:51.972083Z",
     "iopub.status.idle": "2021-10-26T10:46:51.974678Z",
     "shell.execute_reply": "2021-10-26T10:46:51.975111Z"
    },
    "papermill": {
     "duration": 0.080777,
     "end_time": "2021-10-26T10:46:51.975234",
     "exception": false,
     "start_time": "2021-10-26T10:46:51.894457",
     "status": "completed"
    },
    "tags": []
   },
   "outputs": [
    {
     "data": {
      "text/plain": [
       "((3320, 13), (1251,))"
      ]
     },
     "execution_count": 45,
     "metadata": {},
     "output_type": "execute_result"
    }
   ],
   "source": [
    "X_train.shape,y_val.shape"
   ]
  },
  {
   "cell_type": "markdown",
   "id": "e07bba1d",
   "metadata": {
    "papermill": {
     "duration": 0.080753,
     "end_time": "2021-10-26T10:46:52.142708",
     "exception": false,
     "start_time": "2021-10-26T10:46:52.061955",
     "status": "completed"
    },
    "tags": []
   },
   "source": [
    "## Model Building and Evaluation"
   ]
  },
  {
   "cell_type": "code",
   "execution_count": 46,
   "id": "4213068e",
   "metadata": {
    "execution": {
     "iopub.execute_input": "2021-10-26T10:46:52.302181Z",
     "iopub.status.busy": "2021-10-26T10:46:52.300537Z",
     "iopub.status.idle": "2021-10-26T10:46:52.302787Z",
     "shell.execute_reply": "2021-10-26T10:46:52.303197Z"
    },
    "papermill": {
     "duration": 0.085554,
     "end_time": "2021-10-26T10:46:52.303315",
     "exception": false,
     "start_time": "2021-10-26T10:46:52.217761",
     "status": "completed"
    },
    "tags": []
   },
   "outputs": [],
   "source": [
    "def score(model,test,name='default'):\n",
    "    model.fit(X_train,y_train)\n",
    "    ypred=model.predict(test)\n",
    "    print(name)\n",
    "    print('Accuracy of training set: ',round(model.score(X_train,y_train)*100,2))\n",
    "    print('Accuracy of test set: ',round(model.score(test,y_val)*100,2))\n",
    "    print('mean squared error: ',round(mean_squared_error(y_val,ypred)/100,2))\n",
    "    print('mean absolute error: ',round(mean_absolute_error(y_val,ypred),2))\n",
    "    print('r2_score: ',round(r2_score(y_val,ypred)*100,2))"
   ]
  },
  {
   "cell_type": "markdown",
   "id": "a82014af",
   "metadata": {
    "papermill": {
     "duration": 0.072224,
     "end_time": "2021-10-26T10:46:52.447909",
     "exception": false,
     "start_time": "2021-10-26T10:46:52.375685",
     "status": "completed"
    },
    "tags": []
   },
   "source": [
    "## 1. Linear Regresion"
   ]
  },
  {
   "cell_type": "code",
   "execution_count": 47,
   "id": "2c45cf21",
   "metadata": {
    "execution": {
     "iopub.execute_input": "2021-10-26T10:46:52.598628Z",
     "iopub.status.busy": "2021-10-26T10:46:52.597723Z",
     "iopub.status.idle": "2021-10-26T10:46:52.619900Z",
     "shell.execute_reply": "2021-10-26T10:46:52.621541Z"
    },
    "papermill": {
     "duration": 0.101731,
     "end_time": "2021-10-26T10:46:52.621839",
     "exception": false,
     "start_time": "2021-10-26T10:46:52.520108",
     "status": "completed"
    },
    "tags": []
   },
   "outputs": [
    {
     "name": "stdout",
     "output_type": "stream",
     "text": [
      "Linear Regression\n",
      "Accuracy of training set:  94.64\n",
      "Accuracy of test set:  73.89\n",
      "mean squared error:  371.98\n",
      "mean absolute error:  113.54\n",
      "r2_score:  73.89\n"
     ]
    }
   ],
   "source": [
    "le=LinearRegression()\n",
    "score(le,X_val,name='Linear Regression')"
   ]
  },
  {
   "cell_type": "code",
   "execution_count": 48,
   "id": "4a460762",
   "metadata": {
    "execution": {
     "iopub.execute_input": "2021-10-26T10:46:52.831892Z",
     "iopub.status.busy": "2021-10-26T10:46:52.831045Z",
     "iopub.status.idle": "2021-10-26T10:46:52.840861Z",
     "shell.execute_reply": "2021-10-26T10:46:52.842053Z"
    },
    "papermill": {
     "duration": 0.089736,
     "end_time": "2021-10-26T10:46:52.842248",
     "exception": false,
     "start_time": "2021-10-26T10:46:52.752512",
     "status": "completed"
    },
    "tags": []
   },
   "outputs": [],
   "source": [
    "le.fit(X_train,y_train)\n",
    "ypred=le.predict(test[features])\n",
    "preds=le.predict(X_val)"
   ]
  },
  {
   "cell_type": "code",
   "execution_count": 49,
   "id": "5d2e9432",
   "metadata": {
    "execution": {
     "iopub.execute_input": "2021-10-26T10:46:53.053531Z",
     "iopub.status.busy": "2021-10-26T10:46:53.052781Z",
     "iopub.status.idle": "2021-10-26T10:46:53.055386Z",
     "shell.execute_reply": "2021-10-26T10:46:53.054967Z"
    },
    "papermill": {
     "duration": 0.080944,
     "end_time": "2021-10-26T10:46:53.055524",
     "exception": false,
     "start_time": "2021-10-26T10:46:52.974580",
     "status": "completed"
    },
    "tags": []
   },
   "outputs": [],
   "source": [
    "ypred_df=pd.DataFrame(ypred,columns=['revenue'])"
   ]
  },
  {
   "cell_type": "code",
   "execution_count": 50,
   "id": "d0d1a535",
   "metadata": {
    "execution": {
     "iopub.execute_input": "2021-10-26T10:46:53.210859Z",
     "iopub.status.busy": "2021-10-26T10:46:53.210053Z",
     "iopub.status.idle": "2021-10-26T10:46:53.213504Z",
     "shell.execute_reply": "2021-10-26T10:46:53.213061Z"
    },
    "papermill": {
     "duration": 0.084876,
     "end_time": "2021-10-26T10:46:53.213618",
     "exception": false,
     "start_time": "2021-10-26T10:46:53.128742",
     "status": "completed"
    },
    "tags": []
   },
   "outputs": [
    {
     "data": {
      "text/html": [
       "<div>\n",
       "<style scoped>\n",
       "    .dataframe tbody tr th:only-of-type {\n",
       "        vertical-align: middle;\n",
       "    }\n",
       "\n",
       "    .dataframe tbody tr th {\n",
       "        vertical-align: top;\n",
       "    }\n",
       "\n",
       "    .dataframe thead th {\n",
       "        text-align: right;\n",
       "    }\n",
       "</style>\n",
       "<table border=\"1\" class=\"dataframe\">\n",
       "  <thead>\n",
       "    <tr style=\"text-align: right;\">\n",
       "      <th></th>\n",
       "      <th>revenue</th>\n",
       "    </tr>\n",
       "  </thead>\n",
       "  <tbody>\n",
       "    <tr>\n",
       "      <th>0</th>\n",
       "      <td>106.940529</td>\n",
       "    </tr>\n",
       "    <tr>\n",
       "      <th>1</th>\n",
       "      <td>-84.390654</td>\n",
       "    </tr>\n",
       "    <tr>\n",
       "      <th>2</th>\n",
       "      <td>-78.341146</td>\n",
       "    </tr>\n",
       "    <tr>\n",
       "      <th>3</th>\n",
       "      <td>-83.912851</td>\n",
       "    </tr>\n",
       "    <tr>\n",
       "      <th>4</th>\n",
       "      <td>-77.342295</td>\n",
       "    </tr>\n",
       "    <tr>\n",
       "      <th>...</th>\n",
       "      <td>...</td>\n",
       "    </tr>\n",
       "    <tr>\n",
       "      <th>313</th>\n",
       "      <td>-84.852503</td>\n",
       "    </tr>\n",
       "    <tr>\n",
       "      <th>314</th>\n",
       "      <td>-59.229409</td>\n",
       "    </tr>\n",
       "    <tr>\n",
       "      <th>315</th>\n",
       "      <td>-83.488769</td>\n",
       "    </tr>\n",
       "    <tr>\n",
       "      <th>316</th>\n",
       "      <td>-68.456949</td>\n",
       "    </tr>\n",
       "    <tr>\n",
       "      <th>317</th>\n",
       "      <td>134.296938</td>\n",
       "    </tr>\n",
       "  </tbody>\n",
       "</table>\n",
       "<p>318 rows × 1 columns</p>\n",
       "</div>"
      ],
      "text/plain": [
       "        revenue\n",
       "0    106.940529\n",
       "1    -84.390654\n",
       "2    -78.341146\n",
       "3    -83.912851\n",
       "4    -77.342295\n",
       "..          ...\n",
       "313  -84.852503\n",
       "314  -59.229409\n",
       "315  -83.488769\n",
       "316  -68.456949\n",
       "317  134.296938\n",
       "\n",
       "[318 rows x 1 columns]"
      ]
     },
     "execution_count": 50,
     "metadata": {},
     "output_type": "execute_result"
    }
   ],
   "source": [
    "ypred_df"
   ]
  },
  {
   "cell_type": "code",
   "execution_count": 51,
   "id": "6f9c7414",
   "metadata": {
    "execution": {
     "iopub.execute_input": "2021-10-26T10:46:53.461812Z",
     "iopub.status.busy": "2021-10-26T10:46:53.460976Z",
     "iopub.status.idle": "2021-10-26T10:46:53.466038Z",
     "shell.execute_reply": "2021-10-26T10:46:53.465394Z"
    },
    "papermill": {
     "duration": 0.145959,
     "end_time": "2021-10-26T10:46:53.466193",
     "exception": false,
     "start_time": "2021-10-26T10:46:53.320234",
     "status": "completed"
    },
    "tags": []
   },
   "outputs": [
    {
     "data": {
      "text/plain": [
       "(3320, 13)"
      ]
     },
     "execution_count": 51,
     "metadata": {},
     "output_type": "execute_result"
    }
   ],
   "source": [
    "train[features][:row].shape"
   ]
  },
  {
   "cell_type": "markdown",
   "id": "eb9f74b8",
   "metadata": {
    "papermill": {
     "duration": 0.120931,
     "end_time": "2021-10-26T10:46:53.709118",
     "exception": false,
     "start_time": "2021-10-26T10:46:53.588187",
     "status": "completed"
    },
    "tags": []
   },
   "source": [
    "## 2. XGBoost Algorithm"
   ]
  },
  {
   "cell_type": "code",
   "execution_count": 52,
   "id": "9f37d73d",
   "metadata": {
    "execution": {
     "iopub.execute_input": "2021-10-26T10:46:53.925474Z",
     "iopub.status.busy": "2021-10-26T10:46:53.924814Z",
     "iopub.status.idle": "2021-10-26T10:46:55.382785Z",
     "shell.execute_reply": "2021-10-26T10:46:55.383710Z"
    },
    "papermill": {
     "duration": 1.551015,
     "end_time": "2021-10-26T10:46:55.383945",
     "exception": false,
     "start_time": "2021-10-26T10:46:53.832930",
     "status": "completed"
    },
    "tags": []
   },
   "outputs": [
    {
     "name": "stdout",
     "output_type": "stream",
     "text": [
      "XG Boost\n",
      "Accuracy of training set:  95.01\n",
      "Accuracy of test set:  91.0\n",
      "mean squared error:  128.17\n",
      "mean absolute error:  39.9\n",
      "r2_score:  91.0\n"
     ]
    }
   ],
   "source": [
    "# Best hyperparameters\n",
    "\n",
    "xgb=XGBRegressor(n_estimators=37,learning_rate=0.05,booster='gbtree')\n",
    "xgb.fit(X_train,y_train)\n",
    "\n",
    "score(xgb,X_val,name='XG Boost')"
   ]
  },
  {
   "cell_type": "code",
   "execution_count": 53,
   "id": "5c2758dc",
   "metadata": {
    "execution": {
     "iopub.execute_input": "2021-10-26T10:46:55.547214Z",
     "iopub.status.busy": "2021-10-26T10:46:55.543527Z",
     "iopub.status.idle": "2021-10-26T10:46:55.549887Z",
     "shell.execute_reply": "2021-10-26T10:46:55.550301Z"
    },
    "papermill": {
     "duration": 0.086238,
     "end_time": "2021-10-26T10:46:55.550448",
     "exception": false,
     "start_time": "2021-10-26T10:46:55.464210",
     "status": "completed"
    },
    "tags": []
   },
   "outputs": [],
   "source": [
    "ypred=xgb.predict(X_test)\n",
    "preds=xgb.predict(X_val)"
   ]
  },
  {
   "cell_type": "code",
   "execution_count": 54,
   "id": "7f9a1b0f",
   "metadata": {
    "execution": {
     "iopub.execute_input": "2021-10-26T10:46:55.707216Z",
     "iopub.status.busy": "2021-10-26T10:46:55.706435Z",
     "iopub.status.idle": "2021-10-26T10:46:55.708876Z",
     "shell.execute_reply": "2021-10-26T10:46:55.708428Z"
    },
    "papermill": {
     "duration": 0.081657,
     "end_time": "2021-10-26T10:46:55.708979",
     "exception": false,
     "start_time": "2021-10-26T10:46:55.627322",
     "status": "completed"
    },
    "tags": []
   },
   "outputs": [],
   "source": [
    "ypred_df=pd.DataFrame(ypred,columns=['revenue'])"
   ]
  },
  {
   "cell_type": "code",
   "execution_count": 55,
   "id": "443e98a1",
   "metadata": {
    "execution": {
     "iopub.execute_input": "2021-10-26T10:46:55.869057Z",
     "iopub.status.busy": "2021-10-26T10:46:55.868423Z",
     "iopub.status.idle": "2021-10-26T10:46:55.871107Z",
     "shell.execute_reply": "2021-10-26T10:46:55.871563Z"
    },
    "papermill": {
     "duration": 0.087372,
     "end_time": "2021-10-26T10:46:55.871691",
     "exception": false,
     "start_time": "2021-10-26T10:46:55.784319",
     "status": "completed"
    },
    "tags": []
   },
   "outputs": [
    {
     "data": {
      "text/html": [
       "<div>\n",
       "<style scoped>\n",
       "    .dataframe tbody tr th:only-of-type {\n",
       "        vertical-align: middle;\n",
       "    }\n",
       "\n",
       "    .dataframe tbody tr th {\n",
       "        vertical-align: top;\n",
       "    }\n",
       "\n",
       "    .dataframe thead th {\n",
       "        text-align: right;\n",
       "    }\n",
       "</style>\n",
       "<table border=\"1\" class=\"dataframe\">\n",
       "  <thead>\n",
       "    <tr style=\"text-align: right;\">\n",
       "      <th></th>\n",
       "      <th>revenue</th>\n",
       "    </tr>\n",
       "  </thead>\n",
       "  <tbody>\n",
       "    <tr>\n",
       "      <th>0</th>\n",
       "      <td>147.545273</td>\n",
       "    </tr>\n",
       "    <tr>\n",
       "      <th>1</th>\n",
       "      <td>0.075009</td>\n",
       "    </tr>\n",
       "    <tr>\n",
       "      <th>2</th>\n",
       "      <td>0.075009</td>\n",
       "    </tr>\n",
       "    <tr>\n",
       "      <th>3</th>\n",
       "      <td>0.075009</td>\n",
       "    </tr>\n",
       "    <tr>\n",
       "      <th>4</th>\n",
       "      <td>0.075009</td>\n",
       "    </tr>\n",
       "    <tr>\n",
       "      <th>5</th>\n",
       "      <td>0.075009</td>\n",
       "    </tr>\n",
       "    <tr>\n",
       "      <th>6</th>\n",
       "      <td>181.880661</td>\n",
       "    </tr>\n",
       "    <tr>\n",
       "      <th>7</th>\n",
       "      <td>0.075009</td>\n",
       "    </tr>\n",
       "    <tr>\n",
       "      <th>8</th>\n",
       "      <td>147.545273</td>\n",
       "    </tr>\n",
       "    <tr>\n",
       "      <th>9</th>\n",
       "      <td>0.075009</td>\n",
       "    </tr>\n",
       "  </tbody>\n",
       "</table>\n",
       "</div>"
      ],
      "text/plain": [
       "      revenue\n",
       "0  147.545273\n",
       "1    0.075009\n",
       "2    0.075009\n",
       "3    0.075009\n",
       "4    0.075009\n",
       "5    0.075009\n",
       "6  181.880661\n",
       "7    0.075009\n",
       "8  147.545273\n",
       "9    0.075009"
      ]
     },
     "execution_count": 55,
     "metadata": {},
     "output_type": "execute_result"
    }
   ],
   "source": [
    "ypred_df.index=test.index\n",
    "ypred_df.head(10)"
   ]
  },
  {
   "cell_type": "code",
   "execution_count": 56,
   "id": "ac22f0ad",
   "metadata": {
    "execution": {
     "iopub.execute_input": "2021-10-26T10:46:56.047405Z",
     "iopub.status.busy": "2021-10-26T10:46:56.045197Z",
     "iopub.status.idle": "2021-10-26T10:46:56.258580Z",
     "shell.execute_reply": "2021-10-26T10:46:56.258999Z"
    },
    "papermill": {
     "duration": 0.308809,
     "end_time": "2021-10-26T10:46:56.259193",
     "exception": false,
     "start_time": "2021-10-26T10:46:55.950384",
     "status": "completed"
    },
    "tags": []
   },
   "outputs": [
    {
     "name": "stderr",
     "output_type": "stream",
     "text": [
      "/opt/conda/lib/python3.7/site-packages/ipykernel_launcher.py:3: SettingWithCopyWarning: \n",
      "A value is trying to be set on a copy of a slice from a DataFrame.\n",
      "Try using .loc[row_indexer,col_indexer] = value instead\n",
      "\n",
      "See the caveats in the documentation: https://pandas.pydata.org/pandas-docs/stable/user_guide/indexing.html#returning-a-view-versus-a-copy\n",
      "  This is separate from the ipykernel package so we can avoid doing imports until\n",
      "/opt/conda/lib/python3.7/site-packages/ipykernel_launcher.py:4: SettingWithCopyWarning: \n",
      "A value is trying to be set on a copy of a slice from a DataFrame.\n",
      "Try using .loc[row_indexer,col_indexer] = value instead\n",
      "\n",
      "See the caveats in the documentation: https://pandas.pydata.org/pandas-docs/stable/user_guide/indexing.html#returning-a-view-versus-a-copy\n",
      "  after removing the cwd from sys.path.\n"
     ]
    },
    {
     "data": {
      "image/png": "[encoded data removed]",
      "text/plain": [
       "<Figure size 1440x720 with 1 Axes>"
      ]
     },
     "metadata": {
      "needs_background": "light"
     },
     "output_type": "display_data"
    }
   ],
   "source": [
    "plt.figure(figsize=(20,10))\n",
    "valid=train[row:]\n",
    "valid['Predictions'] = 0\n",
    "valid['Predictions'] = preds\n",
    "train1=train[features][:row]\n",
    "valid.index = train[features][row:].index\n",
    "train1.index = train1[:row].index\n",
    "\n",
    "plt.plot(train['revenue'][:row]) # train set\n",
    "plt.plot(valid[['revenue', 'Predictions']]) # val set\n",
    "plt.plot(ypred_df.revenue) # test set\n",
    "plt.show()"
   ]
  },
  {
   "cell_type": "code",
   "execution_count": 57,
   "id": "e1bcca13",
   "metadata": {
    "execution": {
     "iopub.execute_input": "2021-10-26T10:46:56.427574Z",
     "iopub.status.busy": "2021-10-26T10:46:56.420417Z",
     "iopub.status.idle": "2021-10-26T10:47:03.093241Z",
     "shell.execute_reply": "2021-10-26T10:47:03.094035Z"
    },
    "papermill": {
     "duration": 6.757061,
     "end_time": "2021-10-26T10:47:03.094207",
     "exception": false,
     "start_time": "2021-10-26T10:46:56.337146",
     "status": "completed"
    },
    "tags": []
   },
   "outputs": [],
   "source": [
    "#use this to find optimum value of n\n",
    "mse=[]\n",
    "mae=[]\n",
    "for i in range(10,60):\n",
    "    xgb=XGBRegressor(n_estimators=i,learning_rate=0.05)\n",
    "    xgb.fit(X_train,y_train)\n",
    "    pr=xgb.predict(X_val)\n",
    "    ms=mean_squared_error(y_val,pr)\n",
    "    ma=mean_absolute_error(y_val,pr)\n",
    "    mse.append(ms)\n",
    "    mae.append(ma)"
   ]
  },
  {
   "cell_type": "code",
   "execution_count": 58,
   "id": "36552a1b",
   "metadata": {
    "execution": {
     "iopub.execute_input": "2021-10-26T10:47:03.260921Z",
     "iopub.status.busy": "2021-10-26T10:47:03.260255Z",
     "iopub.status.idle": "2021-10-26T10:47:03.262899Z",
     "shell.execute_reply": "2021-10-26T10:47:03.263304Z"
    },
    "papermill": {
     "duration": 0.088542,
     "end_time": "2021-10-26T10:47:03.263431",
     "exception": false,
     "start_time": "2021-10-26T10:47:03.174889",
     "status": "completed"
    },
    "tags": []
   },
   "outputs": [
    {
     "data": {
      "text/plain": [
       "30"
      ]
     },
     "execution_count": 58,
     "metadata": {},
     "output_type": "execute_result"
    }
   ],
   "source": [
    "10+mae.index(min(mae))"
   ]
  },
  {
   "cell_type": "code",
   "execution_count": 59,
   "id": "d206a4c1",
   "metadata": {
    "execution": {
     "iopub.execute_input": "2021-10-26T10:47:03.425929Z",
     "iopub.status.busy": "2021-10-26T10:47:03.425108Z",
     "iopub.status.idle": "2021-10-26T10:47:03.639973Z",
     "shell.execute_reply": "2021-10-26T10:47:03.640515Z"
    },
    "papermill": {
     "duration": 0.299471,
     "end_time": "2021-10-26T10:47:03.640664",
     "exception": false,
     "start_time": "2021-10-26T10:47:03.341193",
     "status": "completed"
    },
    "tags": []
   },
   "outputs": [
    {
     "data": {
      "image/png": "[encoded data removed]",
      "text/plain": [
       "<Figure size 1440x720 with 1 Axes>"
      ]
     },
     "metadata": {
      "needs_background": "light"
     },
     "output_type": "display_data"
    }
   ],
   "source": [
    "plt.figure(figsize=(20,10))\n",
    "plt.plot(np.array(mae),'b--')\n",
    "plt.plot(np.array(mse)/1000)\n",
    "plt.show()"
   ]
  },
  {
   "cell_type": "code",
   "execution_count": 60,
   "id": "c7b57c9e",
   "metadata": {
    "execution": {
     "iopub.execute_input": "2021-10-26T10:47:03.820599Z",
     "iopub.status.busy": "2021-10-26T10:47:03.819926Z",
     "iopub.status.idle": "2021-10-26T10:47:03.991804Z",
     "shell.execute_reply": "2021-10-26T10:47:03.993154Z"
    },
    "papermill": {
     "duration": 0.270853,
     "end_time": "2021-10-26T10:47:03.993377",
     "exception": false,
     "start_time": "2021-10-26T10:47:03.722524",
     "status": "completed"
    },
    "tags": []
   },
   "outputs": [
    {
     "name": "stdout",
     "output_type": "stream",
     "text": [
      "CPU times: user 107 ms, sys: 78 µs, total: 107 ms\n",
      "Wall time: 55.4 ms\n",
      "MAE:  42.78450200039134\n",
      "XG Boost\n",
      "Accuracy of training set:  98.62\n",
      "Accuracy of test set:  88.0\n",
      "mean squared error:  170.97\n",
      "mean absolute error:  51.46\n",
      "r2_score:  88.0\n"
     ]
    }
   ],
   "source": [
    " xgb_model = XGBRegressor(\n",
    "         objective = 'reg:squarederror',\n",
    "         colsample_bytree = 0.7,\n",
    "         learning_rate = 0.1,\n",
    "         max_depth = 3,\n",
    "         min_child_weight = 3,\n",
    "         n_estimators = 60,\n",
    "         subsample = 0.7)\n",
    "\n",
    " %time xgb_model.fit(X_train, y_train, early_stopping_rounds=7, eval_set=[(X_val, y_val)], verbose=False)\n",
    "\n",
    " y_pred_xgb = xgb_model.predict(X_val)\n",
    "y_pred_xgb1 = xgb_model.predict(X_test)\n",
    "\n",
    "mae_xgb = mean_absolute_error(y_val, y_pred_xgb)\n",
    "\n",
    " print(\"MAE: \", mae_xgb)\n",
    "score(xgb_model,X_val,name='XG Boost')"
   ]
  },
  {
   "cell_type": "markdown",
   "id": "f55b6785",
   "metadata": {
    "papermill": {
     "duration": 0.078793,
     "end_time": "2021-10-26T10:47:04.156136",
     "exception": false,
     "start_time": "2021-10-26T10:47:04.077343",
     "status": "completed"
    },
    "tags": []
   },
   "source": [
    "#  HyperTuning"
   ]
  },
  {
   "cell_type": "code",
   "execution_count": 61,
   "id": "e8c461ab",
   "metadata": {
    "execution": {
     "iopub.execute_input": "2021-10-26T10:47:04.390278Z",
     "iopub.status.busy": "2021-10-26T10:47:04.387403Z",
     "iopub.status.idle": "2021-10-26T10:47:04.396727Z",
     "shell.execute_reply": "2021-10-26T10:47:04.397566Z"
    },
    "papermill": {
     "duration": 0.163031,
     "end_time": "2021-10-26T10:47:04.397758",
     "exception": false,
     "start_time": "2021-10-26T10:47:04.234727",
     "status": "completed"
    },
    "tags": []
   },
   "outputs": [],
   "source": [
    " def hyperParameterTuning(X_train, y_train):\n",
    "        param_tuning = {\n",
    "         'learning_rate': [0.01, 0.1,0.05],\n",
    "        'max_depth': [3, 5, 7, 10],\n",
    "         'min_child_weight': [1, 3, 5],\n",
    "         'subsample': [0.5, 0.7],\n",
    "         'colsample_bytree': [0.5, 0.7],\n",
    "         'n_estimators' : [40, 50, 60],\n",
    "         'objective': ['reg:squarederror']\n",
    "     }\n",
    "\n",
    "        xgb_model = XGBRegressor()\n",
    "\n",
    "        gsearch = GridSearchCV(estimator = xgb_model,\n",
    "                            param_grid = param_tuning,                        \n",
    "                            #scoring = 'neg_mean_absolute_error', #MAE\n",
    "                            #scoring = 'neg_mean_squared_error',  #MSE\n",
    "                            cv = 5,\n",
    "                            n_jobs = -1,\n",
    "                            verbose = 1)\n",
    "\n",
    "        gsearch.fit(X_train,y_train)\n",
    "        ypred=gsearch.predict(X_val)\n",
    "        ypred_1=gsearch.predict(X_test)\n",
    "        \n",
    "        print('Accuracy of training set: ',round(gsearch.score(X_train,y_train)*100,2))\n",
    "        print('Accuracy of test set: ',round(gsearch.score(X_val,y_val)*100,2))\n",
    "        print('mean squared error: ',round(mean_squared_error(y_val,ypred)/100,2))\n",
    "        print('mean absolute error: ',round(mean_absolute_error(y_val,ypred),2))\n",
    "        print('r2_score: ',round(r2_score(y_val,ypred)*100,2))\n",
    "        return ypred_1\n",
    "        "
   ]
  },
  {
   "cell_type": "code",
   "execution_count": 62,
   "id": "d2ae82e5",
   "metadata": {
    "execution": {
     "iopub.execute_input": "2021-10-26T10:47:04.669665Z",
     "iopub.status.busy": "2021-10-26T10:47:04.668849Z",
     "iopub.status.idle": "2021-10-26T11:04:42.109567Z",
     "shell.execute_reply": "2021-10-26T11:04:42.108905Z"
    },
    "papermill": {
     "duration": 1057.579341,
     "end_time": "2021-10-26T11:04:42.109726",
     "exception": false,
     "start_time": "2021-10-26T10:47:04.530385",
     "status": "completed"
    },
    "tags": []
   },
   "outputs": [
    {
     "name": "stdout",
     "output_type": "stream",
     "text": [
      "Fitting 5 folds for each of 432 candidates, totalling 2160 fits\n"
     ]
    },
    {
     "name": "stderr",
     "output_type": "stream",
     "text": [
      "[Parallel(n_jobs=-1)]: Using backend LokyBackend with 2 concurrent workers.\n",
      "[Parallel(n_jobs=-1)]: Done  46 tasks      | elapsed:   12.9s\n",
      "[Parallel(n_jobs=-1)]: Done 196 tasks      | elapsed:   56.4s\n",
      "[Parallel(n_jobs=-1)]: Done 446 tasks      | elapsed:  3.7min\n",
      "[Parallel(n_jobs=-1)]: Done 796 tasks      | elapsed:  6.2min\n",
      "[Parallel(n_jobs=-1)]: Done 1246 tasks      | elapsed:  9.7min\n",
      "[Parallel(n_jobs=-1)]: Done 1796 tasks      | elapsed: 14.4min\n",
      "[Parallel(n_jobs=-1)]: Done 2160 out of 2160 | elapsed: 17.6min finished\n"
     ]
    },
    {
     "name": "stdout",
     "output_type": "stream",
     "text": [
      "Accuracy of training set:  95.58\n",
      "Accuracy of test set:  88.79\n",
      "mean squared error:  159.66\n",
      "mean absolute error:  43.16\n",
      "r2_score:  88.79\n"
     ]
    }
   ],
   "source": [
    " ypred_1 = hyperParameterTuning(X_train, y_train)"
   ]
  },
  {
   "cell_type": "code",
   "execution_count": 63,
   "id": "fa82459a",
   "metadata": {
    "execution": {
     "iopub.execute_input": "2021-10-26T11:04:42.282816Z",
     "iopub.status.busy": "2021-10-26T11:04:42.281936Z",
     "iopub.status.idle": "2021-10-26T11:04:42.287889Z",
     "shell.execute_reply": "2021-10-26T11:04:42.287410Z"
    },
    "papermill": {
     "duration": 0.093331,
     "end_time": "2021-10-26T11:04:42.288004",
     "exception": false,
     "start_time": "2021-10-26T11:04:42.194673",
     "status": "completed"
    },
    "tags": []
   },
   "outputs": [],
   "source": [
    "ypred2_df=pd.DataFrame(ypred_1,columns=['revenue'])\n",
    "ypred2_df.to_csv('Submission_GridSearch.csv',index=False)"
   ]
  },
  {
   "cell_type": "markdown",
   "id": "c63a4fce",
   "metadata": {
    "papermill": {
     "duration": 0.082039,
     "end_time": "2021-10-26T11:04:42.451957",
     "exception": false,
     "start_time": "2021-10-26T11:04:42.369918",
     "status": "completed"
    },
    "tags": []
   },
   "source": [
    "# Optuna HyperTuning\n"
   ]
  },
  {
   "cell_type": "code",
   "execution_count": 64,
   "id": "5627c154",
   "metadata": {
    "execution": {
     "iopub.execute_input": "2021-10-26T11:04:42.622363Z",
     "iopub.status.busy": "2021-10-26T11:04:42.621597Z",
     "iopub.status.idle": "2021-10-26T11:04:42.627126Z",
     "shell.execute_reply": "2021-10-26T11:04:42.627561Z"
    },
    "papermill": {
     "duration": 0.093237,
     "end_time": "2021-10-26T11:04:42.627711",
     "exception": false,
     "start_time": "2021-10-26T11:04:42.534474",
     "status": "completed"
    },
    "tags": []
   },
   "outputs": [],
   "source": [
    "import optuna\n",
    "import xgboost as xgb\n",
    "from optuna.samplers import TPESampler\n",
    "from sklearn.preprocessing import RobustScaler, QuantileTransformer, StandardScaler,MinMaxScaler\n",
    "from sklearn.model_selection import train_test_split, cross_val_score, StratifiedKFold, KFold\n",
    "from sklearn.metrics import mean_squared_error\n",
    "dtrain = xgb.DMatrix(X_train,y_train)\n",
    "dtest  = xgb.DMatrix(X_val,y_val)"
   ]
  },
  {
   "cell_type": "code",
   "execution_count": 65,
   "id": "b720f5d3",
   "metadata": {
    "execution": {
     "iopub.execute_input": "2021-10-26T11:04:42.800514Z",
     "iopub.status.busy": "2021-10-26T11:04:42.799719Z",
     "iopub.status.idle": "2021-10-26T11:04:42.801786Z",
     "shell.execute_reply": "2021-10-26T11:04:42.802194Z"
    },
    "papermill": {
     "duration": 0.090445,
     "end_time": "2021-10-26T11:04:42.802320",
     "exception": false,
     "start_time": "2021-10-26T11:04:42.711875",
     "status": "completed"
    },
    "tags": []
   },
   "outputs": [],
   "source": [
    "def objective(trial):\n",
    "   \n",
    "    param = {\n",
    "#               \n",
    "                'max_depth':trial.suggest_int('max_depth', 0,12 ),\n",
    "                'reg_alpha':trial.suggest_uniform('reg_alpha',0.5,5),\n",
    "                'reg_lambda':trial.suggest_uniform('reg_lambda',0,5),\n",
    "                'min_child_weight':trial.suggest_int('min_child_weight',0,4),\n",
    "                'gamma':trial.suggest_uniform('gamma', 1,8 ),\n",
    "                'learning_rate':trial.suggest_loguniform('learning_rate',0.15,2),\n",
    "                'colsample_bytree':trial.suggest_uniform('colsample_bytree',0.1,1),\n",
    "                'subsample':trial.suggest_uniform('subsample',0.05,1),\n",
    "\n",
    "                'nthread' : -1\n",
    "            }\n",
    "    return(return_rmse(param)) # this will return the rmse score "
   ]
  },
  {
   "cell_type": "code",
   "execution_count": 66,
   "id": "f3a2b527",
   "metadata": {
    "execution": {
     "iopub.execute_input": "2021-10-26T11:04:42.970512Z",
     "iopub.status.busy": "2021-10-26T11:04:42.969727Z",
     "iopub.status.idle": "2021-10-26T11:04:42.975056Z",
     "shell.execute_reply": "2021-10-26T11:04:42.975611Z"
    },
    "papermill": {
     "duration": 0.091656,
     "end_time": "2021-10-26T11:04:42.975768",
     "exception": false,
     "start_time": "2021-10-26T11:04:42.884112",
     "status": "completed"
    },
    "tags": []
   },
   "outputs": [],
   "source": [
    "import re\n",
    "def return_rmse(params):\n",
    "    model = xgb.train(params , dtrain, num_boost_round = 60, evals = [(dtest, 'eval')],\n",
    "          early_stopping_rounds=20,verbose_eval = 0)\n",
    "    result = model.eval(dtest)\n",
    "    result = np.float(re.search(r'[\\d.]+$',result).group(0))\n",
    "    print(result)\n",
    "    return(result)"
   ]
  },
  {
   "cell_type": "code",
   "execution_count": 67,
   "id": "55626fde",
   "metadata": {
    "execution": {
     "iopub.execute_input": "2021-10-26T11:04:43.147911Z",
     "iopub.status.busy": "2021-10-26T11:04:43.147352Z",
     "iopub.status.idle": "2021-10-26T11:04:50.397247Z",
     "shell.execute_reply": "2021-10-26T11:04:50.397734Z"
    },
    "papermill": {
     "duration": 7.340273,
     "end_time": "2021-10-26T11:04:50.397912",
     "exception": false,
     "start_time": "2021-10-26T11:04:43.057639",
     "status": "completed"
    },
    "tags": []
   },
   "outputs": [
    {
     "name": "stderr",
     "output_type": "stream",
     "text": [
      "\u001b[32m[I 2021-10-26 11:04:43,145]\u001b[0m A new study created in memory with name: no-name-8e125e3b-88df-4a20-aeb5-fd0b63b044a7\u001b[0m\n",
      "/opt/conda/lib/python3.7/site-packages/optuna/progress_bar.py:47: ExperimentalWarning: Progress bar is experimental (supported from v1.2.0). The interface can change in the future.\n",
      "  self._init_valid()\n"
     ]
    },
    {
     "data": {
      "application/vnd.jupyter.widget-view+json": {
       "model_id": "201cae6cb2c74c55ad031c03b8282978",
       "version_major": 2,
       "version_minor": 0
      },
      "text/plain": [
       "  0%|          | 0/60 [00:00<?, ?it/s]"
      ]
     },
     "metadata": {},
     "output_type": "display_data"
    },
    {
     "name": "stdout",
     "output_type": "stream",
     "text": [
      "140.622849\n",
      "\u001b[32m[I 2021-10-26 11:04:43,323]\u001b[0m Trial 0 finished with value: 140.622849 and parameters: {'max_depth': 9, 'reg_alpha': 4.155386754970454, 'reg_lambda': 2.5491777620591587, 'min_child_weight': 0, 'gamma': 3.7578416912835477, 'learning_rate': 0.3518039388234584, 'colsample_bytree': 0.9808201371084493, 'subsample': 0.6715160413301605}. Best is trial 0 with value: 140.622849.\u001b[0m\n",
      "243.474579\n",
      "\u001b[32m[I 2021-10-26 11:04:43,355]\u001b[0m Trial 1 finished with value: 243.474579 and parameters: {'max_depth': 3, 'reg_alpha': 4.291365266505026, 'reg_lambda': 0.49596982441181936, 'min_child_weight': 2, 'gamma': 5.018910498731874, 'learning_rate': 0.19720675159606246, 'colsample_bytree': 0.24560536748669753, 'subsample': 0.05744630807707196}. Best is trial 0 with value: 140.622849.\u001b[0m\n",
      "1005.147949\n",
      "\u001b[32m[I 2021-10-26 11:04:43,444]\u001b[0m Trial 2 finished with value: 1005.147949 and parameters: {'max_depth': 12, 'reg_alpha': 3.702782174988575, 'reg_lambda': 1.0433262918589454, 'min_child_weight': 0, 'gamma': 6.463164244835753, 'learning_rate': 1.1322644838056568, 'colsample_bytree': 0.32677870887498206, 'subsample': 0.34499053805038304}. Best is trial 0 with value: 140.622849.\u001b[0m\n",
      "187.33046\n",
      "\u001b[32m[I 2021-10-26 11:04:43,509]\u001b[0m Trial 3 finished with value: 187.33046 and parameters: {'max_depth': 5, 'reg_alpha': 2.7474017774761075, 'reg_lambda': 0.5961805001300591, 'min_child_weight': 3, 'gamma': 3.2903281271032947, 'learning_rate': 0.8097002296872164, 'colsample_bytree': 0.9045414227226114, 'subsample': 0.8381014642053375}. Best is trial 0 with value: 140.622849.\u001b[0m\n",
      "137.062561\n",
      "\u001b[32m[I 2021-10-26 11:04:43,560]\u001b[0m Trial 4 finished with value: 137.062561 and parameters: {'max_depth': 4, 'reg_alpha': 4.532401495445761, 'reg_lambda': 4.819134043733775, 'min_child_weight': 3, 'gamma': 2.5775334444736018, 'learning_rate': 0.3742947184259271, 'colsample_bytree': 0.6259695541597615, 'subsample': 0.9004331155544603}. Best is trial 4 with value: 137.062561.\u001b[0m\n",
      "137.326981\n",
      "\u001b[32m[I 2021-10-26 11:04:43,706]\u001b[0m Trial 5 finished with value: 137.326981 and parameters: {'max_depth': 10, 'reg_alpha': 2.3203265389732133, 'reg_lambda': 4.401602815536042, 'min_child_weight': 2, 'gamma': 2.8745704500156237, 'learning_rate': 0.3038325271443521, 'colsample_bytree': 0.6493490404897387, 'subsample': 0.4564823824031359}. Best is trial 4 with value: 137.062561.\u001b[0m\n",
      "425.734558\n",
      "\u001b[32m[I 2021-10-26 11:04:43,722]\u001b[0m Trial 6 finished with value: 425.734558 and parameters: {'max_depth': 0, 'reg_alpha': 1.3702860371078915, 'reg_lambda': 3.929044171608322, 'min_child_weight': 2, 'gamma': 4.145908859585062, 'learning_rate': 0.32281379755083717, 'colsample_bytree': 0.575929418936643, 'subsample': 0.10521193988415127}. Best is trial 4 with value: 137.062561.\u001b[0m\n",
      "163.420135\n",
      "\u001b[32m[I 2021-10-26 11:04:43,774]\u001b[0m Trial 7 finished with value: 163.420135 and parameters: {'max_depth': 4, 'reg_alpha': 1.4660156802824724, 'reg_lambda': 2.0971889942777406, 'min_child_weight': 4, 'gamma': 6.178900309494628, 'learning_rate': 0.26958604931647195, 'colsample_bytree': 0.4469729288917379, 'subsample': 0.33398715806739787}. Best is trial 4 with value: 137.062561.\u001b[0m\n",
      "224.862701\n",
      "\u001b[32m[I 2021-10-26 11:04:43,894]\u001b[0m Trial 8 finished with value: 224.862701 and parameters: {'max_depth': 9, 'reg_alpha': 1.0839493231631585, 'reg_lambda': 2.9709570501049525, 'min_child_weight': 2, 'gamma': 7.627698216027483, 'learning_rate': 0.4620889848837836, 'colsample_bytree': 0.16061066073821603, 'subsample': 0.8532784378549365}. Best is trial 4 with value: 137.062561.\u001b[0m\n",
      "226.657715\n",
      "\u001b[32m[I 2021-10-26 11:04:43,949]\u001b[0m Trial 9 finished with value: 226.657715 and parameters: {'max_depth': 1, 'reg_alpha': 3.6819958526269567, 'reg_lambda': 2.008133649757995, 'min_child_weight': 2, 'gamma': 1.2762900983053993, 'learning_rate': 1.3290356655316455, 'colsample_bytree': 0.24988086119004108, 'subsample': 0.5478944673037246}. Best is trial 4 with value: 137.062561.\u001b[0m\n",
      "129.660889\n",
      "\u001b[32m[I 2021-10-26 11:04:44,076]\u001b[0m Trial 10 finished with value: 129.660889 and parameters: {'max_depth': 6, 'reg_alpha': 4.990576119632472, 'reg_lambda': 4.930231908742479, 'min_child_weight': 4, 'gamma': 1.6984982756889209, 'learning_rate': 0.15109172541148952, 'colsample_bytree': 0.7617269130345852, 'subsample': 0.972651492875118}. Best is trial 10 with value: 129.660889.\u001b[0m\n",
      "127.7089\n",
      "\u001b[32m[I 2021-10-26 11:04:44,233]\u001b[0m Trial 11 finished with value: 127.7089 and parameters: {'max_depth': 7, 'reg_alpha': 4.982676312423819, 'reg_lambda': 4.583235887844801, 'min_child_weight': 4, 'gamma': 1.403676032550055, 'learning_rate': 0.15190777254320922, 'colsample_bytree': 0.7615494736589898, 'subsample': 0.9733804469125893}. Best is trial 11 with value: 127.7089.\u001b[0m\n",
      "129.387009\n",
      "\u001b[32m[I 2021-10-26 11:04:44,375]\u001b[0m Trial 12 finished with value: 129.387009 and parameters: {'max_depth': 7, 'reg_alpha': 4.9268180477679975, 'reg_lambda': 3.6131379658917977, 'min_child_weight': 4, 'gamma': 1.0725030776599307, 'learning_rate': 0.15649151827140623, 'colsample_bytree': 0.7496954414625374, 'subsample': 0.9916612594178407}. Best is trial 11 with value: 127.7089.\u001b[0m\n",
      "126.704048\n",
      "\u001b[32m[I 2021-10-26 11:04:44,550]\u001b[0m Trial 13 finished with value: 126.704048 and parameters: {'max_depth': 8, 'reg_alpha': 4.993645185188047, 'reg_lambda': 3.631848010168583, 'min_child_weight': 4, 'gamma': 1.032900050778673, 'learning_rate': 0.16575452003288382, 'colsample_bytree': 0.836856774711649, 'subsample': 0.732529006859589}. Best is trial 13 with value: 126.704048.\u001b[0m\n",
      "136.553421\n",
      "\u001b[32m[I 2021-10-26 11:04:44,690]\u001b[0m Trial 14 finished with value: 136.553421 and parameters: {'max_depth': 7, 'reg_alpha': 3.4336707716478485, 'reg_lambda': 3.5181458881332017, 'min_child_weight': 3, 'gamma': 2.10880075102238, 'learning_rate': 0.2187933067664594, 'colsample_bytree': 0.8467551547844485, 'subsample': 0.7113336457172863}. Best is trial 13 with value: 126.704048.\u001b[0m\n",
      "165.047089\n",
      "\u001b[32m[I 2021-10-26 11:04:44,846]\u001b[0m Trial 15 finished with value: 165.047089 and parameters: {'max_depth': 11, 'reg_alpha': 3.111896809925955, 'reg_lambda': 4.2137469406848265, 'min_child_weight': 4, 'gamma': 2.077315011196397, 'learning_rate': 0.7542704986621659, 'colsample_bytree': 0.7725099230662226, 'subsample': 0.7390119882175363}. Best is trial 13 with value: 126.704048.\u001b[0m\n",
      "777.68927\n",
      "\u001b[32m[I 2021-10-26 11:04:45,013]\u001b[0m Trial 16 finished with value: 777.68927 and parameters: {'max_depth': 8, 'reg_alpha': 2.141879532614581, 'reg_lambda': 3.1178428491693495, 'min_child_weight': 1, 'gamma': 5.343911913526185, 'learning_rate': 1.9410646106357194, 'colsample_bytree': 0.998457768638735, 'subsample': 0.6049187234130764}. Best is trial 13 with value: 126.704048.\u001b[0m\n",
      "127.165321\n",
      "\u001b[32m[I 2021-10-26 11:04:45,159]\u001b[0m Trial 17 finished with value: 127.165321 and parameters: {'max_depth': 7, 'reg_alpha': 4.419976752393628, 'reg_lambda': 4.4149781634123855, 'min_child_weight': 3, 'gamma': 2.51275226681713, 'learning_rate': 0.20931742542811305, 'colsample_bytree': 0.8587510509930871, 'subsample': 0.8022818605441532}. Best is trial 13 with value: 126.704048.\u001b[0m\n",
      "129.940948\n",
      "\u001b[32m[I 2021-10-26 11:04:45,306]\u001b[0m Trial 18 finished with value: 129.940948 and parameters: {'max_depth': 9, 'reg_alpha': 4.149814713761645, 'reg_lambda': 3.952773484248838, 'min_child_weight': 3, 'gamma': 3.2572828243196605, 'learning_rate': 0.23056180878069774, 'colsample_bytree': 0.49409722448508275, 'subsample': 0.4510868611889524}. Best is trial 13 with value: 126.704048.\u001b[0m\n",
      "143.02951\n",
      "\u001b[32m[I 2021-10-26 11:04:45,373]\u001b[0m Trial 19 finished with value: 143.02951 and parameters: {'max_depth': 2, 'reg_alpha': 0.6178176359084642, 'reg_lambda': 3.2027351440495133, 'min_child_weight': 3, 'gamma': 2.3396581990341354, 'learning_rate': 0.5254647083926368, 'colsample_bytree': 0.8830060665286227, 'subsample': 0.7868791488257931}. Best is trial 13 with value: 126.704048.\u001b[0m\n",
      "126.763626\n",
      "\u001b[32m[I 2021-10-26 11:04:45,472]\u001b[0m Trial 20 finished with value: 126.763626 and parameters: {'max_depth': 5, 'reg_alpha': 4.45693180437083, 'reg_lambda': 1.516254543100073, 'min_child_weight': 1, 'gamma': 1.0040168552664648, 'learning_rate': 0.1885473096314787, 'colsample_bytree': 0.65830745027358, 'subsample': 0.5979710567893248}. Best is trial 13 with value: 126.704048.\u001b[0m\n",
      "130.514191\n",
      "\u001b[32m[I 2021-10-26 11:04:45,576]\u001b[0m Trial 21 finished with value: 130.514191 and parameters: {'max_depth': 5, 'reg_alpha': 4.580311418844852, 'reg_lambda': 1.4010376253707602, 'min_child_weight': 1, 'gamma': 1.0502361246588339, 'learning_rate': 0.1968973718942654, 'colsample_bytree': 0.6749199775837122, 'subsample': 0.620099712515965}. Best is trial 13 with value: 126.704048.\u001b[0m\n",
      "132.439896\n",
      "\u001b[32m[I 2021-10-26 11:04:45,697]\u001b[0m Trial 22 finished with value: 132.439896 and parameters: {'max_depth': 6, 'reg_alpha': 3.8988793278809357, 'reg_lambda': 1.535492695092345, 'min_child_weight': 1, 'gamma': 1.8049208697592098, 'learning_rate': 0.24519025933901123, 'colsample_bytree': 0.8352262221245722, 'subsample': 0.797420549926018}. Best is trial 13 with value: 126.704048.\u001b[0m\n",
      "133.138611\n",
      "\u001b[32m[I 2021-10-26 11:04:45,854]\u001b[0m Trial 23 finished with value: 133.138611 and parameters: {'max_depth': 8, 'reg_alpha': 4.57971023636753, 'reg_lambda': 2.665867791258796, 'min_child_weight': 1, 'gamma': 2.8462412481279333, 'learning_rate': 0.1835480161573131, 'colsample_bytree': 0.699524811021442, 'subsample': 0.6539821611190885}. Best is trial 13 with value: 126.704048.\u001b[0m\n",
      "147.088974\n",
      "\u001b[32m[I 2021-10-26 11:04:45,948]\u001b[0m Trial 24 finished with value: 147.088974 and parameters: {'max_depth': 5, 'reg_alpha': 3.23729760903597, 'reg_lambda': 1.8235125368614795, 'min_child_weight': 3, 'gamma': 1.7877454023385384, 'learning_rate': 0.4390053600296608, 'colsample_bytree': 0.9433675013575062, 'subsample': 0.5508882769251923}. Best is trial 13 with value: 126.704048.\u001b[0m\n",
      "146.195282\n",
      "\u001b[32m[I 2021-10-26 11:04:46,078]\u001b[0m Trial 25 finished with value: 146.195282 and parameters: {'max_depth': 8, 'reg_alpha': 4.483142726631091, 'reg_lambda': 3.712545204595926, 'min_child_weight': 0, 'gamma': 1.0113356788197034, 'learning_rate': 0.2831278998057181, 'colsample_bytree': 0.5592651629988892, 'subsample': 0.7402326716084207}. Best is trial 13 with value: 126.704048.\u001b[0m\n",
      "127.514481\n",
      "\u001b[32m[I 2021-10-26 11:04:46,203]\u001b[0m Trial 26 finished with value: 127.514481 and parameters: {'max_depth': 3, 'reg_alpha': 3.8670089235720395, 'reg_lambda': 2.3899686562865803, 'min_child_weight': 4, 'gamma': 2.386806564468859, 'learning_rate': 0.19779018540886434, 'colsample_bytree': 0.4285790767804274, 'subsample': 0.4638328337526657}. Best is trial 13 with value: 126.704048.\u001b[0m\n",
      "149.272675\n",
      "\u001b[32m[I 2021-10-26 11:04:46,410]\u001b[0m Trial 27 finished with value: 149.272675 and parameters: {'max_depth': 10, 'reg_alpha': 2.795128688195465, 'reg_lambda': 0.9579815078449165, 'min_child_weight': 1, 'gamma': 3.4931490611657163, 'learning_rate': 0.1825940883315172, 'colsample_bytree': 0.8253982633425117, 'subsample': 0.9041002164542487}. Best is trial 13 with value: 126.704048.\u001b[0m\n",
      "188.647629\n",
      "\u001b[32m[I 2021-10-26 11:04:46,503]\u001b[0m Trial 28 finished with value: 188.647629 and parameters: {'max_depth': 6, 'reg_alpha': 4.697043049472894, 'reg_lambda': 0.1675381410686243, 'min_child_weight': 3, 'gamma': 4.515169411559318, 'learning_rate': 0.6612067014280699, 'colsample_bytree': 0.9150798620133294, 'subsample': 0.27172617912809754}. Best is trial 13 with value: 126.704048.\u001b[0m\n",
      "142.859787\n",
      "\u001b[32m[I 2021-10-26 11:04:46,674]\u001b[0m Trial 29 finished with value: 142.859787 and parameters: {'max_depth': 10, 'reg_alpha': 4.146426397906216, 'reg_lambda': 2.6634095998943907, 'min_child_weight': 0, 'gamma': 1.7378765772207903, 'learning_rate': 0.3457489356955669, 'colsample_bytree': 0.6988111846617888, 'subsample': 0.6870027651562933}. Best is trial 13 with value: 126.704048.\u001b[0m\n",
      "126.660683\n",
      "\u001b[32m[I 2021-10-26 11:04:46,819]\u001b[0m Trial 30 finished with value: 126.660683 and parameters: {'max_depth': 7, 'reg_alpha': 4.19732614315698, 'reg_lambda': 4.14373229656281, 'min_child_weight': 4, 'gamma': 3.8489564573269766, 'learning_rate': 0.2474904091667073, 'colsample_bytree': 0.9617730640353819, 'subsample': 0.6016956895154043}. Best is trial 30 with value: 126.660683.\u001b[0m\n",
      "129.457138\n",
      "\u001b[32m[I 2021-10-26 11:04:46,969]\u001b[0m Trial 31 finished with value: 129.457138 and parameters: {'max_depth': 7, 'reg_alpha': 4.218755404313539, 'reg_lambda': 4.227569132125322, 'min_child_weight': 4, 'gamma': 3.740318824231653, 'learning_rate': 0.24435209175935016, 'colsample_bytree': 0.9624238536986189, 'subsample': 0.6003771691040647}. Best is trial 30 with value: 126.660683.\u001b[0m\n",
      "133.835373\n",
      "\u001b[32m[I 2021-10-26 11:04:47,141]\u001b[0m Trial 32 finished with value: 133.835373 and parameters: {'max_depth': 8, 'reg_alpha': 4.361314713974855, 'reg_lambda': 4.635967289559096, 'min_child_weight': 4, 'gamma': 4.613897173626023, 'learning_rate': 0.17319081685684504, 'colsample_bytree': 0.8156424035435352, 'subsample': 0.754797011535347}. Best is trial 30 with value: 126.660683.\u001b[0m\n",
      "135.021179\n",
      "\u001b[32m[I 2021-10-26 11:04:47,278]\u001b[0m Trial 33 finished with value: 135.021179 and parameters: {'max_depth': 6, 'reg_alpha': 4.740373308017532, 'reg_lambda': 3.8843778376174987, 'min_child_weight': 3, 'gamma': 4.006754309635854, 'learning_rate': 0.2152766109308364, 'colsample_bytree': 0.9964577099914843, 'subsample': 0.6582638908416599}. Best is trial 30 with value: 126.660683.\u001b[0m\n",
      "141.129852\n",
      "\u001b[32m[I 2021-10-26 11:04:47,367]\u001b[0m Trial 34 finished with value: 141.129852 and parameters: {'max_depth': 4, 'reg_alpha': 3.9143930731622842, 'reg_lambda': 4.2521386884640915, 'min_child_weight': 4, 'gamma': 3.040071046237812, 'learning_rate': 0.384754432875624, 'colsample_bytree': 0.9009429195815319, 'subsample': 0.5053940315139175}. Best is trial 30 with value: 126.660683.\u001b[0m\n",
      "135.376328\n",
      "\u001b[32m[I 2021-10-26 11:04:47,470]\u001b[0m Trial 35 finished with value: 135.376328 and parameters: {'max_depth': 5, 'reg_alpha': 3.5674858941230507, 'reg_lambda': 3.3852854773962613, 'min_child_weight': 3, 'gamma': 4.953010991915009, 'learning_rate': 0.26610791420430585, 'colsample_bytree': 0.865934018034987, 'subsample': 0.8448588621787065}. Best is trial 30 with value: 126.660683.\u001b[0m\n",
      "125.721428\n",
      "\u001b[32m[I 2021-10-26 11:04:47,648]\u001b[0m Trial 36 finished with value: 125.721428 and parameters: {'max_depth': 9, 'reg_alpha': 4.01697172005351, 'reg_lambda': 4.49363941776489, 'min_child_weight': 2, 'gamma': 2.608498689116481, 'learning_rate': 0.17342283412084197, 'colsample_bytree': 0.8081781141020925, 'subsample': 0.37004395263433604}. Best is trial 36 with value: 125.721428.\u001b[0m\n",
      "142.388214\n",
      "\u001b[32m[I 2021-10-26 11:04:47,808]\u001b[0m Trial 37 finished with value: 142.388214 and parameters: {'max_depth': 12, 'reg_alpha': 3.8976287931347806, 'reg_lambda': 0.7917317192485582, 'min_child_weight': 2, 'gamma': 5.837530220327027, 'learning_rate': 0.16769365663441493, 'colsample_bytree': 0.588943795028183, 'subsample': 0.2496292562218994}. Best is trial 36 with value: 125.721428.\u001b[0m\n",
      "147.386917\n",
      "\u001b[32m[I 2021-10-26 11:04:47,943]\u001b[0m Trial 38 finished with value: 147.386917 and parameters: {'max_depth': 9, 'reg_alpha': 4.175209687523268, 'reg_lambda': 1.2576314128298887, 'min_child_weight': 2, 'gamma': 1.484459877790321, 'learning_rate': 0.3088923099060648, 'colsample_bytree': 0.6298526614464645, 'subsample': 0.35807835747783295}. Best is trial 36 with value: 125.721428.\u001b[0m\n",
      "129.09285\n",
      "\u001b[32m[I 2021-10-26 11:04:48,149]\u001b[0m Trial 39 finished with value: 129.09285 and parameters: {'max_depth': 11, 'reg_alpha': 3.3613770695055374, 'reg_lambda': 4.795588785675932, 'min_child_weight': 0, 'gamma': 4.115655528312095, 'learning_rate': 0.17098449088640272, 'colsample_bytree': 0.7235201095656015, 'subsample': 0.4023870434424197}. Best is trial 36 with value: 125.721428.\u001b[0m\n",
      "157.575623\n",
      "\u001b[32m[I 2021-10-26 11:04:48,312]\u001b[0m Trial 40 finished with value: 157.575623 and parameters: {'max_depth': 11, 'reg_alpha': 2.8200525514270147, 'reg_lambda': 2.945937820550753, 'min_child_weight': 2, 'gamma': 2.859665491512408, 'learning_rate': 0.27606086760997334, 'colsample_bytree': 0.7903370787792303, 'subsample': 0.15819776295016078}. Best is trial 36 with value: 125.721428.\u001b[0m\n",
      "132.371155\n",
      "\u001b[32m[I 2021-10-26 11:04:48,483]\u001b[0m Trial 41 finished with value: 132.371155 and parameters: {'max_depth': 8, 'reg_alpha': 4.769114266006886, 'reg_lambda': 4.528938406495656, 'min_child_weight': 1, 'gamma': 2.5803740867866445, 'learning_rate': 0.20479720057863743, 'colsample_bytree': 0.9159224373478653, 'subsample': 0.5040037335520436}. Best is trial 36 with value: 125.721428.\u001b[0m\n",
      "144.71347\n",
      "\u001b[32m[I 2021-10-26 11:04:48,619]\u001b[0m Trial 42 finished with value: 144.71347 and parameters: {'max_depth': 7, 'reg_alpha': 4.398916710275029, 'reg_lambda': 3.926503205182428, 'min_child_weight': 3, 'gamma': 3.51173097221892, 'learning_rate': 0.23660261325625237, 'colsample_bytree': 0.9439522994421009, 'subsample': 0.5740559169680631}. Best is trial 36 with value: 125.721428.\u001b[0m\n",
      "134.41188\n",
      "\u001b[32m[I 2021-10-26 11:04:48,785]\u001b[0m Trial 43 finished with value: 134.41188 and parameters: {'max_depth': 9, 'reg_alpha': 4.786916453733162, 'reg_lambda': 4.95751421996524, 'min_child_weight': 4, 'gamma': 7.1906717838080585, 'learning_rate': 0.19459394874169916, 'colsample_bytree': 0.8660092676417395, 'subsample': 0.638266264921358}. Best is trial 36 with value: 125.721428.\u001b[0m\n",
      "128.909256\n",
      "\u001b[32m[I 2021-10-26 11:04:48,920]\u001b[0m Trial 44 finished with value: 128.909256 and parameters: {'max_depth': 6, 'reg_alpha': 4.032323685145529, 'reg_lambda': 4.153609024204798, 'min_child_weight': 3, 'gamma': 2.158226453047863, 'learning_rate': 0.17107940916392966, 'colsample_bytree': 0.801026803986893, 'subsample': 0.8771922929321585}. Best is trial 36 with value: 125.721428.\u001b[0m\n",
      "196.723557\n",
      "\u001b[32m[I 2021-10-26 11:04:49,075]\u001b[0m Trial 45 finished with value: 196.723557 and parameters: {'max_depth': 10, 'reg_alpha': 4.465900692568276, 'reg_lambda': 4.467155624592608, 'min_child_weight': 2, 'gamma': 1.4290334964148228, 'learning_rate': 1.173864482854601, 'colsample_bytree': 0.5047378677035563, 'subsample': 0.7941972041491191}. Best is trial 36 with value: 125.721428.\u001b[0m\n",
      "127.377182\n",
      "\u001b[32m[I 2021-10-26 11:04:49,190]\u001b[0m Trial 46 finished with value: 127.377182 and parameters: {'max_depth': 5, 'reg_alpha': 3.6940939588694404, 'reg_lambda': 4.680146546803075, 'min_child_weight': 4, 'gamma': 2.666282761181163, 'learning_rate': 0.15068692619075758, 'colsample_bytree': 0.7256297838322205, 'subsample': 0.7029284341925653}. Best is trial 36 with value: 125.721428.\u001b[0m\n",
      "138.174438\n",
      "\u001b[32m[I 2021-10-26 11:04:49,375]\u001b[0m Trial 47 finished with value: 138.174438 and parameters: {'max_depth': 7, 'reg_alpha': 4.92215102309491, 'reg_lambda': 4.369207485878334, 'min_child_weight': 2, 'gamma': 3.122843678876009, 'learning_rate': 0.2119999132945164, 'colsample_bytree': 0.34124493105893783, 'subsample': 0.9070406174361986}. Best is trial 36 with value: 125.721428.\u001b[0m\n",
      "123.991013\n",
      "\u001b[32m[I 2021-10-26 11:04:49,494]\u001b[0m Trial 48 finished with value: 123.991013 and parameters: {'max_depth': 8, 'reg_alpha': 2.1335927850948004, 'reg_lambda': 3.812954103208829, 'min_child_weight': 4, 'gamma': 1.9327527855577862, 'learning_rate': 0.2587854553859276, 'colsample_bytree': 0.6612255326822843, 'subsample': 0.38206814299827185}. Best is trial 48 with value: 123.991013.\u001b[0m\n",
      "159.703201\n",
      "\u001b[32m[I 2021-10-26 11:04:49,602]\u001b[0m Trial 49 finished with value: 159.703201 and parameters: {'max_depth': 9, 'reg_alpha': 2.2007503583736967, 'reg_lambda': 3.306469614004622, 'min_child_weight': 4, 'gamma': 1.2873621887466609, 'learning_rate': 0.3969536142973947, 'colsample_bytree': 0.6140984984696343, 'subsample': 0.2865843321442887}. Best is trial 48 with value: 123.991013.\u001b[0m\n",
      "121.428322\n",
      "\u001b[32m[I 2021-10-26 11:04:49,685]\u001b[0m Trial 50 finished with value: 121.428322 and parameters: {'max_depth': 4, 'reg_alpha': 1.7842083646879754, 'reg_lambda': 3.654192540178842, 'min_child_weight': 4, 'gamma': 2.1159739664747885, 'learning_rate': 0.297302218416917, 'colsample_bytree': 0.6456613768340582, 'subsample': 0.3649575649573926}. Best is trial 50 with value: 121.428322.\u001b[0m\n",
      "144.960846\n",
      "\u001b[32m[I 2021-10-26 11:04:49,754]\u001b[0m Trial 51 finished with value: 144.960846 and parameters: {'max_depth': 3, 'reg_alpha': 1.7937884966103106, 'reg_lambda': 3.727986388295547, 'min_child_weight': 4, 'gamma': 1.962005290201149, 'learning_rate': 0.3228003130987522, 'colsample_bytree': 0.6480321769727897, 'subsample': 0.38448135708949865}. Best is trial 50 with value: 121.428322.\u001b[0m\n",
      "117.575554\n",
      "\u001b[32m[I 2021-10-26 11:04:49,850]\u001b[0m Trial 52 finished with value: 117.575554 and parameters: {'max_depth': 4, 'reg_alpha': 1.7151115100423326, 'reg_lambda': 3.504473444616354, 'min_child_weight': 4, 'gamma': 1.516680386024401, 'learning_rate': 0.24991936774498177, 'colsample_bytree': 0.5353562933586852, 'subsample': 0.42229038805554275}. Best is trial 52 with value: 117.575554.\u001b[0m\n",
      "121.56459\n",
      "\u001b[32m[I 2021-10-26 11:04:49,946]\u001b[0m Trial 53 finished with value: 121.56459 and parameters: {'max_depth': 4, 'reg_alpha': 1.7388555581006546, 'reg_lambda': 3.4876664089302865, 'min_child_weight': 4, 'gamma': 1.561197140042756, 'learning_rate': 0.2560511708949804, 'colsample_bytree': 0.5152633978746979, 'subsample': 0.41110428001259686}. Best is trial 52 with value: 117.575554.\u001b[0m\n",
      "136.834137\n",
      "\u001b[32m[I 2021-10-26 11:04:50,020]\u001b[0m Trial 54 finished with value: 136.834137 and parameters: {'max_depth': 4, 'reg_alpha': 1.7091641302548235, 'reg_lambda': 2.944261060365522, 'min_child_weight': 4, 'gamma': 1.586245948872099, 'learning_rate': 0.3545037610574605, 'colsample_bytree': 0.5075187511115486, 'subsample': 0.32034059255706715}. Best is trial 52 with value: 117.575554.\u001b[0m\n",
      "129.384964\n",
      "\u001b[32m[I 2021-10-26 11:04:50,104]\u001b[0m Trial 55 finished with value: 129.384964 and parameters: {'max_depth': 2, 'reg_alpha': 1.201836120496681, 'reg_lambda': 4.0715612035166275, 'min_child_weight': 4, 'gamma': 2.2630086533022737, 'learning_rate': 0.29552797241434986, 'colsample_bytree': 0.4407988552380586, 'subsample': 0.42184661005581936}. Best is trial 52 with value: 117.575554.\u001b[0m\n",
      "126.779015\n",
      "\u001b[32m[I 2021-10-26 11:04:50,171]\u001b[0m Trial 56 finished with value: 126.779015 and parameters: {'max_depth': 2, 'reg_alpha': 1.9168972368252182, 'reg_lambda': 3.5345547510130717, 'min_child_weight': 4, 'gamma': 2.0058836111846134, 'learning_rate': 0.2655661042892915, 'colsample_bytree': 0.5413880007292777, 'subsample': 0.22977912073216572}. Best is trial 52 with value: 117.575554.\u001b[0m\n",
      "197.399017\n",
      "\u001b[32m[I 2021-10-26 11:04:50,250]\u001b[0m Trial 57 finished with value: 197.399017 and parameters: {'max_depth': 4, 'reg_alpha': 2.5523565302288773, 'reg_lambda': 3.3974124165066266, 'min_child_weight': 4, 'gamma': 1.8759039556304182, 'learning_rate': 0.4332955939910068, 'colsample_bytree': 0.3519814823785264, 'subsample': 0.355505567322218}. Best is trial 52 with value: 117.575554.\u001b[0m\n",
      "148.761246\n",
      "\u001b[32m[I 2021-10-26 11:04:50,334]\u001b[0m Trial 58 finished with value: 148.761246 and parameters: {'max_depth': 3, 'reg_alpha': 1.4687035293231672, 'reg_lambda': 3.7767058947182583, 'min_child_weight': 4, 'gamma': 2.5488811870915415, 'learning_rate': 0.5057296189813064, 'colsample_bytree': 0.39096979793980857, 'subsample': 0.4545229626779502}. Best is trial 52 with value: 117.575554.\u001b[0m\n",
      "414.826904\n",
      "\u001b[32m[I 2021-10-26 11:04:50,380]\u001b[0m Trial 59 finished with value: 414.826904 and parameters: {'max_depth': 0, 'reg_alpha': 2.062407243478749, 'reg_lambda': 3.113139045983875, 'min_child_weight': 4, 'gamma': 1.631970495083191, 'learning_rate': 0.2527592715262317, 'colsample_bytree': 0.11388333914303428, 'subsample': 0.20886845817513822}. Best is trial 52 with value: 117.575554.\u001b[0m\n"
     ]
    }
   ],
   "source": [
    "study1 = optuna.create_study(direction='minimize',sampler=TPESampler())\n",
    "study1.optimize(objective, n_trials= 60,show_progress_bar = True)"
   ]
  },
  {
   "cell_type": "code",
   "execution_count": 68,
   "id": "fb3d74bc",
   "metadata": {
    "execution": {
     "iopub.execute_input": "2021-10-26T11:04:50.587591Z",
     "iopub.status.busy": "2021-10-26T11:04:50.586462Z",
     "iopub.status.idle": "2021-10-26T11:04:50.589611Z",
     "shell.execute_reply": "2021-10-26T11:04:50.590035Z"
    },
    "papermill": {
     "duration": 0.100838,
     "end_time": "2021-10-26T11:04:50.590168",
     "exception": false,
     "start_time": "2021-10-26T11:04:50.489330",
     "status": "completed"
    },
    "tags": []
   },
   "outputs": [
    {
     "data": {
      "text/plain": [
       "{'max_depth': 4,\n",
       " 'reg_alpha': 1.7151115100423326,\n",
       " 'reg_lambda': 3.504473444616354,\n",
       " 'min_child_weight': 4,\n",
       " 'gamma': 1.516680386024401,\n",
       " 'learning_rate': 0.24991936774498177,\n",
       " 'colsample_bytree': 0.5353562933586852,\n",
       " 'subsample': 0.42229038805554275}"
      ]
     },
     "execution_count": 68,
     "metadata": {},
     "output_type": "execute_result"
    }
   ],
   "source": [
    "study1.best_params\n",
    "#model(study1.best_params)"
   ]
  },
  {
   "cell_type": "code",
   "execution_count": 69,
   "id": "628038d9",
   "metadata": {
    "execution": {
     "iopub.execute_input": "2021-10-26T11:04:50.775642Z",
     "iopub.status.busy": "2021-10-26T11:04:50.775107Z",
     "iopub.status.idle": "2021-10-26T11:04:50.888383Z",
     "shell.execute_reply": "2021-10-26T11:04:50.887605Z"
    },
    "papermill": {
     "duration": 0.207431,
     "end_time": "2021-10-26T11:04:50.888531",
     "exception": false,
     "start_time": "2021-10-26T11:04:50.681100",
     "status": "completed"
    },
    "tags": []
   },
   "outputs": [
    {
     "data": {
      "text/html": [
       "        <script type=\"text/javascript\">\n",
       "        window.PlotlyConfig = {MathJaxConfig: 'local'};\n",
       "        if (window.MathJax) {MathJax.Hub.Config({SVG: {font: \"STIX-Web\"}});}\n",
       "        if (typeof require !== 'undefined') {\n",
       "        require.undef(\"plotly\");\n",
       "        requirejs.config({\n",
       "            paths: {\n",
       "                'plotly': ['https://cdn.plot.ly/plotly-2.4.2.min']\n",
       "            }\n",
       "        });\n",
       "        require(['plotly'], function(Plotly) {\n",
       "            window._Plotly = Plotly;\n",
       "        });\n",
       "        }\n",
       "        </script>\n",
       "        "
      ]
     },
     "metadata": {},
     "output_type": "display_data"
    },
    {
     "data": {
      "text/html": [
       "<div>                            <div id=\"aeebbcf6-2aa7-4597-9f05-04adced24710\" class=\"plotly-graph-div\" style=\"height:525px; width:100%;\"></div>            <script type=\"text/javascript\">                require([\"plotly\"], function(Plotly) {                    window.PLOTLYENV=window.PLOTLYENV || {};                                    if (document.getElementById(\"aeebbcf6-2aa7-4597-9f05-04adced24710\")) {                    Plotly.newPlot(                        \"aeebbcf6-2aa7-4597-9f05-04adced24710\",                        [{\"mode\":\"markers\",\"name\":\"Objective Value\",\"type\":\"scatter\",\"x\":[0,1,2,3,4,5,6,7,8,9,10,11,12,13,14,15,16,17,18,19,20,21,22,23,24,25,26,27,28,29,30,31,32,33,34,35,36,37,38,39,40,41,42,43,44,45,46,47,48,49,50,51,52,53,54,55,56,57,58,59],\"y\":[140.622849,243.474579,1005.147949,187.33046,137.062561,137.326981,425.734558,163.420135,224.862701,226.657715,129.660889,127.7089,129.387009,126.704048,136.553421,165.047089,777.68927,127.165321,129.940948,143.02951,126.763626,130.514191,132.439896,133.138611,147.088974,146.195282,127.514481,149.272675,188.647629,142.859787,126.660683,129.457138,133.835373,135.021179,141.129852,135.376328,125.721428,142.388214,147.386917,129.09285,157.575623,132.371155,144.71347,134.41188,128.909256,196.723557,127.377182,138.174438,123.991013,159.703201,121.428322,144.960846,117.575554,121.56459,136.834137,129.384964,126.779015,197.399017,148.761246,414.826904]},{\"name\":\"Best Value\",\"type\":\"scatter\",\"x\":[0,1,2,3,4,5,6,7,8,9,10,11,12,13,14,15,16,17,18,19,20,21,22,23,24,25,26,27,28,29,30,31,32,33,34,35,36,37,38,39,40,41,42,43,44,45,46,47,48,49,50,51,52,53,54,55,56,57,58,59],\"y\":[140.622849,140.622849,140.622849,140.622849,137.062561,137.062561,137.062561,137.062561,137.062561,137.062561,129.660889,127.7089,127.7089,126.704048,126.704048,126.704048,126.704048,126.704048,126.704048,126.704048,126.704048,126.704048,126.704048,126.704048,126.704048,126.704048,126.704048,126.704048,126.704048,126.704048,126.660683,126.660683,126.660683,126.660683,126.660683,126.660683,125.721428,125.721428,125.721428,125.721428,125.721428,125.721428,125.721428,125.721428,125.721428,125.721428,125.721428,125.721428,123.991013,123.991013,121.428322,121.428322,117.575554,117.575554,117.575554,117.575554,117.575554,117.575554,117.575554,117.575554]}],                        {\"template\":{\"data\":{\"bar\":[{\"error_x\":{\"color\":\"#2a3f5f\"},\"error_y\":{\"color\":\"#2a3f5f\"},\"marker\":{\"line\":{\"color\":\"#E5ECF6\",\"width\":0.5},\"pattern\":{\"fillmode\":\"overlay\",\"size\":10,\"solidity\":0.2}},\"type\":\"bar\"}],\"barpolar\":[{\"marker\":{\"line\":{\"color\":\"#E5ECF6\",\"width\":0.5},\"pattern\":{\"fillmode\":\"overlay\",\"size\":10,\"solidity\":0.2}},\"type\":\"barpolar\"}],\"carpet\":[{\"aaxis\":{\"endlinecolor\":\"#2a3f5f\",\"gridcolor\":\"white\",\"linecolor\":\"white\",\"minorgridcolor\":\"white\",\"startlinecolor\":\"#2a3f5f\"},\"baxis\":{\"endlinecolor\":\"#2a3f5f\",\"gridcolor\":\"white\",\"linecolor\":\"white\",\"minorgridcolor\":\"white\",\"startlinecolor\":\"#2a3f5f\"},\"type\":\"carpet\"}],\"choropleth\":[{\"colorbar\":{\"outlinewidth\":0,\"ticks\":\"\"},\"type\":\"choropleth\"}],\"contour\":[{\"colorbar\":{\"outlinewidth\":0,\"ticks\":\"\"},\"colorscale\":[[0.0,\"#0d0887\"],[0.1111111111111111,\"#46039f\"],[0.2222222222222222,\"#7201a8\"],[0.3333333333333333,\"#9c179e\"],[0.4444444444444444,\"#bd3786\"],[0.5555555555555556,\"#d8576b\"],[0.6666666666666666,\"#ed7953\"],[0.7777777777777778,\"#fb9f3a\"],[0.8888888888888888,\"#fdca26\"],[1.0,\"#f0f921\"]],\"type\":\"contour\"}],\"contourcarpet\":[{\"colorbar\":{\"outlinewidth\":0,\"ticks\":\"\"},\"type\":\"contourcarpet\"}],\"heatmap\":[{\"colorbar\":{\"outlinewidth\":0,\"ticks\":\"\"},\"colorscale\":[[0.0,\"#0d0887\"],[0.1111111111111111,\"#46039f\"],[0.2222222222222222,\"#7201a8\"],[0.3333333333333333,\"#9c179e\"],[0.4444444444444444,\"#bd3786\"],[0.5555555555555556,\"#d8576b\"],[0.6666666666666666,\"#ed7953\"],[0.7777777777777778,\"#fb9f3a\"],[0.8888888888888888,\"#fdca26\"],[1.0,\"#f0f921\"]],\"type\":\"heatmap\"}],\"heatmapgl\":[{\"colorbar\":{\"outlinewidth\":0,\"ticks\":\"\"},\"colorscale\":[[0.0,\"#0d0887\"],[0.1111111111111111,\"#46039f\"],[0.2222222222222222,\"#7201a8\"],[0.3333333333333333,\"#9c179e\"],[0.4444444444444444,\"#bd3786\"],[0.5555555555555556,\"#d8576b\"],[0.6666666666666666,\"#ed7953\"],[0.7777777777777778,\"#fb9f3a\"],[0.8888888888888888,\"#fdca26\"],[1.0,\"#f0f921\"]],\"type\":\"heatmapgl\"}],\"histogram\":[{\"marker\":{\"pattern\":{\"fillmode\":\"overlay\",\"size\":10,\"solidity\":0.2}},\"type\":\"histogram\"}],\"histogram2d\":[{\"colorbar\":{\"outlinewidth\":0,\"ticks\":\"\"},\"colorscale\":[[0.0,\"#0d0887\"],[0.1111111111111111,\"#46039f\"],[0.2222222222222222,\"#7201a8\"],[0.3333333333333333,\"#9c179e\"],[0.4444444444444444,\"#bd3786\"],[0.5555555555555556,\"#d8576b\"],[0.6666666666666666,\"#ed7953\"],[0.7777777777777778,\"#fb9f3a\"],[0.8888888888888888,\"#fdca26\"],[1.0,\"#f0f921\"]],\"type\":\"histogram2d\"}],\"histogram2dcontour\":[{\"colorbar\":{\"outlinewidth\":0,\"ticks\":\"\"},\"colorscale\":[[0.0,\"#0d0887\"],[0.1111111111111111,\"#46039f\"],[0.2222222222222222,\"#7201a8\"],[0.3333333333333333,\"#9c179e\"],[0.4444444444444444,\"#bd3786\"],[0.5555555555555556,\"#d8576b\"],[0.6666666666666666,\"#ed7953\"],[0.7777777777777778,\"#fb9f3a\"],[0.8888888888888888,\"#fdca26\"],[1.0,\"#f0f921\"]],\"type\":\"histogram2dcontour\"}],\"mesh3d\":[{\"colorbar\":{\"outlinewidth\":0,\"ticks\":\"\"},\"type\":\"mesh3d\"}],\"parcoords\":[{\"line\":{\"colorbar\":{\"outlinewidth\":0,\"ticks\":\"\"}},\"type\":\"parcoords\"}],\"pie\":[{\"automargin\":true,\"type\":\"pie\"}],\"scatter\":[{\"marker\":{\"colorbar\":{\"outlinewidth\":0,\"ticks\":\"\"}},\"type\":\"scatter\"}],\"scatter3d\":[{\"line\":{\"colorbar\":{\"outlinewidth\":0,\"ticks\":\"\"}},\"marker\":{\"colorbar\":{\"outlinewidth\":0,\"ticks\":\"\"}},\"type\":\"scatter3d\"}],\"scattercarpet\":[{\"marker\":{\"colorbar\":{\"outlinewidth\":0,\"ticks\":\"\"}},\"type\":\"scattercarpet\"}],\"scattergeo\":[{\"marker\":{\"colorbar\":{\"outlinewidth\":0,\"ticks\":\"\"}},\"type\":\"scattergeo\"}],\"scattergl\":[{\"marker\":{\"colorbar\":{\"outlinewidth\":0,\"ticks\":\"\"}},\"type\":\"scattergl\"}],\"scattermapbox\":[{\"marker\":{\"colorbar\":{\"outlinewidth\":0,\"ticks\":\"\"}},\"type\":\"scattermapbox\"}],\"scatterpolar\":[{\"marker\":{\"colorbar\":{\"outlinewidth\":0,\"ticks\":\"\"}},\"type\":\"scatterpolar\"}],\"scatterpolargl\":[{\"marker\":{\"colorbar\":{\"outlinewidth\":0,\"ticks\":\"\"}},\"type\":\"scatterpolargl\"}],\"scatterternary\":[{\"marker\":{\"colorbar\":{\"outlinewidth\":0,\"ticks\":\"\"}},\"type\":\"scatterternary\"}],\"surface\":[{\"colorbar\":{\"outlinewidth\":0,\"ticks\":\"\"},\"colorscale\":[[0.0,\"#0d0887\"],[0.1111111111111111,\"#46039f\"],[0.2222222222222222,\"#7201a8\"],[0.3333333333333333,\"#9c179e\"],[0.4444444444444444,\"#bd3786\"],[0.5555555555555556,\"#d8576b\"],[0.6666666666666666,\"#ed7953\"],[0.7777777777777778,\"#fb9f3a\"],[0.8888888888888888,\"#fdca26\"],[1.0,\"#f0f921\"]],\"type\":\"surface\"}],\"table\":[{\"cells\":{\"fill\":{\"color\":\"#EBF0F8\"},\"line\":{\"color\":\"white\"}},\"header\":{\"fill\":{\"color\":\"#C8D4E3\"},\"line\":{\"color\":\"white\"}},\"type\":\"table\"}]},\"layout\":{\"annotationdefaults\":{\"arrowcolor\":\"#2a3f5f\",\"arrowhead\":0,\"arrowwidth\":1},\"autotypenumbers\":\"strict\",\"coloraxis\":{\"colorbar\":{\"outlinewidth\":0,\"ticks\":\"\"}},\"colorscale\":{\"diverging\":[[0,\"#8e0152\"],[0.1,\"#c51b7d\"],[0.2,\"#de77ae\"],[0.3,\"#f1b6da\"],[0.4,\"#fde0ef\"],[0.5,\"#f7f7f7\"],[0.6,\"#e6f5d0\"],[0.7,\"#b8e186\"],[0.8,\"#7fbc41\"],[0.9,\"#4d9221\"],[1,\"#276419\"]],\"sequential\":[[0.0,\"#0d0887\"],[0.1111111111111111,\"#46039f\"],[0.2222222222222222,\"#7201a8\"],[0.3333333333333333,\"#9c179e\"],[0.4444444444444444,\"#bd3786\"],[0.5555555555555556,\"#d8576b\"],[0.6666666666666666,\"#ed7953\"],[0.7777777777777778,\"#fb9f3a\"],[0.8888888888888888,\"#fdca26\"],[1.0,\"#f0f921\"]],\"sequentialminus\":[[0.0,\"#0d0887\"],[0.1111111111111111,\"#46039f\"],[0.2222222222222222,\"#7201a8\"],[0.3333333333333333,\"#9c179e\"],[0.4444444444444444,\"#bd3786\"],[0.5555555555555556,\"#d8576b\"],[0.6666666666666666,\"#ed7953\"],[0.7777777777777778,\"#fb9f3a\"],[0.8888888888888888,\"#fdca26\"],[1.0,\"#f0f921\"]]},\"colorway\":[\"#636efa\",\"#EF553B\",\"#00cc96\",\"#ab63fa\",\"#FFA15A\",\"#19d3f3\",\"#FF6692\",\"#B6E880\",\"#FF97FF\",\"#FECB52\"],\"font\":{\"color\":\"#2a3f5f\"},\"geo\":{\"bgcolor\":\"white\",\"lakecolor\":\"white\",\"landcolor\":\"#E5ECF6\",\"showlakes\":true,\"showland\":true,\"subunitcolor\":\"white\"},\"hoverlabel\":{\"align\":\"left\"},\"hovermode\":\"closest\",\"mapbox\":{\"style\":\"light\"},\"paper_bgcolor\":\"white\",\"plot_bgcolor\":\"#E5ECF6\",\"polar\":{\"angularaxis\":{\"gridcolor\":\"white\",\"linecolor\":\"white\",\"ticks\":\"\"},\"bgcolor\":\"#E5ECF6\",\"radialaxis\":{\"gridcolor\":\"white\",\"linecolor\":\"white\",\"ticks\":\"\"}},\"scene\":{\"xaxis\":{\"backgroundcolor\":\"#E5ECF6\",\"gridcolor\":\"white\",\"gridwidth\":2,\"linecolor\":\"white\",\"showbackground\":true,\"ticks\":\"\",\"zerolinecolor\":\"white\"},\"yaxis\":{\"backgroundcolor\":\"#E5ECF6\",\"gridcolor\":\"white\",\"gridwidth\":2,\"linecolor\":\"white\",\"showbackground\":true,\"ticks\":\"\",\"zerolinecolor\":\"white\"},\"zaxis\":{\"backgroundcolor\":\"#E5ECF6\",\"gridcolor\":\"white\",\"gridwidth\":2,\"linecolor\":\"white\",\"showbackground\":true,\"ticks\":\"\",\"zerolinecolor\":\"white\"}},\"shapedefaults\":{\"line\":{\"color\":\"#2a3f5f\"}},\"ternary\":{\"aaxis\":{\"gridcolor\":\"white\",\"linecolor\":\"white\",\"ticks\":\"\"},\"baxis\":{\"gridcolor\":\"white\",\"linecolor\":\"white\",\"ticks\":\"\"},\"bgcolor\":\"#E5ECF6\",\"caxis\":{\"gridcolor\":\"white\",\"linecolor\":\"white\",\"ticks\":\"\"}},\"title\":{\"x\":0.05},\"xaxis\":{\"automargin\":true,\"gridcolor\":\"white\",\"linecolor\":\"white\",\"ticks\":\"\",\"title\":{\"standoff\":15},\"zerolinecolor\":\"white\",\"zerolinewidth\":2},\"yaxis\":{\"automargin\":true,\"gridcolor\":\"white\",\"linecolor\":\"white\",\"ticks\":\"\",\"title\":{\"standoff\":15},\"zerolinecolor\":\"white\",\"zerolinewidth\":2}}},\"title\":{\"text\":\"Optimization History Plot\"},\"xaxis\":{\"title\":{\"text\":\"#Trials\"}},\"yaxis\":{\"title\":{\"text\":\"Objective Value\"}}},                        {\"responsive\": true}                    ).then(function(){\n",
       "                            \n",
       "var gd = document.getElementById('aeebbcf6-2aa7-4597-9f05-04adced24710');\n",
       "var x = new MutationObserver(function (mutations, observer) {{\n",
       "        var display = window.getComputedStyle(gd).display;\n",
       "        if (!display || display === 'none') {{\n",
       "            console.log([gd, 'removed!']);\n",
       "            Plotly.purge(gd);\n",
       "            observer.disconnect();\n",
       "        }}\n",
       "}});\n",
       "\n",
       "// Listen for the removal of the full notebook cells\n",
       "var notebookContainer = gd.closest('#notebook-container');\n",
       "if (notebookContainer) {{\n",
       "    x.observe(notebookContainer, {childList: true});\n",
       "}}\n",
       "\n",
       "// Listen for the clearing of the current output cell\n",
       "var outputEl = gd.closest('.output');\n",
       "if (outputEl) {{\n",
       "    x.observe(outputEl, {childList: true});\n",
       "}}\n",
       "\n",
       "                        })                };                });            </script>        </div>"
      ]
     },
     "metadata": {},
     "output_type": "display_data"
    }
   ],
   "source": [
    "optuna.visualization.plot_optimization_history(study1)"
   ]
  },
  {
   "cell_type": "code",
   "execution_count": 70,
   "id": "5f9fed34",
   "metadata": {
    "execution": {
     "iopub.execute_input": "2021-10-26T11:04:51.091586Z",
     "iopub.status.busy": "2021-10-26T11:04:51.084442Z",
     "iopub.status.idle": "2021-10-26T11:04:51.482841Z",
     "shell.execute_reply": "2021-10-26T11:04:51.482170Z"
    },
    "papermill": {
     "duration": 0.501582,
     "end_time": "2021-10-26T11:04:51.483011",
     "exception": false,
     "start_time": "2021-10-26T11:04:50.981429",
     "status": "completed"
    },
    "tags": []
   },
   "outputs": [
    {
     "data": {
      "text/html": [
       "<div>                            <div id=\"fff6fd94-7fef-4eb1-8414-250682f92107\" class=\"plotly-graph-div\" style=\"height:525px; width:2400px;\"></div>            <script type=\"text/javascript\">                require([\"plotly\"], function(Plotly) {                    window.PLOTLYENV=window.PLOTLYENV || {};                                    if (document.getElementById(\"fff6fd94-7fef-4eb1-8414-250682f92107\")) {                    Plotly.newPlot(                        \"fff6fd94-7fef-4eb1-8414-250682f92107\",                        [{\"marker\":{\"color\":[0,1,2,3,4,5,6,7,8,9,10,11,12,13,14,15,16,17,18,19,20,21,22,23,24,25,26,27,28,29,30,31,32,33,34,35,36,37,38,39,40,41,42,43,44,45,46,47,48,49,50,51,52,53,54,55,56,57,58,59],\"colorbar\":{\"title\":{\"text\":\"#Trials\"},\"x\":1.0,\"xpad\":40},\"colorscale\":[[0.0,\"rgb(247,251,255)\"],[0.125,\"rgb(222,235,247)\"],[0.25,\"rgb(198,219,239)\"],[0.375,\"rgb(158,202,225)\"],[0.5,\"rgb(107,174,214)\"],[0.625,\"rgb(66,146,198)\"],[0.75,\"rgb(33,113,181)\"],[0.875,\"rgb(8,81,156)\"],[1.0,\"rgb(8,48,107)\"]],\"line\":{\"color\":\"Grey\",\"width\":0.5},\"showscale\":true},\"mode\":\"markers\",\"showlegend\":false,\"type\":\"scatter\",\"x\":[0.9808201371084493,0.24560536748669753,0.32677870887498206,0.9045414227226114,0.6259695541597615,0.6493490404897387,0.575929418936643,0.4469729288917379,0.16061066073821603,0.24988086119004108,0.7617269130345852,0.7615494736589898,0.7496954414625374,0.836856774711649,0.8467551547844485,0.7725099230662226,0.998457768638735,0.8587510509930871,0.49409722448508275,0.8830060665286227,0.65830745027358,0.6749199775837122,0.8352262221245722,0.699524811021442,0.9433675013575062,0.5592651629988892,0.4285790767804274,0.8253982633425117,0.9150798620133294,0.6988111846617888,0.9617730640353819,0.9624238536986189,0.8156424035435352,0.9964577099914843,0.9009429195815319,0.865934018034987,0.8081781141020925,0.588943795028183,0.6298526614464645,0.7235201095656015,0.7903370787792303,0.9159224373478653,0.9439522994421009,0.8660092676417395,0.801026803986893,0.5047378677035563,0.7256297838322205,0.34124493105893783,0.6612255326822843,0.6140984984696343,0.6456613768340582,0.6480321769727897,0.5353562933586852,0.5152633978746979,0.5075187511115486,0.4407988552380586,0.5413880007292777,0.3519814823785264,0.39096979793980857,0.11388333914303428],\"xaxis\":\"x\",\"y\":[140.622849,243.474579,1005.147949,187.33046,137.062561,137.326981,425.734558,163.420135,224.862701,226.657715,129.660889,127.7089,129.387009,126.704048,136.553421,165.047089,777.68927,127.165321,129.940948,143.02951,126.763626,130.514191,132.439896,133.138611,147.088974,146.195282,127.514481,149.272675,188.647629,142.859787,126.660683,129.457138,133.835373,135.021179,141.129852,135.376328,125.721428,142.388214,147.386917,129.09285,157.575623,132.371155,144.71347,134.41188,128.909256,196.723557,127.377182,138.174438,123.991013,159.703201,121.428322,144.960846,117.575554,121.56459,136.834137,129.384964,126.779015,197.399017,148.761246,414.826904],\"yaxis\":\"y\"},{\"marker\":{\"color\":[0,1,2,3,4,5,6,7,8,9,10,11,12,13,14,15,16,17,18,19,20,21,22,23,24,25,26,27,28,29,30,31,32,33,34,35,36,37,38,39,40,41,42,43,44,45,46,47,48,49,50,51,52,53,54,55,56,57,58,59],\"colorbar\":{\"title\":{\"text\":\"#Trials\"},\"x\":1.0,\"xpad\":40},\"colorscale\":[[0.0,\"rgb(247,251,255)\"],[0.125,\"rgb(222,235,247)\"],[0.25,\"rgb(198,219,239)\"],[0.375,\"rgb(158,202,225)\"],[0.5,\"rgb(107,174,214)\"],[0.625,\"rgb(66,146,198)\"],[0.75,\"rgb(33,113,181)\"],[0.875,\"rgb(8,81,156)\"],[1.0,\"rgb(8,48,107)\"]],\"line\":{\"color\":\"Grey\",\"width\":0.5},\"showscale\":false},\"mode\":\"markers\",\"showlegend\":false,\"type\":\"scatter\",\"x\":[3.7578416912835477,5.018910498731874,6.463164244835753,3.2903281271032947,2.5775334444736018,2.8745704500156237,4.145908859585062,6.178900309494628,7.627698216027483,1.2762900983053993,1.6984982756889209,1.403676032550055,1.0725030776599307,1.032900050778673,2.10880075102238,2.077315011196397,5.343911913526185,2.51275226681713,3.2572828243196605,2.3396581990341354,1.0040168552664648,1.0502361246588339,1.8049208697592098,2.8462412481279333,1.7877454023385384,1.0113356788197034,2.386806564468859,3.4931490611657163,4.515169411559318,1.7378765772207903,3.8489564573269766,3.740318824231653,4.613897173626023,4.006754309635854,3.040071046237812,4.953010991915009,2.608498689116481,5.837530220327027,1.484459877790321,4.115655528312095,2.859665491512408,2.5803740867866445,3.51173097221892,7.1906717838080585,2.158226453047863,1.4290334964148228,2.666282761181163,3.122843678876009,1.9327527855577862,1.2873621887466609,2.1159739664747885,1.962005290201149,1.516680386024401,1.561197140042756,1.586245948872099,2.2630086533022737,2.0058836111846134,1.8759039556304182,2.5488811870915415,1.631970495083191],\"xaxis\":\"x2\",\"y\":[140.622849,243.474579,1005.147949,187.33046,137.062561,137.326981,425.734558,163.420135,224.862701,226.657715,129.660889,127.7089,129.387009,126.704048,136.553421,165.047089,777.68927,127.165321,129.940948,143.02951,126.763626,130.514191,132.439896,133.138611,147.088974,146.195282,127.514481,149.272675,188.647629,142.859787,126.660683,129.457138,133.835373,135.021179,141.129852,135.376328,125.721428,142.388214,147.386917,129.09285,157.575623,132.371155,144.71347,134.41188,128.909256,196.723557,127.377182,138.174438,123.991013,159.703201,121.428322,144.960846,117.575554,121.56459,136.834137,129.384964,126.779015,197.399017,148.761246,414.826904],\"yaxis\":\"y2\"},{\"marker\":{\"color\":[0,1,2,3,4,5,6,7,8,9,10,11,12,13,14,15,16,17,18,19,20,21,22,23,24,25,26,27,28,29,30,31,32,33,34,35,36,37,38,39,40,41,42,43,44,45,46,47,48,49,50,51,52,53,54,55,56,57,58,59],\"colorbar\":{\"title\":{\"text\":\"#Trials\"},\"x\":1.0,\"xpad\":40},\"colorscale\":[[0.0,\"rgb(247,251,255)\"],[0.125,\"rgb(222,235,247)\"],[0.25,\"rgb(198,219,239)\"],[0.375,\"rgb(158,202,225)\"],[0.5,\"rgb(107,174,214)\"],[0.625,\"rgb(66,146,198)\"],[0.75,\"rgb(33,113,181)\"],[0.875,\"rgb(8,81,156)\"],[1.0,\"rgb(8,48,107)\"]],\"line\":{\"color\":\"Grey\",\"width\":0.5},\"showscale\":false},\"mode\":\"markers\",\"showlegend\":false,\"type\":\"scatter\",\"x\":[0.3518039388234584,0.19720675159606246,1.1322644838056568,0.8097002296872164,0.3742947184259271,0.3038325271443521,0.32281379755083717,0.26958604931647195,0.4620889848837836,1.3290356655316455,0.15109172541148952,0.15190777254320922,0.15649151827140623,0.16575452003288382,0.2187933067664594,0.7542704986621659,1.9410646106357194,0.20931742542811305,0.23056180878069774,0.5254647083926368,0.1885473096314787,0.1968973718942654,0.24519025933901123,0.1835480161573131,0.4390053600296608,0.2831278998057181,0.19779018540886434,0.1825940883315172,0.6612067014280699,0.3457489356955669,0.2474904091667073,0.24435209175935016,0.17319081685684504,0.2152766109308364,0.384754432875624,0.26610791420430585,0.17342283412084197,0.16769365663441493,0.3088923099060648,0.17098449088640272,0.27606086760997334,0.20479720057863743,0.23660261325625237,0.19459394874169916,0.17107940916392966,1.173864482854601,0.15068692619075758,0.2119999132945164,0.2587854553859276,0.3969536142973947,0.297302218416917,0.3228003130987522,0.24991936774498177,0.2560511708949804,0.3545037610574605,0.29552797241434986,0.2655661042892915,0.4332955939910068,0.5057296189813064,0.2527592715262317],\"xaxis\":\"x3\",\"y\":[140.622849,243.474579,1005.147949,187.33046,137.062561,137.326981,425.734558,163.420135,224.862701,226.657715,129.660889,127.7089,129.387009,126.704048,136.553421,165.047089,777.68927,127.165321,129.940948,143.02951,126.763626,130.514191,132.439896,133.138611,147.088974,146.195282,127.514481,149.272675,188.647629,142.859787,126.660683,129.457138,133.835373,135.021179,141.129852,135.376328,125.721428,142.388214,147.386917,129.09285,157.575623,132.371155,144.71347,134.41188,128.909256,196.723557,127.377182,138.174438,123.991013,159.703201,121.428322,144.960846,117.575554,121.56459,136.834137,129.384964,126.779015,197.399017,148.761246,414.826904],\"yaxis\":\"y3\"},{\"marker\":{\"color\":[0,1,2,3,4,5,6,7,8,9,10,11,12,13,14,15,16,17,18,19,20,21,22,23,24,25,26,27,28,29,30,31,32,33,34,35,36,37,38,39,40,41,42,43,44,45,46,47,48,49,50,51,52,53,54,55,56,57,58,59],\"colorbar\":{\"title\":{\"text\":\"#Trials\"},\"x\":1.0,\"xpad\":40},\"colorscale\":[[0.0,\"rgb(247,251,255)\"],[0.125,\"rgb(222,235,247)\"],[0.25,\"rgb(198,219,239)\"],[0.375,\"rgb(158,202,225)\"],[0.5,\"rgb(107,174,214)\"],[0.625,\"rgb(66,146,198)\"],[0.75,\"rgb(33,113,181)\"],[0.875,\"rgb(8,81,156)\"],[1.0,\"rgb(8,48,107)\"]],\"line\":{\"color\":\"Grey\",\"width\":0.5},\"showscale\":false},\"mode\":\"markers\",\"showlegend\":false,\"type\":\"scatter\",\"x\":[9,3,12,5,4,10,0,4,9,1,6,7,7,8,7,11,8,7,9,2,5,5,6,8,5,8,3,10,6,10,7,7,8,6,4,5,9,12,9,11,11,8,7,9,6,10,5,7,8,9,4,3,4,4,4,2,2,4,3,0],\"xaxis\":\"x4\",\"y\":[140.622849,243.474579,1005.147949,187.33046,137.062561,137.326981,425.734558,163.420135,224.862701,226.657715,129.660889,127.7089,129.387009,126.704048,136.553421,165.047089,777.68927,127.165321,129.940948,143.02951,126.763626,130.514191,132.439896,133.138611,147.088974,146.195282,127.514481,149.272675,188.647629,142.859787,126.660683,129.457138,133.835373,135.021179,141.129852,135.376328,125.721428,142.388214,147.386917,129.09285,157.575623,132.371155,144.71347,134.41188,128.909256,196.723557,127.377182,138.174438,123.991013,159.703201,121.428322,144.960846,117.575554,121.56459,136.834137,129.384964,126.779015,197.399017,148.761246,414.826904],\"yaxis\":\"y4\"},{\"marker\":{\"color\":[0,1,2,3,4,5,6,7,8,9,10,11,12,13,14,15,16,17,18,19,20,21,22,23,24,25,26,27,28,29,30,31,32,33,34,35,36,37,38,39,40,41,42,43,44,45,46,47,48,49,50,51,52,53,54,55,56,57,58,59],\"colorbar\":{\"title\":{\"text\":\"#Trials\"},\"x\":1.0,\"xpad\":40},\"colorscale\":[[0.0,\"rgb(247,251,255)\"],[0.125,\"rgb(222,235,247)\"],[0.25,\"rgb(198,219,239)\"],[0.375,\"rgb(158,202,225)\"],[0.5,\"rgb(107,174,214)\"],[0.625,\"rgb(66,146,198)\"],[0.75,\"rgb(33,113,181)\"],[0.875,\"rgb(8,81,156)\"],[1.0,\"rgb(8,48,107)\"]],\"line\":{\"color\":\"Grey\",\"width\":0.5},\"showscale\":false},\"mode\":\"markers\",\"showlegend\":false,\"type\":\"scatter\",\"x\":[0,2,0,3,3,2,2,4,2,2,4,4,4,4,3,4,1,3,3,3,1,1,1,1,3,0,4,1,3,0,4,4,4,3,4,3,2,2,2,0,2,1,3,4,3,2,4,2,4,4,4,4,4,4,4,4,4,4,4,4],\"xaxis\":\"x5\",\"y\":[140.622849,243.474579,1005.147949,187.33046,137.062561,137.326981,425.734558,163.420135,224.862701,226.657715,129.660889,127.7089,129.387009,126.704048,136.553421,165.047089,777.68927,127.165321,129.940948,143.02951,126.763626,130.514191,132.439896,133.138611,147.088974,146.195282,127.514481,149.272675,188.647629,142.859787,126.660683,129.457138,133.835373,135.021179,141.129852,135.376328,125.721428,142.388214,147.386917,129.09285,157.575623,132.371155,144.71347,134.41188,128.909256,196.723557,127.377182,138.174438,123.991013,159.703201,121.428322,144.960846,117.575554,121.56459,136.834137,129.384964,126.779015,197.399017,148.761246,414.826904],\"yaxis\":\"y5\"},{\"marker\":{\"color\":[0,1,2,3,4,5,6,7,8,9,10,11,12,13,14,15,16,17,18,19,20,21,22,23,24,25,26,27,28,29,30,31,32,33,34,35,36,37,38,39,40,41,42,43,44,45,46,47,48,49,50,51,52,53,54,55,56,57,58,59],\"colorbar\":{\"title\":{\"text\":\"#Trials\"},\"x\":1.0,\"xpad\":40},\"colorscale\":[[0.0,\"rgb(247,251,255)\"],[0.125,\"rgb(222,235,247)\"],[0.25,\"rgb(198,219,239)\"],[0.375,\"rgb(158,202,225)\"],[0.5,\"rgb(107,174,214)\"],[0.625,\"rgb(66,146,198)\"],[0.75,\"rgb(33,113,181)\"],[0.875,\"rgb(8,81,156)\"],[1.0,\"rgb(8,48,107)\"]],\"line\":{\"color\":\"Grey\",\"width\":0.5},\"showscale\":false},\"mode\":\"markers\",\"showlegend\":false,\"type\":\"scatter\",\"x\":[4.155386754970454,4.291365266505026,3.702782174988575,2.7474017774761075,4.532401495445761,2.3203265389732133,1.3702860371078915,1.4660156802824724,1.0839493231631585,3.6819958526269567,4.990576119632472,4.982676312423819,4.9268180477679975,4.993645185188047,3.4336707716478485,3.111896809925955,2.141879532614581,4.419976752393628,4.149814713761645,0.6178176359084642,4.45693180437083,4.580311418844852,3.8988793278809357,4.57971023636753,3.23729760903597,4.483142726631091,3.8670089235720395,2.795128688195465,4.697043049472894,4.146426397906216,4.19732614315698,4.218755404313539,4.361314713974855,4.740373308017532,3.9143930731622842,3.5674858941230507,4.01697172005351,3.8976287931347806,4.175209687523268,3.3613770695055374,2.8200525514270147,4.769114266006886,4.398916710275029,4.786916453733162,4.032323685145529,4.465900692568276,3.6940939588694404,4.92215102309491,2.1335927850948004,2.2007503583736967,1.7842083646879754,1.7937884966103106,1.7151115100423326,1.7388555581006546,1.7091641302548235,1.201836120496681,1.9168972368252182,2.5523565302288773,1.4687035293231672,2.062407243478749],\"xaxis\":\"x6\",\"y\":[140.622849,243.474579,1005.147949,187.33046,137.062561,137.326981,425.734558,163.420135,224.862701,226.657715,129.660889,127.7089,129.387009,126.704048,136.553421,165.047089,777.68927,127.165321,129.940948,143.02951,126.763626,130.514191,132.439896,133.138611,147.088974,146.195282,127.514481,149.272675,188.647629,142.859787,126.660683,129.457138,133.835373,135.021179,141.129852,135.376328,125.721428,142.388214,147.386917,129.09285,157.575623,132.371155,144.71347,134.41188,128.909256,196.723557,127.377182,138.174438,123.991013,159.703201,121.428322,144.960846,117.575554,121.56459,136.834137,129.384964,126.779015,197.399017,148.761246,414.826904],\"yaxis\":\"y6\"},{\"marker\":{\"color\":[0,1,2,3,4,5,6,7,8,9,10,11,12,13,14,15,16,17,18,19,20,21,22,23,24,25,26,27,28,29,30,31,32,33,34,35,36,37,38,39,40,41,42,43,44,45,46,47,48,49,50,51,52,53,54,55,56,57,58,59],\"colorbar\":{\"title\":{\"text\":\"#Trials\"},\"x\":1.0,\"xpad\":40},\"colorscale\":[[0.0,\"rgb(247,251,255)\"],[0.125,\"rgb(222,235,247)\"],[0.25,\"rgb(198,219,239)\"],[0.375,\"rgb(158,202,225)\"],[0.5,\"rgb(107,174,214)\"],[0.625,\"rgb(66,146,198)\"],[0.75,\"rgb(33,113,181)\"],[0.875,\"rgb(8,81,156)\"],[1.0,\"rgb(8,48,107)\"]],\"line\":{\"color\":\"Grey\",\"width\":0.5},\"showscale\":false},\"mode\":\"markers\",\"showlegend\":false,\"type\":\"scatter\",\"x\":[2.5491777620591587,0.49596982441181936,1.0433262918589454,0.5961805001300591,4.819134043733775,4.401602815536042,3.929044171608322,2.0971889942777406,2.9709570501049525,2.008133649757995,4.930231908742479,4.583235887844801,3.6131379658917977,3.631848010168583,3.5181458881332017,4.2137469406848265,3.1178428491693495,4.4149781634123855,3.952773484248838,3.2027351440495133,1.516254543100073,1.4010376253707602,1.535492695092345,2.665867791258796,1.8235125368614795,3.712545204595926,2.3899686562865803,0.9579815078449165,0.1675381410686243,2.6634095998943907,4.14373229656281,4.227569132125322,4.635967289559096,3.8843778376174987,4.2521386884640915,3.3852854773962613,4.49363941776489,0.7917317192485582,1.2576314128298887,4.795588785675932,2.945937820550753,4.528938406495656,3.926503205182428,4.95751421996524,4.153609024204798,4.467155624592608,4.680146546803075,4.369207485878334,3.812954103208829,3.306469614004622,3.654192540178842,3.727986388295547,3.504473444616354,3.4876664089302865,2.944261060365522,4.0715612035166275,3.5345547510130717,3.3974124165066266,3.7767058947182583,3.113139045983875],\"xaxis\":\"x7\",\"y\":[140.622849,243.474579,1005.147949,187.33046,137.062561,137.326981,425.734558,163.420135,224.862701,226.657715,129.660889,127.7089,129.387009,126.704048,136.553421,165.047089,777.68927,127.165321,129.940948,143.02951,126.763626,130.514191,132.439896,133.138611,147.088974,146.195282,127.514481,149.272675,188.647629,142.859787,126.660683,129.457138,133.835373,135.021179,141.129852,135.376328,125.721428,142.388214,147.386917,129.09285,157.575623,132.371155,144.71347,134.41188,128.909256,196.723557,127.377182,138.174438,123.991013,159.703201,121.428322,144.960846,117.575554,121.56459,136.834137,129.384964,126.779015,197.399017,148.761246,414.826904],\"yaxis\":\"y7\"},{\"marker\":{\"color\":[0,1,2,3,4,5,6,7,8,9,10,11,12,13,14,15,16,17,18,19,20,21,22,23,24,25,26,27,28,29,30,31,32,33,34,35,36,37,38,39,40,41,42,43,44,45,46,47,48,49,50,51,52,53,54,55,56,57,58,59],\"colorbar\":{\"title\":{\"text\":\"#Trials\"},\"x\":1.0,\"xpad\":40},\"colorscale\":[[0.0,\"rgb(247,251,255)\"],[0.125,\"rgb(222,235,247)\"],[0.25,\"rgb(198,219,239)\"],[0.375,\"rgb(158,202,225)\"],[0.5,\"rgb(107,174,214)\"],[0.625,\"rgb(66,146,198)\"],[0.75,\"rgb(33,113,181)\"],[0.875,\"rgb(8,81,156)\"],[1.0,\"rgb(8,48,107)\"]],\"line\":{\"color\":\"Grey\",\"width\":0.5},\"showscale\":false},\"mode\":\"markers\",\"showlegend\":false,\"type\":\"scatter\",\"x\":[0.6715160413301605,0.05744630807707196,0.34499053805038304,0.8381014642053375,0.9004331155544603,0.4564823824031359,0.10521193988415127,0.33398715806739787,0.8532784378549365,0.5478944673037246,0.972651492875118,0.9733804469125893,0.9916612594178407,0.732529006859589,0.7113336457172863,0.7390119882175363,0.6049187234130764,0.8022818605441532,0.4510868611889524,0.7868791488257931,0.5979710567893248,0.620099712515965,0.797420549926018,0.6539821611190885,0.5508882769251923,0.7402326716084207,0.4638328337526657,0.9041002164542487,0.27172617912809754,0.6870027651562933,0.6016956895154043,0.6003771691040647,0.754797011535347,0.6582638908416599,0.5053940315139175,0.8448588621787065,0.37004395263433604,0.2496292562218994,0.35807835747783295,0.4023870434424197,0.15819776295016078,0.5040037335520436,0.5740559169680631,0.638266264921358,0.8771922929321585,0.7941972041491191,0.7029284341925653,0.9070406174361986,0.38206814299827185,0.2865843321442887,0.3649575649573926,0.38448135708949865,0.42229038805554275,0.41110428001259686,0.32034059255706715,0.42184661005581936,0.22977912073216572,0.355505567322218,0.4545229626779502,0.20886845817513822],\"xaxis\":\"x8\",\"y\":[140.622849,243.474579,1005.147949,187.33046,137.062561,137.326981,425.734558,163.420135,224.862701,226.657715,129.660889,127.7089,129.387009,126.704048,136.553421,165.047089,777.68927,127.165321,129.940948,143.02951,126.763626,130.514191,132.439896,133.138611,147.088974,146.195282,127.514481,149.272675,188.647629,142.859787,126.660683,129.457138,133.835373,135.021179,141.129852,135.376328,125.721428,142.388214,147.386917,129.09285,157.575623,132.371155,144.71347,134.41188,128.909256,196.723557,127.377182,138.174438,123.991013,159.703201,121.428322,144.960846,117.575554,121.56459,136.834137,129.384964,126.779015,197.399017,148.761246,414.826904],\"yaxis\":\"y8\"}],                        {\"template\":{\"data\":{\"bar\":[{\"error_x\":{\"color\":\"#2a3f5f\"},\"error_y\":{\"color\":\"#2a3f5f\"},\"marker\":{\"line\":{\"color\":\"#E5ECF6\",\"width\":0.5},\"pattern\":{\"fillmode\":\"overlay\",\"size\":10,\"solidity\":0.2}},\"type\":\"bar\"}],\"barpolar\":[{\"marker\":{\"line\":{\"color\":\"#E5ECF6\",\"width\":0.5},\"pattern\":{\"fillmode\":\"overlay\",\"size\":10,\"solidity\":0.2}},\"type\":\"barpolar\"}],\"carpet\":[{\"aaxis\":{\"endlinecolor\":\"#2a3f5f\",\"gridcolor\":\"white\",\"linecolor\":\"white\",\"minorgridcolor\":\"white\",\"startlinecolor\":\"#2a3f5f\"},\"baxis\":{\"endlinecolor\":\"#2a3f5f\",\"gridcolor\":\"white\",\"linecolor\":\"white\",\"minorgridcolor\":\"white\",\"startlinecolor\":\"#2a3f5f\"},\"type\":\"carpet\"}],\"choropleth\":[{\"colorbar\":{\"outlinewidth\":0,\"ticks\":\"\"},\"type\":\"choropleth\"}],\"contour\":[{\"colorbar\":{\"outlinewidth\":0,\"ticks\":\"\"},\"colorscale\":[[0.0,\"#0d0887\"],[0.1111111111111111,\"#46039f\"],[0.2222222222222222,\"#7201a8\"],[0.3333333333333333,\"#9c179e\"],[0.4444444444444444,\"#bd3786\"],[0.5555555555555556,\"#d8576b\"],[0.6666666666666666,\"#ed7953\"],[0.7777777777777778,\"#fb9f3a\"],[0.8888888888888888,\"#fdca26\"],[1.0,\"#f0f921\"]],\"type\":\"contour\"}],\"contourcarpet\":[{\"colorbar\":{\"outlinewidth\":0,\"ticks\":\"\"},\"type\":\"contourcarpet\"}],\"heatmap\":[{\"colorbar\":{\"outlinewidth\":0,\"ticks\":\"\"},\"colorscale\":[[0.0,\"#0d0887\"],[0.1111111111111111,\"#46039f\"],[0.2222222222222222,\"#7201a8\"],[0.3333333333333333,\"#9c179e\"],[0.4444444444444444,\"#bd3786\"],[0.5555555555555556,\"#d8576b\"],[0.6666666666666666,\"#ed7953\"],[0.7777777777777778,\"#fb9f3a\"],[0.8888888888888888,\"#fdca26\"],[1.0,\"#f0f921\"]],\"type\":\"heatmap\"}],\"heatmapgl\":[{\"colorbar\":{\"outlinewidth\":0,\"ticks\":\"\"},\"colorscale\":[[0.0,\"#0d0887\"],[0.1111111111111111,\"#46039f\"],[0.2222222222222222,\"#7201a8\"],[0.3333333333333333,\"#9c179e\"],[0.4444444444444444,\"#bd3786\"],[0.5555555555555556,\"#d8576b\"],[0.6666666666666666,\"#ed7953\"],[0.7777777777777778,\"#fb9f3a\"],[0.8888888888888888,\"#fdca26\"],[1.0,\"#f0f921\"]],\"type\":\"heatmapgl\"}],\"histogram\":[{\"marker\":{\"pattern\":{\"fillmode\":\"overlay\",\"size\":10,\"solidity\":0.2}},\"type\":\"histogram\"}],\"histogram2d\":[{\"colorbar\":{\"outlinewidth\":0,\"ticks\":\"\"},\"colorscale\":[[0.0,\"#0d0887\"],[0.1111111111111111,\"#46039f\"],[0.2222222222222222,\"#7201a8\"],[0.3333333333333333,\"#9c179e\"],[0.4444444444444444,\"#bd3786\"],[0.5555555555555556,\"#d8576b\"],[0.6666666666666666,\"#ed7953\"],[0.7777777777777778,\"#fb9f3a\"],[0.8888888888888888,\"#fdca26\"],[1.0,\"#f0f921\"]],\"type\":\"histogram2d\"}],\"histogram2dcontour\":[{\"colorbar\":{\"outlinewidth\":0,\"ticks\":\"\"},\"colorscale\":[[0.0,\"#0d0887\"],[0.1111111111111111,\"#46039f\"],[0.2222222222222222,\"#7201a8\"],[0.3333333333333333,\"#9c179e\"],[0.4444444444444444,\"#bd3786\"],[0.5555555555555556,\"#d8576b\"],[0.6666666666666666,\"#ed7953\"],[0.7777777777777778,\"#fb9f3a\"],[0.8888888888888888,\"#fdca26\"],[1.0,\"#f0f921\"]],\"type\":\"histogram2dcontour\"}],\"mesh3d\":[{\"colorbar\":{\"outlinewidth\":0,\"ticks\":\"\"},\"type\":\"mesh3d\"}],\"parcoords\":[{\"line\":{\"colorbar\":{\"outlinewidth\":0,\"ticks\":\"\"}},\"type\":\"parcoords\"}],\"pie\":[{\"automargin\":true,\"type\":\"pie\"}],\"scatter\":[{\"marker\":{\"colorbar\":{\"outlinewidth\":0,\"ticks\":\"\"}},\"type\":\"scatter\"}],\"scatter3d\":[{\"line\":{\"colorbar\":{\"outlinewidth\":0,\"ticks\":\"\"}},\"marker\":{\"colorbar\":{\"outlinewidth\":0,\"ticks\":\"\"}},\"type\":\"scatter3d\"}],\"scattercarpet\":[{\"marker\":{\"colorbar\":{\"outlinewidth\":0,\"ticks\":\"\"}},\"type\":\"scattercarpet\"}],\"scattergeo\":[{\"marker\":{\"colorbar\":{\"outlinewidth\":0,\"ticks\":\"\"}},\"type\":\"scattergeo\"}],\"scattergl\":[{\"marker\":{\"colorbar\":{\"outlinewidth\":0,\"ticks\":\"\"}},\"type\":\"scattergl\"}],\"scattermapbox\":[{\"marker\":{\"colorbar\":{\"outlinewidth\":0,\"ticks\":\"\"}},\"type\":\"scattermapbox\"}],\"scatterpolar\":[{\"marker\":{\"colorbar\":{\"outlinewidth\":0,\"ticks\":\"\"}},\"type\":\"scatterpolar\"}],\"scatterpolargl\":[{\"marker\":{\"colorbar\":{\"outlinewidth\":0,\"ticks\":\"\"}},\"type\":\"scatterpolargl\"}],\"scatterternary\":[{\"marker\":{\"colorbar\":{\"outlinewidth\":0,\"ticks\":\"\"}},\"type\":\"scatterternary\"}],\"surface\":[{\"colorbar\":{\"outlinewidth\":0,\"ticks\":\"\"},\"colorscale\":[[0.0,\"#0d0887\"],[0.1111111111111111,\"#46039f\"],[0.2222222222222222,\"#7201a8\"],[0.3333333333333333,\"#9c179e\"],[0.4444444444444444,\"#bd3786\"],[0.5555555555555556,\"#d8576b\"],[0.6666666666666666,\"#ed7953\"],[0.7777777777777778,\"#fb9f3a\"],[0.8888888888888888,\"#fdca26\"],[1.0,\"#f0f921\"]],\"type\":\"surface\"}],\"table\":[{\"cells\":{\"fill\":{\"color\":\"#EBF0F8\"},\"line\":{\"color\":\"white\"}},\"header\":{\"fill\":{\"color\":\"#C8D4E3\"},\"line\":{\"color\":\"white\"}},\"type\":\"table\"}]},\"layout\":{\"annotationdefaults\":{\"arrowcolor\":\"#2a3f5f\",\"arrowhead\":0,\"arrowwidth\":1},\"autotypenumbers\":\"strict\",\"coloraxis\":{\"colorbar\":{\"outlinewidth\":0,\"ticks\":\"\"}},\"colorscale\":{\"diverging\":[[0,\"#8e0152\"],[0.1,\"#c51b7d\"],[0.2,\"#de77ae\"],[0.3,\"#f1b6da\"],[0.4,\"#fde0ef\"],[0.5,\"#f7f7f7\"],[0.6,\"#e6f5d0\"],[0.7,\"#b8e186\"],[0.8,\"#7fbc41\"],[0.9,\"#4d9221\"],[1,\"#276419\"]],\"sequential\":[[0.0,\"#0d0887\"],[0.1111111111111111,\"#46039f\"],[0.2222222222222222,\"#7201a8\"],[0.3333333333333333,\"#9c179e\"],[0.4444444444444444,\"#bd3786\"],[0.5555555555555556,\"#d8576b\"],[0.6666666666666666,\"#ed7953\"],[0.7777777777777778,\"#fb9f3a\"],[0.8888888888888888,\"#fdca26\"],[1.0,\"#f0f921\"]],\"sequentialminus\":[[0.0,\"#0d0887\"],[0.1111111111111111,\"#46039f\"],[0.2222222222222222,\"#7201a8\"],[0.3333333333333333,\"#9c179e\"],[0.4444444444444444,\"#bd3786\"],[0.5555555555555556,\"#d8576b\"],[0.6666666666666666,\"#ed7953\"],[0.7777777777777778,\"#fb9f3a\"],[0.8888888888888888,\"#fdca26\"],[1.0,\"#f0f921\"]]},\"colorway\":[\"#636efa\",\"#EF553B\",\"#00cc96\",\"#ab63fa\",\"#FFA15A\",\"#19d3f3\",\"#FF6692\",\"#B6E880\",\"#FF97FF\",\"#FECB52\"],\"font\":{\"color\":\"#2a3f5f\"},\"geo\":{\"bgcolor\":\"white\",\"lakecolor\":\"white\",\"landcolor\":\"#E5ECF6\",\"showlakes\":true,\"showland\":true,\"subunitcolor\":\"white\"},\"hoverlabel\":{\"align\":\"left\"},\"hovermode\":\"closest\",\"mapbox\":{\"style\":\"light\"},\"paper_bgcolor\":\"white\",\"plot_bgcolor\":\"#E5ECF6\",\"polar\":{\"angularaxis\":{\"gridcolor\":\"white\",\"linecolor\":\"white\",\"ticks\":\"\"},\"bgcolor\":\"#E5ECF6\",\"radialaxis\":{\"gridcolor\":\"white\",\"linecolor\":\"white\",\"ticks\":\"\"}},\"scene\":{\"xaxis\":{\"backgroundcolor\":\"#E5ECF6\",\"gridcolor\":\"white\",\"gridwidth\":2,\"linecolor\":\"white\",\"showbackground\":true,\"ticks\":\"\",\"zerolinecolor\":\"white\"},\"yaxis\":{\"backgroundcolor\":\"#E5ECF6\",\"gridcolor\":\"white\",\"gridwidth\":2,\"linecolor\":\"white\",\"showbackground\":true,\"ticks\":\"\",\"zerolinecolor\":\"white\"},\"zaxis\":{\"backgroundcolor\":\"#E5ECF6\",\"gridcolor\":\"white\",\"gridwidth\":2,\"linecolor\":\"white\",\"showbackground\":true,\"ticks\":\"\",\"zerolinecolor\":\"white\"}},\"shapedefaults\":{\"line\":{\"color\":\"#2a3f5f\"}},\"ternary\":{\"aaxis\":{\"gridcolor\":\"white\",\"linecolor\":\"white\",\"ticks\":\"\"},\"baxis\":{\"gridcolor\":\"white\",\"linecolor\":\"white\",\"ticks\":\"\"},\"bgcolor\":\"#E5ECF6\",\"caxis\":{\"gridcolor\":\"white\",\"linecolor\":\"white\",\"ticks\":\"\"}},\"title\":{\"x\":0.05},\"xaxis\":{\"automargin\":true,\"gridcolor\":\"white\",\"linecolor\":\"white\",\"ticks\":\"\",\"title\":{\"standoff\":15},\"zerolinecolor\":\"white\",\"zerolinewidth\":2},\"yaxis\":{\"automargin\":true,\"gridcolor\":\"white\",\"linecolor\":\"white\",\"ticks\":\"\",\"title\":{\"standoff\":15},\"zerolinecolor\":\"white\",\"zerolinewidth\":2}}},\"title\":{\"text\":\"Slice Plot\"},\"width\":2400,\"xaxis\":{\"anchor\":\"y\",\"domain\":[0.0,0.103125],\"title\":{\"text\":\"colsample_bytree\"}},\"xaxis2\":{\"anchor\":\"y2\",\"domain\":[0.128125,0.23124999999999998],\"title\":{\"text\":\"gamma\"}},\"xaxis3\":{\"anchor\":\"y3\",\"domain\":[0.25625,0.359375],\"title\":{\"text\":\"learning_rate\"},\"type\":\"log\"},\"xaxis4\":{\"anchor\":\"y4\",\"domain\":[0.38437499999999997,0.48749999999999993],\"title\":{\"text\":\"max_depth\"}},\"xaxis5\":{\"anchor\":\"y5\",\"domain\":[0.5125,0.615625],\"title\":{\"text\":\"min_child_weight\"}},\"xaxis6\":{\"anchor\":\"y6\",\"domain\":[0.640625,0.74375],\"title\":{\"text\":\"reg_alpha\"}},\"xaxis7\":{\"anchor\":\"y7\",\"domain\":[0.76875,0.8718750000000001],\"title\":{\"text\":\"reg_lambda\"}},\"xaxis8\":{\"anchor\":\"y8\",\"domain\":[0.8968750000000001,1.0],\"title\":{\"text\":\"subsample\"}},\"yaxis\":{\"anchor\":\"x\",\"domain\":[0.0,1.0],\"title\":{\"text\":\"Objective Value\"}},\"yaxis2\":{\"anchor\":\"x2\",\"domain\":[0.0,1.0],\"matches\":\"y\",\"showticklabels\":false},\"yaxis3\":{\"anchor\":\"x3\",\"domain\":[0.0,1.0],\"matches\":\"y\",\"showticklabels\":false},\"yaxis4\":{\"anchor\":\"x4\",\"domain\":[0.0,1.0],\"matches\":\"y\",\"showticklabels\":false},\"yaxis5\":{\"anchor\":\"x5\",\"domain\":[0.0,1.0],\"matches\":\"y\",\"showticklabels\":false},\"yaxis6\":{\"anchor\":\"x6\",\"domain\":[0.0,1.0],\"matches\":\"y\",\"showticklabels\":false},\"yaxis7\":{\"anchor\":\"x7\",\"domain\":[0.0,1.0],\"matches\":\"y\",\"showticklabels\":false},\"yaxis8\":{\"anchor\":\"x8\",\"domain\":[0.0,1.0],\"matches\":\"y\",\"showticklabels\":false}},                        {\"responsive\": true}                    ).then(function(){\n",
       "                            \n",
       "var gd = document.getElementById('fff6fd94-7fef-4eb1-8414-250682f92107');\n",
       "var x = new MutationObserver(function (mutations, observer) {{\n",
       "        var display = window.getComputedStyle(gd).display;\n",
       "        if (!display || display === 'none') {{\n",
       "            console.log([gd, 'removed!']);\n",
       "            Plotly.purge(gd);\n",
       "            observer.disconnect();\n",
       "        }}\n",
       "}});\n",
       "\n",
       "// Listen for the removal of the full notebook cells\n",
       "var notebookContainer = gd.closest('#notebook-container');\n",
       "if (notebookContainer) {{\n",
       "    x.observe(notebookContainer, {childList: true});\n",
       "}}\n",
       "\n",
       "// Listen for the clearing of the current output cell\n",
       "var outputEl = gd.closest('.output');\n",
       "if (outputEl) {{\n",
       "    x.observe(outputEl, {childList: true});\n",
       "}}\n",
       "\n",
       "                        })                };                });            </script>        </div>"
      ]
     },
     "metadata": {},
     "output_type": "display_data"
    }
   ],
   "source": [
    "optuna.visualization.plot_slice(study1)"
   ]
  },
  {
   "cell_type": "code",
   "execution_count": 71,
   "id": "37231048",
   "metadata": {
    "execution": {
     "iopub.execute_input": "2021-10-26T11:04:51.832358Z",
     "iopub.status.busy": "2021-10-26T11:04:51.818783Z",
     "iopub.status.idle": "2021-10-26T11:04:52.040810Z",
     "shell.execute_reply": "2021-10-26T11:04:52.041232Z"
    },
    "papermill": {
     "duration": 0.389251,
     "end_time": "2021-10-26T11:04:52.041405",
     "exception": false,
     "start_time": "2021-10-26T11:04:51.652154",
     "status": "completed"
    },
    "tags": []
   },
   "outputs": [
    {
     "name": "stdout",
     "output_type": "stream",
     "text": [
      "CPU times: user 83.3 ms, sys: 875 µs, total: 84.1 ms\n",
      "Wall time: 46.6 ms\n",
      "MAE:  43.905730835939764\n",
      "XG Boost\n",
      "Accuracy of training set:  99.18\n",
      "Accuracy of test set:  89.05\n",
      "mean squared error:  155.92\n",
      "mean absolute error:  53.14\n",
      "r2_score:  89.05\n"
     ]
    }
   ],
   "source": [
    "xgb_model = XGBRegressor(**(study1.best_params))\n",
    "\n",
    "%time xgb_model.fit(X_train, y_train, early_stopping_rounds=7, eval_set=[(X_val, y_val)], verbose=False)\n",
    "\n",
    "y_pred_xgb = xgb_model.predict(X_val)\n",
    "y_pred_xgb2 = xgb_model.predict(X_test)\n",
    "\n",
    "mae_xgb = mean_absolute_error(y_val, y_pred_xgb)\n",
    "\n",
    "print(\"MAE: \", mae_xgb)\n",
    "score(xgb_model,X_val,name='XG Boost')"
   ]
  },
  {
   "cell_type": "code",
   "execution_count": 72,
   "id": "e87ecbf2",
   "metadata": {
    "execution": {
     "iopub.execute_input": "2021-10-26T11:04:52.239586Z",
     "iopub.status.busy": "2021-10-26T11:04:52.239010Z",
     "iopub.status.idle": "2021-10-26T11:04:52.242070Z",
     "shell.execute_reply": "2021-10-26T11:04:52.242449Z"
    },
    "papermill": {
     "duration": 0.106755,
     "end_time": "2021-10-26T11:04:52.242651",
     "exception": false,
     "start_time": "2021-10-26T11:04:52.135896",
     "status": "completed"
    },
    "tags": []
   },
   "outputs": [],
   "source": [
    "ypred2_df=pd.DataFrame(y_pred_xgb2,columns=['revenue'])\n",
    "ypred2_df.to_csv('Submission_optuna.csv',index=False)"
   ]
  },
  {
   "cell_type": "markdown",
   "id": "be0f6537",
   "metadata": {
    "papermill": {
     "duration": 0.093656,
     "end_time": "2021-10-26T11:04:52.432490",
     "exception": false,
     "start_time": "2021-10-26T11:04:52.338834",
     "status": "completed"
    },
    "tags": []
   },
   "source": [
    "##  Random Forest Regressor"
   ]
  },
  {
   "cell_type": "code",
   "execution_count": 73,
   "id": "fd30d23b",
   "metadata": {
    "execution": {
     "iopub.execute_input": "2021-10-26T11:04:52.627989Z",
     "iopub.status.busy": "2021-10-26T11:04:52.627143Z",
     "iopub.status.idle": "2021-10-26T11:04:52.951459Z",
     "shell.execute_reply": "2021-10-26T11:04:52.952347Z"
    },
    "papermill": {
     "duration": 0.426445,
     "end_time": "2021-10-26T11:04:52.952529",
     "exception": false,
     "start_time": "2021-10-26T11:04:52.526084",
     "status": "completed"
    },
    "tags": []
   },
   "outputs": [
    {
     "name": "stdout",
     "output_type": "stream",
     "text": [
      "Random Forest\n",
      "Accuracy of training set:  97.95\n",
      "Accuracy of test set:  81.91\n",
      "mean squared error:  257.74\n",
      "mean absolute error:  49.62\n",
      "r2_score:  81.91\n"
     ]
    }
   ],
   "source": [
    "rf=RandomForestRegressor(n_estimators=25,max_depth=5)\n",
    "rf.fit(X_train,y_train)\n",
    "ypredrf=rf.predict(test[features])\n",
    "score(rf,X_val,name='Random Forest')"
   ]
  },
  {
   "cell_type": "code",
   "execution_count": 74,
   "id": "03605ca1",
   "metadata": {
    "execution": {
     "iopub.execute_input": "2021-10-26T11:04:53.149375Z",
     "iopub.status.busy": "2021-10-26T11:04:53.148793Z",
     "iopub.status.idle": "2021-10-26T11:04:53.152555Z",
     "shell.execute_reply": "2021-10-26T11:04:53.152101Z"
    },
    "papermill": {
     "duration": 0.106018,
     "end_time": "2021-10-26T11:04:53.152669",
     "exception": false,
     "start_time": "2021-10-26T11:04:53.046651",
     "status": "completed"
    },
    "tags": []
   },
   "outputs": [
    {
     "data": {
      "text/html": [
       "<div>\n",
       "<style scoped>\n",
       "    .dataframe tbody tr th:only-of-type {\n",
       "        vertical-align: middle;\n",
       "    }\n",
       "\n",
       "    .dataframe tbody tr th {\n",
       "        vertical-align: top;\n",
       "    }\n",
       "\n",
       "    .dataframe thead th {\n",
       "        text-align: right;\n",
       "    }\n",
       "</style>\n",
       "<table border=\"1\" class=\"dataframe\">\n",
       "  <thead>\n",
       "    <tr style=\"text-align: right;\">\n",
       "      <th></th>\n",
       "      <th>revenue</th>\n",
       "    </tr>\n",
       "  </thead>\n",
       "  <tbody>\n",
       "    <tr>\n",
       "      <th>0</th>\n",
       "      <td>172.202095</td>\n",
       "    </tr>\n",
       "    <tr>\n",
       "      <th>1</th>\n",
       "      <td>0.000000</td>\n",
       "    </tr>\n",
       "    <tr>\n",
       "      <th>2</th>\n",
       "      <td>0.000000</td>\n",
       "    </tr>\n",
       "    <tr>\n",
       "      <th>3</th>\n",
       "      <td>0.000000</td>\n",
       "    </tr>\n",
       "    <tr>\n",
       "      <th>4</th>\n",
       "      <td>0.000000</td>\n",
       "    </tr>\n",
       "    <tr>\n",
       "      <th>5</th>\n",
       "      <td>0.000000</td>\n",
       "    </tr>\n",
       "    <tr>\n",
       "      <th>6</th>\n",
       "      <td>174.589696</td>\n",
       "    </tr>\n",
       "    <tr>\n",
       "      <th>7</th>\n",
       "      <td>0.000000</td>\n",
       "    </tr>\n",
       "    <tr>\n",
       "      <th>8</th>\n",
       "      <td>174.589696</td>\n",
       "    </tr>\n",
       "    <tr>\n",
       "      <th>9</th>\n",
       "      <td>0.000000</td>\n",
       "    </tr>\n",
       "  </tbody>\n",
       "</table>\n",
       "</div>"
      ],
      "text/plain": [
       "      revenue\n",
       "0  172.202095\n",
       "1    0.000000\n",
       "2    0.000000\n",
       "3    0.000000\n",
       "4    0.000000\n",
       "5    0.000000\n",
       "6  174.589696\n",
       "7    0.000000\n",
       "8  174.589696\n",
       "9    0.000000"
      ]
     },
     "execution_count": 74,
     "metadata": {},
     "output_type": "execute_result"
    }
   ],
   "source": [
    "ypred_df=pd.DataFrame(ypredrf,columns=['revenue'])\n",
    "ypred_df.head(10)"
   ]
  },
  {
   "cell_type": "code",
   "execution_count": 75,
   "id": "5fd95167",
   "metadata": {
    "execution": {
     "iopub.execute_input": "2021-10-26T11:04:53.362442Z",
     "iopub.status.busy": "2021-10-26T11:04:53.361541Z",
     "iopub.status.idle": "2021-10-26T11:04:53.363749Z",
     "shell.execute_reply": "2021-10-26T11:04:53.364243Z"
    },
    "papermill": {
     "duration": 0.11215,
     "end_time": "2021-10-26T11:04:53.364392",
     "exception": false,
     "start_time": "2021-10-26T11:04:53.252242",
     "status": "completed"
    },
    "tags": []
   },
   "outputs": [],
   "source": [
    "ypred_df.to_csv('Submission_RF.csv',index=False)"
   ]
  },
  {
   "cell_type": "code",
   "execution_count": null,
   "id": "c5f115dc",
   "metadata": {
    "papermill": {
     "duration": 0.097924,
     "end_time": "2021-10-26T11:04:53.564115",
     "exception": false,
     "start_time": "2021-10-26T11:04:53.466191",
     "status": "completed"
    },
    "tags": []
   },
   "outputs": [],
   "source": []
  }
 ],
 "metadata": {
  "kernelspec": {
   "display_name": "Python 3",
   "language": "python",
   "name": "python3"
  },
  "language_info": {
   "codemirror_mode": {
    "name": "ipython",
    "version": 3
   },
   "file_extension": ".py",
   "mimetype": "text/x-python",
   "name": "python",
   "nbconvert_exporter": "python",
   "pygments_lexer": "ipython3",
   "version": "3.7.10"
  },
  "papermill": {
   "default_parameters": {},
   "duration": 1102.207325,
   "end_time": "2021-10-26T11:04:54.771630",
   "environment_variables": {},
   "exception": null,
   "input_path": "__notebook__.ipynb",
   "output_path": "__notebook__.ipynb",
   "parameters": {},
   "start_time": "2021-10-26T10:46:32.564305",
   "version": "2.3.3"
  },
  "widgets": {
   "application/vnd.jupyter.widget-state+json": {
    "state": {
     "0cfcc49b7d484c10bcb6e4c1c2590741": {
      "model_module": "@jupyter-widgets/base",
      "model_module_version": "1.2.0",
      "model_name": "LayoutModel",
      "state": {
       "_model_module": "@jupyter-widgets/base",
       "_model_module_version": "1.2.0",
       "_model_name": "LayoutModel",
       "_view_count": null,
       "_view_module": "@jupyter-widgets/base",
       "_view_module_version": "1.2.0",
       "_view_name": "LayoutView",
       "align_content": null,
       "align_items": null,
       "align_self": null,
       "border": null,
       "bottom": null,
       "display": null,
       "flex": null,
       "flex_flow": null,
       "grid_area": null,
       "grid_auto_columns": null,
       "grid_auto_flow": null,
       "grid_auto_rows": null,
       "grid_column": null,
       "grid_gap": null,
       "grid_row": null,
       "grid_template_areas": null,
       "grid_template_columns": null,
       "grid_template_rows": null,
       "height": null,
       "justify_content": null,
       "justify_items": null,
       "left": null,
       "margin": null,
       "max_height": null,
       "max_width": null,
       "min_height": null,
       "min_width": null,
       "object_fit": null,
       "object_position": null,
       "order": null,
       "overflow": null,
       "overflow_x": null,
       "overflow_y": null,
       "padding": null,
       "right": null,
       "top": null,
       "visibility": null,
       "width": null
      }
     },
     "1ba3ddac352b4f61a85daf59cd24da6f": {
      "model_module": "@jupyter-widgets/controls",
      "model_module_version": "1.5.0",
      "model_name": "DescriptionStyleModel",
      "state": {
       "_model_module": "@jupyter-widgets/controls",
       "_model_module_version": "1.5.0",
       "_model_name": "DescriptionStyleModel",
       "_view_count": null,
       "_view_module": "@jupyter-widgets/base",
       "_view_module_version": "1.2.0",
       "_view_name": "StyleView",
       "description_width": ""
      }
     },
     "201cae6cb2c74c55ad031c03b8282978": {
      "model_module": "@jupyter-widgets/controls",
      "model_module_version": "1.5.0",
      "model_name": "HBoxModel",
      "state": {
       "_dom_classes": [],
       "_model_module": "@jupyter-widgets/controls",
       "_model_module_version": "1.5.0",
       "_model_name": "HBoxModel",
       "_view_count": null,
       "_view_module": "@jupyter-widgets/controls",
       "_view_module_version": "1.5.0",
       "_view_name": "HBoxView",
       "box_style": "",
       "children": [
        "IPY_MODEL_baa402487f5249ef83d7d2e89a605586",
        "IPY_MODEL_f7d04d97be6b4320bebacf152d3d95b0",
        "IPY_MODEL_7722bbe6b51341d9a9237f025ad02adf"
       ],
       "layout": "IPY_MODEL_0cfcc49b7d484c10bcb6e4c1c2590741"
      }
     },
     "5fdd02859524474a9b62d56f5fe63465": {
      "model_module": "@jupyter-widgets/controls",
      "model_module_version": "1.5.0",
      "model_name": "ProgressStyleModel",
      "state": {
       "_model_module": "@jupyter-widgets/controls",
       "_model_module_version": "1.5.0",
       "_model_name": "ProgressStyleModel",
       "_view_count": null,
       "_view_module": "@jupyter-widgets/base",
       "_view_module_version": "1.2.0",
       "_view_name": "StyleView",
       "bar_color": null,
       "description_width": ""
      }
     },
     "75f2bc1e747944afb55fe6b5933c1dd3": {
      "model_module": "@jupyter-widgets/base",
      "model_module_version": "1.2.0",
      "model_name": "LayoutModel",
      "state": {
       "_model_module": "@jupyter-widgets/base",
       "_model_module_version": "1.2.0",
       "_model_name": "LayoutModel",
       "_view_count": null,
       "_view_module": "@jupyter-widgets/base",
       "_view_module_version": "1.2.0",
       "_view_name": "LayoutView",
       "align_content": null,
       "align_items": null,
       "align_self": null,
       "border": null,
       "bottom": null,
       "display": null,
       "flex": null,
       "flex_flow": null,
       "grid_area": null,
       "grid_auto_columns": null,
       "grid_auto_flow": null,
       "grid_auto_rows": null,
       "grid_column": null,
       "grid_gap": null,
       "grid_row": null,
       "grid_template_areas": null,
       "grid_template_columns": null,
       "grid_template_rows": null,
       "height": null,
       "justify_content": null,
       "justify_items": null,
       "left": null,
       "margin": null,
       "max_height": null,
       "max_width": null,
       "min_height": null,
       "min_width": null,
       "object_fit": null,
       "object_position": null,
       "order": null,
       "overflow": null,
       "overflow_x": null,
       "overflow_y": null,
       "padding": null,
       "right": null,
       "top": null,
       "visibility": null,
       "width": null
      }
     },
     "7722bbe6b51341d9a9237f025ad02adf": {
      "model_module": "@jupyter-widgets/controls",
      "model_module_version": "1.5.0",
      "model_name": "HTMLModel",
      "state": {
       "_dom_classes": [],
       "_model_module": "@jupyter-widgets/controls",
       "_model_module_version": "1.5.0",
       "_model_name": "HTMLModel",
       "_view_count": null,
       "_view_module": "@jupyter-widgets/controls",
       "_view_module_version": "1.5.0",
       "_view_name": "HTMLView",
       "description": "",
       "description_tooltip": null,
       "layout": "IPY_MODEL_d6132d438f5543f09253dfdd44a47f7b",
       "placeholder": "​",
       "style": "IPY_MODEL_e5ae0970b55d4de0a2d7b9f79d0a8e86",
       "value": " 60/60 [00:07&lt;00:00, 12.56it/s]"
      }
     },
     "a8d80fee2fa64e5bb97c4f75f646029b": {
      "model_module": "@jupyter-widgets/base",
      "model_module_version": "1.2.0",
      "model_name": "LayoutModel",
      "state": {
       "_model_module": "@jupyter-widgets/base",
       "_model_module_version": "1.2.0",
       "_model_name": "LayoutModel",
       "_view_count": null,
       "_view_module": "@jupyter-widgets/base",
       "_view_module_version": "1.2.0",
       "_view_name": "LayoutView",
       "align_content": null,
       "align_items": null,
       "align_self": null,
       "border": null,
       "bottom": null,
       "display": null,
       "flex": null,
       "flex_flow": null,
       "grid_area": null,
       "grid_auto_columns": null,
       "grid_auto_flow": null,
       "grid_auto_rows": null,
       "grid_column": null,
       "grid_gap": null,
       "grid_row": null,
       "grid_template_areas": null,
       "grid_template_columns": null,
       "grid_template_rows": null,
       "height": null,
       "justify_content": null,
       "justify_items": null,
       "left": null,
       "margin": null,
       "max_height": null,
       "max_width": null,
       "min_height": null,
       "min_width": null,
       "object_fit": null,
       "object_position": null,
       "order": null,
       "overflow": null,
       "overflow_x": null,
       "overflow_y": null,
       "padding": null,
       "right": null,
       "top": null,
       "visibility": null,
       "width": null
      }
     },
     "baa402487f5249ef83d7d2e89a605586": {
      "model_module": "@jupyter-widgets/controls",
      "model_module_version": "1.5.0",
      "model_name": "HTMLModel",
      "state": {
       "_dom_classes": [],
       "_model_module": "@jupyter-widgets/controls",
       "_model_module_version": "1.5.0",
       "_model_name": "HTMLModel",
       "_view_count": null,
       "_view_module": "@jupyter-widgets/controls",
       "_view_module_version": "1.5.0",
       "_view_name": "HTMLView",
       "description": "",
       "description_tooltip": null,
       "layout": "IPY_MODEL_a8d80fee2fa64e5bb97c4f75f646029b",
       "placeholder": "​",
       "style": "IPY_MODEL_1ba3ddac352b4f61a85daf59cd24da6f",
       "value": "100%"
      }
     },
     "d6132d438f5543f09253dfdd44a47f7b": {
      "model_module": "@jupyter-widgets/base",
      "model_module_version": "1.2.0",
      "model_name": "LayoutModel",
      "state": {
       "_model_module": "@jupyter-widgets/base",
       "_model_module_version": "1.2.0",
       "_model_name": "LayoutModel",
       "_view_count": null,
       "_view_module": "@jupyter-widgets/base",
       "_view_module_version": "1.2.0",
       "_view_name": "LayoutView",
       "align_content": null,
       "align_items": null,
       "align_self": null,
       "border": null,
       "bottom": null,
       "display": null,
       "flex": null,
       "flex_flow": null,
       "grid_area": null,
       "grid_auto_columns": null,
       "grid_auto_flow": null,
       "grid_auto_rows": null,
       "grid_column": null,
       "grid_gap": null,
       "grid_row": null,
       "grid_template_areas": null,
       "grid_template_columns": null,
       "grid_template_rows": null,
       "height": null,
       "justify_content": null,
       "justify_items": null,
       "left": null,
       "margin": null,
       "max_height": null,
       "max_width": null,
       "min_height": null,
       "min_width": null,
       "object_fit": null,
       "object_position": null,
       "order": null,
       "overflow": null,
       "overflow_x": null,
       "overflow_y": null,
       "padding": null,
       "right": null,
       "top": null,
       "visibility": null,
       "width": null
      }
     },
     "e5ae0970b55d4de0a2d7b9f79d0a8e86": {
      "model_module": "@jupyter-widgets/controls",
      "model_module_version": "1.5.0",
      "model_name": "DescriptionStyleModel",
      "state": {
       "_model_module": "@jupyter-widgets/controls",
       "_model_module_version": "1.5.0",
       "_model_name": "DescriptionStyleModel",
       "_view_count": null,
       "_view_module": "@jupyter-widgets/base",
       "_view_module_version": "1.2.0",
       "_view_name": "StyleView",
       "description_width": ""
      }
     },
     "f7d04d97be6b4320bebacf152d3d95b0": {
      "model_module": "@jupyter-widgets/controls",
      "model_module_version": "1.5.0",
      "model_name": "FloatProgressModel",
      "state": {
       "_dom_classes": [],
       "_model_module": "@jupyter-widgets/controls",
       "_model_module_version": "1.5.0",
       "_model_name": "FloatProgressModel",
       "_view_count": null,
       "_view_module": "@jupyter-widgets/controls",
       "_view_module_version": "1.5.0",
       "_view_name": "ProgressView",
       "bar_style": "success",
       "description": "",
       "description_tooltip": null,
       "layout": "IPY_MODEL_75f2bc1e747944afb55fe6b5933c1dd3",
       "max": 60.0,
       "min": 0.0,
       "orientation": "horizontal",
       "style": "IPY_MODEL_5fdd02859524474a9b62d56f5fe63465",
       "value": 60.0
      }
     }
    },
    "version_major": 2,
    "version_minor": 0
   }
  }
 },
 "nbformat": 4,
 "nbformat_minor": 5
}
